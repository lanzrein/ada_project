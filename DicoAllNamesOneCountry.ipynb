{
 "cells": [
  {
   "cell_type": "code",
   "execution_count": 502,
   "metadata": {},
   "outputs": [],
   "source": [
    "import pandas as pd\n",
    "import numpy as np\n",
    "import scipy as scp\n",
    "import geopy # pip install geopy if necessary"
   ]
  },
  {
   "cell_type": "markdown",
   "metadata": {},
   "source": [
    "## Make a dico to have unique countries ==> find country name in englsih"
   ]
  },
  {
   "cell_type": "code",
   "execution_count": 503,
   "metadata": {},
   "outputs": [],
   "source": [
    "dico = pd.read_csv('data/Destination-Coordinate.csv',delimiter=',',low_memory=False)"
   ]
  },
  {
   "cell_type": "code",
   "execution_count": 504,
   "metadata": {
    "scrolled": true
   },
   "outputs": [
    {
     "data": {
      "text/html": [
       "<div>\n",
       "<style scoped>\n",
       "    .dataframe tbody tr th:only-of-type {\n",
       "        vertical-align: middle;\n",
       "    }\n",
       "\n",
       "    .dataframe tbody tr th {\n",
       "        vertical-align: top;\n",
       "    }\n",
       "\n",
       "    .dataframe thead th {\n",
       "        text-align: right;\n",
       "    }\n",
       "</style>\n",
       "<table border=\"1\" class=\"dataframe\">\n",
       "  <thead>\n",
       "    <tr style=\"text-align: right;\">\n",
       "      <th></th>\n",
       "      <th>Unnamed: 0</th>\n",
       "      <th>destination</th>\n",
       "      <th>Coord</th>\n",
       "      <th>Point</th>\n",
       "      <th>Coord_x</th>\n",
       "      <th>Coord_y</th>\n",
       "    </tr>\n",
       "  </thead>\n",
       "  <tbody>\n",
       "    <tr>\n",
       "      <th>0</th>\n",
       "      <td>France</td>\n",
       "      <td>France</td>\n",
       "      <td>France métropolitaine, France</td>\n",
       "      <td>(46.603354, 1.8883335, 0.0)</td>\n",
       "      <td>46.603354</td>\n",
       "      <td>1.888333</td>\n",
       "    </tr>\n",
       "    <tr>\n",
       "      <th>1</th>\n",
       "      <td>Spain</td>\n",
       "      <td>Spain</td>\n",
       "      <td>España</td>\n",
       "      <td>(39.3262345, -4.8380649, 0.0)</td>\n",
       "      <td>39.326234</td>\n",
       "      <td>-4.838065</td>\n",
       "    </tr>\n",
       "    <tr>\n",
       "      <th>2</th>\n",
       "      <td>Germany</td>\n",
       "      <td>Germany</td>\n",
       "      <td>Deutschland, Europe</td>\n",
       "      <td>(51.0834196, 10.4234469, 0.0)</td>\n",
       "      <td>51.083420</td>\n",
       "      <td>10.423447</td>\n",
       "    </tr>\n",
       "    <tr>\n",
       "      <th>3</th>\n",
       "      <td>Switzerland</td>\n",
       "      <td>Switzerland</td>\n",
       "      <td>Schweiz/Suisse/Svizzera/Svizra</td>\n",
       "      <td>(46.7985624, 8.2319736, 0.0)</td>\n",
       "      <td>46.798562</td>\n",
       "      <td>8.231974</td>\n",
       "    </tr>\n",
       "    <tr>\n",
       "      <th>4</th>\n",
       "      <td>United Kingdom</td>\n",
       "      <td>United Kingdom</td>\n",
       "      <td>UK</td>\n",
       "      <td>(54.7023545, -3.2765753, 0.0)</td>\n",
       "      <td>54.702355</td>\n",
       "      <td>-3.276575</td>\n",
       "    </tr>\n",
       "  </tbody>\n",
       "</table>\n",
       "</div>"
      ],
      "text/plain": [
       "       Unnamed: 0     destination                           Coord  \\\n",
       "0          France          France   France métropolitaine, France   \n",
       "1           Spain           Spain                          España   \n",
       "2         Germany         Germany             Deutschland, Europe   \n",
       "3     Switzerland     Switzerland  Schweiz/Suisse/Svizzera/Svizra   \n",
       "4  United Kingdom  United Kingdom                              UK   \n",
       "\n",
       "                           Point    Coord_x    Coord_y  \n",
       "0    (46.603354, 1.8883335, 0.0)  46.603354   1.888333  \n",
       "1  (39.3262345, -4.8380649, 0.0)  39.326234  -4.838065  \n",
       "2  (51.0834196, 10.4234469, 0.0)  51.083420  10.423447  \n",
       "3   (46.7985624, 8.2319736, 0.0)  46.798562   8.231974  \n",
       "4  (54.7023545, -3.2765753, 0.0)  54.702355  -3.276575  "
      ]
     },
     "execution_count": 504,
     "metadata": {},
     "output_type": "execute_result"
    }
   ],
   "source": [
    "dico.head()"
   ]
  },
  {
   "cell_type": "code",
   "execution_count": 505,
   "metadata": {},
   "outputs": [
    {
     "data": {
      "text/plain": [
       "(238, 6)"
      ]
     },
     "execution_count": 505,
     "metadata": {},
     "output_type": "execute_result"
    }
   ],
   "source": [
    "dico.shape"
   ]
  },
  {
   "cell_type": "code",
   "execution_count": 506,
   "metadata": {
    "scrolled": true
   },
   "outputs": [],
   "source": [
    "dico.index = dico['Unnamed: 0']\n",
    "dico = dico.drop(columns=['Unnamed: 0'])"
   ]
  },
  {
   "cell_type": "code",
   "execution_count": 507,
   "metadata": {},
   "outputs": [
    {
     "data": {
      "text/html": [
       "<div>\n",
       "<style scoped>\n",
       "    .dataframe tbody tr th:only-of-type {\n",
       "        vertical-align: middle;\n",
       "    }\n",
       "\n",
       "    .dataframe tbody tr th {\n",
       "        vertical-align: top;\n",
       "    }\n",
       "\n",
       "    .dataframe thead th {\n",
       "        text-align: right;\n",
       "    }\n",
       "</style>\n",
       "<table border=\"1\" class=\"dataframe\">\n",
       "  <thead>\n",
       "    <tr style=\"text-align: right;\">\n",
       "      <th></th>\n",
       "      <th>destination</th>\n",
       "      <th>Coord</th>\n",
       "      <th>Point</th>\n",
       "      <th>Coord_x</th>\n",
       "      <th>Coord_y</th>\n",
       "      <th>joined</th>\n",
       "    </tr>\n",
       "    <tr>\n",
       "      <th>Unnamed: 0</th>\n",
       "      <th></th>\n",
       "      <th></th>\n",
       "      <th></th>\n",
       "      <th></th>\n",
       "      <th></th>\n",
       "      <th></th>\n",
       "    </tr>\n",
       "  </thead>\n",
       "  <tbody>\n",
       "    <tr>\n",
       "      <th>France</th>\n",
       "      <td>France</td>\n",
       "      <td>France métropolitaine, France</td>\n",
       "      <td>(46.603354, 1.8883335, 0.0)</td>\n",
       "      <td>46.603354</td>\n",
       "      <td>1.888333</td>\n",
       "      <td>46.603353999999996, 1.8883334999999999</td>\n",
       "    </tr>\n",
       "    <tr>\n",
       "      <th>Spain</th>\n",
       "      <td>Spain</td>\n",
       "      <td>España</td>\n",
       "      <td>(39.3262345, -4.8380649, 0.0)</td>\n",
       "      <td>39.326234</td>\n",
       "      <td>-4.838065</td>\n",
       "      <td>39.3262345, -4.838064900000001</td>\n",
       "    </tr>\n",
       "    <tr>\n",
       "      <th>Germany</th>\n",
       "      <td>Germany</td>\n",
       "      <td>Deutschland, Europe</td>\n",
       "      <td>(51.0834196, 10.4234469, 0.0)</td>\n",
       "      <td>51.083420</td>\n",
       "      <td>10.423447</td>\n",
       "      <td>51.0834196, 10.4234469</td>\n",
       "    </tr>\n",
       "    <tr>\n",
       "      <th>Switzerland</th>\n",
       "      <td>Switzerland</td>\n",
       "      <td>Schweiz/Suisse/Svizzera/Svizra</td>\n",
       "      <td>(46.7985624, 8.2319736, 0.0)</td>\n",
       "      <td>46.798562</td>\n",
       "      <td>8.231974</td>\n",
       "      <td>46.7985624, 8.231973599999998</td>\n",
       "    </tr>\n",
       "    <tr>\n",
       "      <th>United Kingdom</th>\n",
       "      <td>United Kingdom</td>\n",
       "      <td>UK</td>\n",
       "      <td>(54.7023545, -3.2765753, 0.0)</td>\n",
       "      <td>54.702355</td>\n",
       "      <td>-3.276575</td>\n",
       "      <td>54.702354500000006, -3.2765752999999997</td>\n",
       "    </tr>\n",
       "  </tbody>\n",
       "</table>\n",
       "</div>"
      ],
      "text/plain": [
       "                   destination                           Coord  \\\n",
       "Unnamed: 0                                                       \n",
       "France                  France   France métropolitaine, France   \n",
       "Spain                    Spain                          España   \n",
       "Germany                Germany             Deutschland, Europe   \n",
       "Switzerland        Switzerland  Schweiz/Suisse/Svizzera/Svizra   \n",
       "United Kingdom  United Kingdom                              UK   \n",
       "\n",
       "                                        Point    Coord_x    Coord_y  \\\n",
       "Unnamed: 0                                                            \n",
       "France            (46.603354, 1.8883335, 0.0)  46.603354   1.888333   \n",
       "Spain           (39.3262345, -4.8380649, 0.0)  39.326234  -4.838065   \n",
       "Germany         (51.0834196, 10.4234469, 0.0)  51.083420  10.423447   \n",
       "Switzerland      (46.7985624, 8.2319736, 0.0)  46.798562   8.231974   \n",
       "United Kingdom  (54.7023545, -3.2765753, 0.0)  54.702355  -3.276575   \n",
       "\n",
       "                                                 joined  \n",
       "Unnamed: 0                                               \n",
       "France           46.603353999999996, 1.8883334999999999  \n",
       "Spain                    39.3262345, -4.838064900000001  \n",
       "Germany                          51.0834196, 10.4234469  \n",
       "Switzerland               46.7985624, 8.231973599999998  \n",
       "United Kingdom  54.702354500000006, -3.2765752999999997  "
      ]
     },
     "execution_count": 507,
     "metadata": {},
     "output_type": "execute_result"
    }
   ],
   "source": [
    "dico['joined'] = dico['Coord_x'].astype(str) + ', ' + dico['Coord_y'].astype(str)\n",
    "dico.head()"
   ]
  },
  {
   "cell_type": "code",
   "execution_count": 508,
   "metadata": {},
   "outputs": [
    {
     "data": {
      "text/plain": [
       "' France'"
      ]
     },
     "execution_count": 508,
     "metadata": {},
     "output_type": "execute_result"
    }
   ],
   "source": [
    "# test\n",
    "location = geolocator.reverse('46.603354, 1.8883335', language='en')\n",
    "adress = location.address\n",
    "adress = adress.split(\",\")\n",
    "adress[-1]"
   ]
  },
  {
   "cell_type": "code",
   "execution_count": 509,
   "metadata": {},
   "outputs": [],
   "source": [
    "reverse = RateLimiter(geolocator.reverse, min_delay_seconds=5)"
   ]
  },
  {
   "cell_type": "code",
   "execution_count": 510,
   "metadata": {},
   "outputs": [
    {
     "data": {
      "text/html": [
       "<div>\n",
       "<style scoped>\n",
       "    .dataframe tbody tr th:only-of-type {\n",
       "        vertical-align: middle;\n",
       "    }\n",
       "\n",
       "    .dataframe tbody tr th {\n",
       "        vertical-align: top;\n",
       "    }\n",
       "\n",
       "    .dataframe thead th {\n",
       "        text-align: right;\n",
       "    }\n",
       "</style>\n",
       "<table border=\"1\" class=\"dataframe\">\n",
       "  <thead>\n",
       "    <tr style=\"text-align: right;\">\n",
       "      <th></th>\n",
       "      <th>destination</th>\n",
       "    </tr>\n",
       "    <tr>\n",
       "      <th>Unnamed: 0</th>\n",
       "      <th></th>\n",
       "    </tr>\n",
       "  </thead>\n",
       "  <tbody>\n",
       "    <tr>\n",
       "      <th>France</th>\n",
       "      <td>France</td>\n",
       "    </tr>\n",
       "    <tr>\n",
       "      <th>Spain</th>\n",
       "      <td>Spain</td>\n",
       "    </tr>\n",
       "    <tr>\n",
       "      <th>Germany</th>\n",
       "      <td>Germany</td>\n",
       "    </tr>\n",
       "    <tr>\n",
       "      <th>Switzerland</th>\n",
       "      <td>Switzerland</td>\n",
       "    </tr>\n",
       "    <tr>\n",
       "      <th>United Kingdom</th>\n",
       "      <td>United Kingdom</td>\n",
       "    </tr>\n",
       "  </tbody>\n",
       "</table>\n",
       "</div>"
      ],
      "text/plain": [
       "                   destination\n",
       "Unnamed: 0                    \n",
       "France                  France\n",
       "Spain                    Spain\n",
       "Germany                Germany\n",
       "Switzerland        Switzerland\n",
       "United Kingdom  United Kingdom"
      ]
     },
     "execution_count": 510,
     "metadata": {},
     "output_type": "execute_result"
    }
   ],
   "source": [
    "dico_reversed = dico['destination']\n",
    "dico_reversed = pd.DataFrame(dico_reversed)\n",
    "dico_reversed.head()"
   ]
  },
  {
   "cell_type": "code",
   "execution_count": 511,
   "metadata": {},
   "outputs": [],
   "source": [
    "def findCountry(x):\n",
    "    location = geolocator.reverse(x, language='en')\n",
    "    tmp = location.address\n",
    "    if(tmp):\n",
    "        tmp = tmp.split(\",\")\n",
    "        #print(tmp[-1])\n",
    "        return tmp[-1]\n",
    "    else:\n",
    "        return 'NaN'"
   ]
  },
  {
   "cell_type": "code",
   "execution_count": 512,
   "metadata": {},
   "outputs": [],
   "source": [
    "dico_reversed['country']= dico['joined'].apply(lambda x: findCountry(x))"
   ]
  },
  {
   "cell_type": "code",
   "execution_count": 513,
   "metadata": {},
   "outputs": [],
   "source": [
    "#dico_reversed.to_csv('data/AllNamesOneCountry.csv')"
   ]
  },
  {
   "cell_type": "code",
   "execution_count": 514,
   "metadata": {},
   "outputs": [],
   "source": [
    "#dico_reversed_save = dico_reversed\n",
    "dico_reversed = pd.read_csv('data/AllNamesOneCountry.csv',delimiter=',',low_memory=False)"
   ]
  },
  {
   "cell_type": "code",
   "execution_count": 515,
   "metadata": {
    "scrolled": true
   },
   "outputs": [
    {
     "data": {
      "text/html": [
       "<div>\n",
       "<style scoped>\n",
       "    .dataframe tbody tr th:only-of-type {\n",
       "        vertical-align: middle;\n",
       "    }\n",
       "\n",
       "    .dataframe tbody tr th {\n",
       "        vertical-align: top;\n",
       "    }\n",
       "\n",
       "    .dataframe thead th {\n",
       "        text-align: right;\n",
       "    }\n",
       "</style>\n",
       "<table border=\"1\" class=\"dataframe\">\n",
       "  <thead>\n",
       "    <tr style=\"text-align: right;\">\n",
       "      <th></th>\n",
       "      <th>Unnamed: 0</th>\n",
       "      <th>destination</th>\n",
       "      <th>country</th>\n",
       "    </tr>\n",
       "  </thead>\n",
       "  <tbody>\n",
       "    <tr>\n",
       "      <th>0</th>\n",
       "      <td>France</td>\n",
       "      <td>France</td>\n",
       "      <td>France</td>\n",
       "    </tr>\n",
       "    <tr>\n",
       "      <th>1</th>\n",
       "      <td>Spain</td>\n",
       "      <td>Spain</td>\n",
       "      <td>Spain</td>\n",
       "    </tr>\n",
       "    <tr>\n",
       "      <th>2</th>\n",
       "      <td>Germany</td>\n",
       "      <td>Germany</td>\n",
       "      <td>Europe</td>\n",
       "    </tr>\n",
       "    <tr>\n",
       "      <th>3</th>\n",
       "      <td>Switzerland</td>\n",
       "      <td>Switzerland</td>\n",
       "      <td>Switzerland</td>\n",
       "    </tr>\n",
       "    <tr>\n",
       "      <th>4</th>\n",
       "      <td>United Kingdom</td>\n",
       "      <td>United Kingdom</td>\n",
       "      <td>United Kingdom</td>\n",
       "    </tr>\n",
       "  </tbody>\n",
       "</table>\n",
       "</div>"
      ],
      "text/plain": [
       "       Unnamed: 0     destination          country\n",
       "0          France          France           France\n",
       "1           Spain           Spain            Spain\n",
       "2         Germany         Germany           Europe\n",
       "3     Switzerland     Switzerland      Switzerland\n",
       "4  United Kingdom  United Kingdom   United Kingdom"
      ]
     },
     "execution_count": 515,
     "metadata": {},
     "output_type": "execute_result"
    }
   ],
   "source": [
    "dico_reversed.head()"
   ]
  },
  {
   "cell_type": "code",
   "execution_count": 516,
   "metadata": {},
   "outputs": [
    {
     "data": {
      "text/html": [
       "<div>\n",
       "<style scoped>\n",
       "    .dataframe tbody tr th:only-of-type {\n",
       "        vertical-align: middle;\n",
       "    }\n",
       "\n",
       "    .dataframe tbody tr th {\n",
       "        vertical-align: top;\n",
       "    }\n",
       "\n",
       "    .dataframe thead th {\n",
       "        text-align: right;\n",
       "    }\n",
       "</style>\n",
       "<table border=\"1\" class=\"dataframe\">\n",
       "  <thead>\n",
       "    <tr style=\"text-align: right;\">\n",
       "      <th></th>\n",
       "      <th>Unnamed: 0</th>\n",
       "      <th>destination</th>\n",
       "      <th>country</th>\n",
       "    </tr>\n",
       "  </thead>\n",
       "  <tbody>\n",
       "    <tr>\n",
       "      <th>200</th>\n",
       "      <td>Antilles</td>\n",
       "      <td>Antilles</td>\n",
       "      <td>USA</td>\n",
       "    </tr>\n",
       "  </tbody>\n",
       "</table>\n",
       "</div>"
      ],
      "text/plain": [
       "    Unnamed: 0 destination country\n",
       "200   Antilles    Antilles     USA"
      ]
     },
     "execution_count": 516,
     "metadata": {},
     "output_type": "execute_result"
    }
   ],
   "source": [
    "dico_reversed[dico_reversed['destination'].values == 'Antilles']"
   ]
  },
  {
   "cell_type": "code",
   "execution_count": 517,
   "metadata": {
    "scrolled": true
   },
   "outputs": [
    {
     "data": {
      "text/html": [
       "<div>\n",
       "<style scoped>\n",
       "    .dataframe tbody tr th:only-of-type {\n",
       "        vertical-align: middle;\n",
       "    }\n",
       "\n",
       "    .dataframe tbody tr th {\n",
       "        vertical-align: top;\n",
       "    }\n",
       "\n",
       "    .dataframe thead th {\n",
       "        text-align: right;\n",
       "    }\n",
       "</style>\n",
       "<table border=\"1\" class=\"dataframe\">\n",
       "  <thead>\n",
       "    <tr style=\"text-align: right;\">\n",
       "      <th></th>\n",
       "      <th>Unnamed: 0</th>\n",
       "      <th>destination</th>\n",
       "      <th>country</th>\n",
       "    </tr>\n",
       "  </thead>\n",
       "  <tbody>\n",
       "    <tr>\n",
       "      <th>2</th>\n",
       "      <td>Germany</td>\n",
       "      <td>Germany</td>\n",
       "      <td>Europe</td>\n",
       "    </tr>\n",
       "    <tr>\n",
       "      <th>35</th>\n",
       "      <td>Deutschland</td>\n",
       "      <td>Deutschland</td>\n",
       "      <td>Europe</td>\n",
       "    </tr>\n",
       "    <tr>\n",
       "      <th>43</th>\n",
       "      <td>Allemagne</td>\n",
       "      <td>Allemagne</td>\n",
       "      <td>Europe</td>\n",
       "    </tr>\n",
       "    <tr>\n",
       "      <th>93</th>\n",
       "      <td>Alemania</td>\n",
       "      <td>Alemania</td>\n",
       "      <td>Europe</td>\n",
       "    </tr>\n",
       "    <tr>\n",
       "      <th>107</th>\n",
       "      <td>Europe</td>\n",
       "      <td>Europe</td>\n",
       "      <td>Europe</td>\n",
       "    </tr>\n",
       "    <tr>\n",
       "      <th>192</th>\n",
       "      <td>Alemanha</td>\n",
       "      <td>Alemanha</td>\n",
       "      <td>Europe</td>\n",
       "    </tr>\n",
       "    <tr>\n",
       "      <th>219</th>\n",
       "      <td>Duitsland</td>\n",
       "      <td>Duitsland</td>\n",
       "      <td>Europe</td>\n",
       "    </tr>\n",
       "    <tr>\n",
       "      <th>221</th>\n",
       "      <td>Tyskland</td>\n",
       "      <td>Tyskland</td>\n",
       "      <td>Europe</td>\n",
       "    </tr>\n",
       "  </tbody>\n",
       "</table>\n",
       "</div>"
      ],
      "text/plain": [
       "      Unnamed: 0  destination  country\n",
       "2        Germany      Germany   Europe\n",
       "35   Deutschland  Deutschland   Europe\n",
       "43     Allemagne    Allemagne   Europe\n",
       "93      Alemania     Alemania   Europe\n",
       "107       Europe       Europe   Europe\n",
       "192     Alemanha     Alemanha   Europe\n",
       "219    Duitsland    Duitsland   Europe\n",
       "221     Tyskland     Tyskland   Europe"
      ]
     },
     "execution_count": 517,
     "metadata": {},
     "output_type": "execute_result"
    }
   ],
   "source": [
    "dico_reversed[dico_reversed['country'].values == ' Europe']"
   ]
  },
  {
   "cell_type": "code",
   "execution_count": 518,
   "metadata": {},
   "outputs": [],
   "source": [
    "def removeSpace(l):\n",
    "    if not isinstance(l, str): #type(l) != <class 'str'>: # handle nan\n",
    "        return 'nan'\n",
    "\n",
    "    if l[0] == ' ':\n",
    "        return l[1:]\n",
    "    else:\n",
    "        return l"
   ]
  },
  {
   "cell_type": "code",
   "execution_count": 519,
   "metadata": {},
   "outputs": [
    {
     "data": {
      "text/html": [
       "<div>\n",
       "<style scoped>\n",
       "    .dataframe tbody tr th:only-of-type {\n",
       "        vertical-align: middle;\n",
       "    }\n",
       "\n",
       "    .dataframe tbody tr th {\n",
       "        vertical-align: top;\n",
       "    }\n",
       "\n",
       "    .dataframe thead th {\n",
       "        text-align: right;\n",
       "    }\n",
       "</style>\n",
       "<table border=\"1\" class=\"dataframe\">\n",
       "  <thead>\n",
       "    <tr style=\"text-align: right;\">\n",
       "      <th></th>\n",
       "      <th>Unnamed: 0</th>\n",
       "      <th>destination</th>\n",
       "      <th>country</th>\n",
       "    </tr>\n",
       "  </thead>\n",
       "  <tbody>\n",
       "    <tr>\n",
       "      <th>0</th>\n",
       "      <td>France</td>\n",
       "      <td>France</td>\n",
       "      <td>France</td>\n",
       "    </tr>\n",
       "    <tr>\n",
       "      <th>1</th>\n",
       "      <td>Spain</td>\n",
       "      <td>Spain</td>\n",
       "      <td>Spain</td>\n",
       "    </tr>\n",
       "    <tr>\n",
       "      <th>2</th>\n",
       "      <td>Germany</td>\n",
       "      <td>Germany</td>\n",
       "      <td>Europe</td>\n",
       "    </tr>\n",
       "    <tr>\n",
       "      <th>3</th>\n",
       "      <td>Switzerland</td>\n",
       "      <td>Switzerland</td>\n",
       "      <td>Switzerland</td>\n",
       "    </tr>\n",
       "    <tr>\n",
       "      <th>4</th>\n",
       "      <td>United Kingdom</td>\n",
       "      <td>United Kingdom</td>\n",
       "      <td>United Kingdom</td>\n",
       "    </tr>\n",
       "  </tbody>\n",
       "</table>\n",
       "</div>"
      ],
      "text/plain": [
       "       Unnamed: 0     destination         country\n",
       "0          France          France          France\n",
       "1           Spain           Spain           Spain\n",
       "2         Germany         Germany          Europe\n",
       "3     Switzerland     Switzerland     Switzerland\n",
       "4  United Kingdom  United Kingdom  United Kingdom"
      ]
     },
     "execution_count": 519,
     "metadata": {},
     "output_type": "execute_result"
    }
   ],
   "source": [
    "dico_reversed['country'] = dico_reversed['country'].apply(lambda l: removeSpace(l))\n",
    "dico_reversed.head()"
   ]
  },
  {
   "cell_type": "code",
   "execution_count": 520,
   "metadata": {},
   "outputs": [],
   "source": [
    "# Some manual changes"
   ]
  },
  {
   "cell_type": "code",
   "execution_count": 521,
   "metadata": {},
   "outputs": [],
   "source": [
    "def checkCountry(destination, country):\n",
    "    #print(row)\n",
    "    #print(destination)\n",
    "    #print(country)\n",
    "    l = destination\n",
    "    \n",
    "    if l == 'Republic of the Congo' or l == 'Democratic Republic of the Congo':\n",
    "        return 'Congo'\n",
    "    \n",
    "    elif l == 'Dominican Republic':\n",
    "        return 'Dominica'\n",
    "    elif l == 'Swaziland':\n",
    "        return 'Swaziland'\n",
    "    elif l == 'Suiss':\n",
    "        return 'Switzerland'\n",
    "    elif l == 'Hong Kong':\n",
    "        return 'Hong Kong'\n",
    "    elif l == 'Macau':\n",
    "        return 'Macau'\n",
    "    elif l == 'Dom-tom':\n",
    "        return 'France'\n",
    "    elif l == 'Mauritania':\n",
    "        return 'Mauritania'\n",
    "    elif l == 'European Union':\n",
    "        return 'Europe'\n",
    "    elif l == 'Central African Republic':\n",
    "        return 'CAR'\n",
    "    elif l == 'Virgin Islands of the United States':\n",
    "        return 'USA'\n",
    "    \n",
    "    elif l == 'French Polynesia' or l == 'Polynesie-francaise':\n",
    "        return 'France'\n",
    "    \n",
    "    elif l == 'Germany' or l == 'Deutschland' or l == 'Allemagne' or l == 'Alemania' or l == 'Alemanha' or l == 'Duitsland' or l == 'Tyskland':\n",
    "        return 'Germany'\n",
    "    \n",
    "    else:\n",
    "        return country\n",
    "    "
   ]
  },
  {
   "cell_type": "code",
   "execution_count": 522,
   "metadata": {},
   "outputs": [],
   "source": [
    "#dico_reversed['country'] = dico_reversed['destination'].apply(lambda l: checkCountry(l))\n",
    "#dico_reversed['country'] = dico_reversed.apply(lambda row: print(type(row['country'])), axis=1)\n",
    "dico_reversed['country'] = dico_reversed.apply(lambda row: checkCountry(row['destination'], row['country']), axis=1)"
   ]
  },
  {
   "cell_type": "code",
   "execution_count": 523,
   "metadata": {},
   "outputs": [],
   "source": [
    "#dico_reversed"
   ]
  },
  {
   "cell_type": "code",
   "execution_count": 524,
   "metadata": {},
   "outputs": [],
   "source": [
    "#dico_reversed[dico_reversed['destination'].values == 'Republic of the Congo']#['country'] = 'Congo'\n",
    "#err['country'] = 'Congo'\n",
    "#err"
   ]
  },
  {
   "cell_type": "code",
   "execution_count": 525,
   "metadata": {},
   "outputs": [],
   "source": [
    "dico_reversed.to_csv('data/Destination-Coordinate-MAN.csv')"
   ]
  },
  {
   "cell_type": "code",
   "execution_count": null,
   "metadata": {},
   "outputs": [],
   "source": []
  },
  {
   "cell_type": "code",
   "execution_count": null,
   "metadata": {},
   "outputs": [],
   "source": []
  },
  {
   "cell_type": "code",
   "execution_count": null,
   "metadata": {},
   "outputs": [],
   "source": []
  },
  {
   "cell_type": "code",
   "execution_count": null,
   "metadata": {},
   "outputs": [],
   "source": []
  },
  {
   "cell_type": "code",
   "execution_count": null,
   "metadata": {},
   "outputs": [],
   "source": []
  },
  {
   "cell_type": "code",
   "execution_count": null,
   "metadata": {},
   "outputs": [],
   "source": []
  }
 ],
 "metadata": {
  "kernelspec": {
   "display_name": "Python 3",
   "language": "python",
   "name": "python3"
  },
  "language_info": {
   "codemirror_mode": {
    "name": "ipython",
    "version": 3
   },
   "file_extension": ".py",
   "mimetype": "text/x-python",
   "name": "python",
   "nbconvert_exporter": "python",
   "pygments_lexer": "ipython3",
   "version": "3.6.5"
  }
 },
 "nbformat": 4,
 "nbformat_minor": 2
}
