{
 "cells": [
  {
   "cell_type": "code",
   "execution_count": 1,
   "metadata": {},
   "outputs": [],
   "source": [
    "import scipy as sp\n",
    "import pandas as pd\n",
    "import numpy as np"
   ]
  },
  {
   "cell_type": "code",
   "execution_count": 44,
   "metadata": {},
   "outputs": [],
   "source": [
    "DATAPATH = 'data/'"
   ]
  },
  {
   "cell_type": "code",
   "execution_count": 57,
   "metadata": {},
   "outputs": [],
   "source": [
    "data = pd.read_csv(DATAPATH+'palm_oil.csv',delimiter=',',low_memory=False)\n",
    "data_total = pd.read_csv(DATAPATH+'cleaned_unique_index.csv',delimiter=',',low_memory=False)"
   ]
  },
  {
   "cell_type": "code",
   "execution_count": 58,
   "metadata": {},
   "outputs": [],
   "source": [
    "data_total.set_index('code',inplace=True)\n",
    "data.set_index('code',inplace=True)\n"
   ]
  },
  {
   "cell_type": "markdown",
   "metadata": {},
   "source": [
    "# Exploring the number of aliments that contain palm oil"
   ]
  },
  {
   "cell_type": "code",
   "execution_count": 60,
   "metadata": {},
   "outputs": [
    {
     "name": "stdout",
     "output_type": "stream",
     "text": [
      "We have a total of 665693 articles entered\n",
      "Out of those we have information about palm oil on 387961 articles \n",
      "This represents 58.279267 % \n"
     ]
    }
   ],
   "source": [
    "total_count = data_total.shape[0]\n",
    "palm_oil_count = data.shape[0]\n",
    "percentage = palm_oil_count / total_count * 100\n",
    "\n",
    "print(\"We have a total of %d articles entered\" % total_count)\n",
    "print(\"Out of those we have information about palm oil on %d articles \" % palm_oil_count)\n",
    "print(\"This represents %f %% \" % percentage)"
   ]
  },
  {
   "cell_type": "markdown",
   "metadata": {},
   "source": [
    "- While this amount seems not enough it is still more than half articles. We remove from our study all articles that we do not have information about as they could make future analysis biased. The sample of size 387964 is still a fairly large sample size that we can make some statistical analysis on"
   ]
  },
  {
   "cell_type": "code",
   "execution_count": 61,
   "metadata": {},
   "outputs": [
    {
     "data": {
      "text/html": [
       "<div>\n",
       "<style scoped>\n",
       "    .dataframe tbody tr th:only-of-type {\n",
       "        vertical-align: middle;\n",
       "    }\n",
       "\n",
       "    .dataframe tbody tr th {\n",
       "        vertical-align: top;\n",
       "    }\n",
       "\n",
       "    .dataframe thead th {\n",
       "        text-align: right;\n",
       "    }\n",
       "</style>\n",
       "<table border=\"1\" class=\"dataframe\">\n",
       "  <thead>\n",
       "    <tr style=\"text-align: right;\">\n",
       "      <th></th>\n",
       "      <th>ingredients_from_palm_oil_n</th>\n",
       "      <th>ingredients_from_palm_oil</th>\n",
       "      <th>ingredients_from_palm_oil_tags</th>\n",
       "      <th>ingredients_that_may_be_from_palm_oil_n</th>\n",
       "      <th>ingredients_that_may_be_from_palm_oil</th>\n",
       "      <th>ingredients_that_may_be_from_palm_oil_tags</th>\n",
       "    </tr>\n",
       "    <tr>\n",
       "      <th>code</th>\n",
       "      <th></th>\n",
       "      <th></th>\n",
       "      <th></th>\n",
       "      <th></th>\n",
       "      <th></th>\n",
       "      <th></th>\n",
       "    </tr>\n",
       "  </thead>\n",
       "  <tbody>\n",
       "    <tr>\n",
       "      <th>0000000001199</th>\n",
       "      <td>0.0</td>\n",
       "      <td>NaN</td>\n",
       "      <td>NaN</td>\n",
       "      <td>0.0</td>\n",
       "      <td>NaN</td>\n",
       "      <td>NaN</td>\n",
       "    </tr>\n",
       "    <tr>\n",
       "      <th>0000000001663</th>\n",
       "      <td>0.0</td>\n",
       "      <td>NaN</td>\n",
       "      <td>NaN</td>\n",
       "      <td>0.0</td>\n",
       "      <td>NaN</td>\n",
       "      <td>NaN</td>\n",
       "    </tr>\n",
       "    <tr>\n",
       "      <th>0000000002264</th>\n",
       "      <td>0.0</td>\n",
       "      <td>NaN</td>\n",
       "      <td>NaN</td>\n",
       "      <td>0.0</td>\n",
       "      <td>NaN</td>\n",
       "      <td>NaN</td>\n",
       "    </tr>\n",
       "    <tr>\n",
       "      <th>0000000003827</th>\n",
       "      <td>0.0</td>\n",
       "      <td>NaN</td>\n",
       "      <td>NaN</td>\n",
       "      <td>0.0</td>\n",
       "      <td>NaN</td>\n",
       "      <td>NaN</td>\n",
       "    </tr>\n",
       "    <tr>\n",
       "      <th>0000000004510</th>\n",
       "      <td>0.0</td>\n",
       "      <td>NaN</td>\n",
       "      <td>NaN</td>\n",
       "      <td>0.0</td>\n",
       "      <td>NaN</td>\n",
       "      <td>NaN</td>\n",
       "    </tr>\n",
       "  </tbody>\n",
       "</table>\n",
       "</div>"
      ],
      "text/plain": [
       "               ingredients_from_palm_oil_n  ingredients_from_palm_oil  \\\n",
       "code                                                                    \n",
       "0000000001199                          0.0                        NaN   \n",
       "0000000001663                          0.0                        NaN   \n",
       "0000000002264                          0.0                        NaN   \n",
       "0000000003827                          0.0                        NaN   \n",
       "0000000004510                          0.0                        NaN   \n",
       "\n",
       "              ingredients_from_palm_oil_tags  \\\n",
       "code                                           \n",
       "0000000001199                            NaN   \n",
       "0000000001663                            NaN   \n",
       "0000000002264                            NaN   \n",
       "0000000003827                            NaN   \n",
       "0000000004510                            NaN   \n",
       "\n",
       "               ingredients_that_may_be_from_palm_oil_n  \\\n",
       "code                                                     \n",
       "0000000001199                                      0.0   \n",
       "0000000001663                                      0.0   \n",
       "0000000002264                                      0.0   \n",
       "0000000003827                                      0.0   \n",
       "0000000004510                                      0.0   \n",
       "\n",
       "               ingredients_that_may_be_from_palm_oil  \\\n",
       "code                                                   \n",
       "0000000001199                                    NaN   \n",
       "0000000001663                                    NaN   \n",
       "0000000002264                                    NaN   \n",
       "0000000003827                                    NaN   \n",
       "0000000004510                                    NaN   \n",
       "\n",
       "              ingredients_that_may_be_from_palm_oil_tags  \n",
       "code                                                      \n",
       "0000000001199                                        NaN  \n",
       "0000000001663                                        NaN  \n",
       "0000000002264                                        NaN  \n",
       "0000000003827                                        NaN  \n",
       "0000000004510                                        NaN  "
      ]
     },
     "execution_count": 61,
     "metadata": {},
     "output_type": "execute_result"
    }
   ],
   "source": [
    "data.head()"
   ]
  },
  {
   "cell_type": "code",
   "execution_count": 62,
   "metadata": {},
   "outputs": [],
   "source": [
    "contains_palm = data[data['ingredients_from_palm_oil_n'] > 0.0]\n",
    "may_contain_palm = data[data['ingredients_that_may_be_from_palm_oil_n'] > 0.0]"
   ]
  },
  {
   "cell_type": "code",
   "execution_count": 63,
   "metadata": {},
   "outputs": [
    {
     "data": {
      "text/plain": [
       "Index(['0000000290616', '0000069006562', '00023092', '00035460', '00052283',\n",
       "       '00087728', '00088749', '00096225', '00099202', '00101356',\n",
       "       ...\n",
       "       '9556085735739', '9556121020164', '9556417639339', '9556439887497',\n",
       "       '9556587103869', '96121283', '9714176130355', '98152056', '98797554',\n",
       "       '99515874'],\n",
       "      dtype='object', name='code', length=8229)"
      ]
     },
     "execution_count": 63,
     "metadata": {},
     "output_type": "execute_result"
    }
   ],
   "source": [
    "contains_palm.index.difference(may_contain_palm.index)"
   ]
  },
  {
   "cell_type": "code",
   "execution_count": null,
   "metadata": {},
   "outputs": [],
   "source": [
    "contains_palm['inde'.plot.bar(logy=True)"
   ]
  },
  {
   "cell_type": "code",
   "execution_count": null,
   "metadata": {},
   "outputs": [],
   "source": []
  }
 ],
 "metadata": {
  "kernelspec": {
   "display_name": "Python [conda env:ada]",
   "language": "python",
   "name": "conda-env-ada-py"
  },
  "language_info": {
   "codemirror_mode": {
    "name": "ipython",
    "version": 3
   },
   "file_extension": ".py",
   "mimetype": "text/x-python",
   "name": "python",
   "nbconvert_exporter": "python",
   "pygments_lexer": "ipython3",
   "version": "3.6.6"
  }
 },
 "nbformat": 4,
 "nbformat_minor": 2
}
