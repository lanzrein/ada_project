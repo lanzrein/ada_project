{
 "cells": [
  {
   "cell_type": "code",
   "execution_count": 2,
   "metadata": {},
   "outputs": [],
   "source": [
    "import scipy as sp\n",
    "import pandas as pd\n",
    "import numpy as np\n",
    "import matplotlib.pyplot as plt"
   ]
  },
  {
   "cell_type": "code",
   "execution_count": 3,
   "metadata": {},
   "outputs": [],
   "source": [
    "DATAPATH = 'data/'"
   ]
  },
  {
   "cell_type": "code",
   "execution_count": 4,
   "metadata": {},
   "outputs": [],
   "source": [
    "data = pd.read_csv(DATAPATH+'palm_oil.csv',delimiter=',',low_memory=False)\n",
    "data_total = pd.read_csv(DATAPATH+'cleaned_unique_index.csv',delimiter=',',low_memory=False)"
   ]
  },
  {
   "cell_type": "code",
   "execution_count": 5,
   "metadata": {},
   "outputs": [],
   "source": [
    "data_total.set_index('code',inplace=True)\n",
    "data.set_index('code',inplace=True)\n"
   ]
  },
  {
   "cell_type": "markdown",
   "metadata": {},
   "source": [
    "# Exploring the number of aliments that contain palm oil"
   ]
  },
  {
   "cell_type": "code",
   "execution_count": 6,
   "metadata": {},
   "outputs": [
    {
     "name": "stdout",
     "output_type": "stream",
     "text": [
      "We have a total of 665693 articles entered\n",
      "Out of those we have information about palm oil on 387961 articles \n",
      "This represents 58.279267 % \n"
     ]
    }
   ],
   "source": [
    "total_count = data_total.shape[0]\n",
    "palm_oil_count = data.shape[0]\n",
    "percentage = palm_oil_count / total_count * 100\n",
    "\n",
    "print(\"We have a total of %d articles entered\" % total_count)\n",
    "print(\"Out of those we have information about palm oil on %d articles \" % palm_oil_count)\n",
    "print(\"This represents %f %% \" % percentage)"
   ]
  },
  {
   "cell_type": "markdown",
   "metadata": {},
   "source": [
    "- While this amount seems not enough it is still more than half articles. We remove from our study all articles that we do not have information about as they could make future analysis biased. The sample of size 387964 is still a fairly large sample size that we can make some statistical analysis on"
   ]
  },
  {
   "cell_type": "code",
   "execution_count": 7,
   "metadata": {},
   "outputs": [
    {
     "data": {
      "text/html": [
       "<div>\n",
       "<style scoped>\n",
       "    .dataframe tbody tr th:only-of-type {\n",
       "        vertical-align: middle;\n",
       "    }\n",
       "\n",
       "    .dataframe tbody tr th {\n",
       "        vertical-align: top;\n",
       "    }\n",
       "\n",
       "    .dataframe thead th {\n",
       "        text-align: right;\n",
       "    }\n",
       "</style>\n",
       "<table border=\"1\" class=\"dataframe\">\n",
       "  <thead>\n",
       "    <tr style=\"text-align: right;\">\n",
       "      <th></th>\n",
       "      <th>ingredients_from_palm_oil_n</th>\n",
       "      <th>ingredients_from_palm_oil</th>\n",
       "      <th>ingredients_from_palm_oil_tags</th>\n",
       "      <th>ingredients_that_may_be_from_palm_oil_n</th>\n",
       "      <th>ingredients_that_may_be_from_palm_oil</th>\n",
       "      <th>ingredients_that_may_be_from_palm_oil_tags</th>\n",
       "    </tr>\n",
       "    <tr>\n",
       "      <th>code</th>\n",
       "      <th></th>\n",
       "      <th></th>\n",
       "      <th></th>\n",
       "      <th></th>\n",
       "      <th></th>\n",
       "      <th></th>\n",
       "    </tr>\n",
       "  </thead>\n",
       "  <tbody>\n",
       "    <tr>\n",
       "      <th>0000000001199</th>\n",
       "      <td>0.0</td>\n",
       "      <td>NaN</td>\n",
       "      <td>NaN</td>\n",
       "      <td>0.0</td>\n",
       "      <td>NaN</td>\n",
       "      <td>NaN</td>\n",
       "    </tr>\n",
       "    <tr>\n",
       "      <th>0000000001663</th>\n",
       "      <td>0.0</td>\n",
       "      <td>NaN</td>\n",
       "      <td>NaN</td>\n",
       "      <td>0.0</td>\n",
       "      <td>NaN</td>\n",
       "      <td>NaN</td>\n",
       "    </tr>\n",
       "    <tr>\n",
       "      <th>0000000002264</th>\n",
       "      <td>0.0</td>\n",
       "      <td>NaN</td>\n",
       "      <td>NaN</td>\n",
       "      <td>0.0</td>\n",
       "      <td>NaN</td>\n",
       "      <td>NaN</td>\n",
       "    </tr>\n",
       "    <tr>\n",
       "      <th>0000000003827</th>\n",
       "      <td>0.0</td>\n",
       "      <td>NaN</td>\n",
       "      <td>NaN</td>\n",
       "      <td>0.0</td>\n",
       "      <td>NaN</td>\n",
       "      <td>NaN</td>\n",
       "    </tr>\n",
       "    <tr>\n",
       "      <th>0000000004510</th>\n",
       "      <td>0.0</td>\n",
       "      <td>NaN</td>\n",
       "      <td>NaN</td>\n",
       "      <td>0.0</td>\n",
       "      <td>NaN</td>\n",
       "      <td>NaN</td>\n",
       "    </tr>\n",
       "  </tbody>\n",
       "</table>\n",
       "</div>"
      ],
      "text/plain": [
       "               ingredients_from_palm_oil_n  ingredients_from_palm_oil  \\\n",
       "code                                                                    \n",
       "0000000001199                          0.0                        NaN   \n",
       "0000000001663                          0.0                        NaN   \n",
       "0000000002264                          0.0                        NaN   \n",
       "0000000003827                          0.0                        NaN   \n",
       "0000000004510                          0.0                        NaN   \n",
       "\n",
       "              ingredients_from_palm_oil_tags  \\\n",
       "code                                           \n",
       "0000000001199                            NaN   \n",
       "0000000001663                            NaN   \n",
       "0000000002264                            NaN   \n",
       "0000000003827                            NaN   \n",
       "0000000004510                            NaN   \n",
       "\n",
       "               ingredients_that_may_be_from_palm_oil_n  \\\n",
       "code                                                     \n",
       "0000000001199                                      0.0   \n",
       "0000000001663                                      0.0   \n",
       "0000000002264                                      0.0   \n",
       "0000000003827                                      0.0   \n",
       "0000000004510                                      0.0   \n",
       "\n",
       "               ingredients_that_may_be_from_palm_oil  \\\n",
       "code                                                   \n",
       "0000000001199                                    NaN   \n",
       "0000000001663                                    NaN   \n",
       "0000000002264                                    NaN   \n",
       "0000000003827                                    NaN   \n",
       "0000000004510                                    NaN   \n",
       "\n",
       "              ingredients_that_may_be_from_palm_oil_tags  \n",
       "code                                                      \n",
       "0000000001199                                        NaN  \n",
       "0000000001663                                        NaN  \n",
       "0000000002264                                        NaN  \n",
       "0000000003827                                        NaN  \n",
       "0000000004510                                        NaN  "
      ]
     },
     "execution_count": 7,
     "metadata": {},
     "output_type": "execute_result"
    }
   ],
   "source": [
    "data.head()"
   ]
  },
  {
   "cell_type": "code",
   "execution_count": 12,
   "metadata": {},
   "outputs": [
    {
     "name": "stderr",
     "output_type": "stream",
     "text": [
      "C:\\Users\\johan\\Anaconda3\\envs\\ada\\lib\\site-packages\\ipykernel\\__main__.py:3: SettingWithCopyWarning: \n",
      "A value is trying to be set on a copy of a slice from a DataFrame.\n",
      "Try using .loc[row_indexer,col_indexer] = value instead\n",
      "\n",
      "See the caveats in the documentation: http://pandas.pydata.org/pandas-docs/stable/indexing.html#indexing-view-versus-copy\n",
      "  app.launch_new_instance()\n",
      "C:\\Users\\johan\\Anaconda3\\envs\\ada\\lib\\site-packages\\ipykernel\\__main__.py:4: SettingWithCopyWarning: \n",
      "A value is trying to be set on a copy of a slice from a DataFrame.\n",
      "Try using .loc[row_indexer,col_indexer] = value instead\n",
      "\n",
      "See the caveats in the documentation: http://pandas.pydata.org/pandas-docs/stable/indexing.html#indexing-view-versus-copy\n"
     ]
    }
   ],
   "source": [
    "contains_palm = data[data['ingredients_from_palm_oil_n'] > 0.0]\n",
    "may_contain_palm = data[data['ingredients_that_may_be_from_palm_oil_n'] > 0.0]\n",
    "contains_palm['count'] = 1\n",
    "may_contain_palm['count'] = 1\n"
   ]
  },
  {
   "cell_type": "code",
   "execution_count": 13,
   "metadata": {},
   "outputs": [
    {
     "data": {
      "text/plain": [
       "Index(['0000000290616', '0000069006562', '00023092', '00035460', '00052283',\n",
       "       '00087728', '00088749', '00096225', '00099202', '00101356',\n",
       "       ...\n",
       "       '9556085735739', '9556121020164', '9556417639339', '9556439887497',\n",
       "       '9556587103869', '96121283', '9714176130355', '98152056', '98797554',\n",
       "       '99515874'],\n",
       "      dtype='object', name='code', length=8229)"
      ]
     },
     "execution_count": 13,
     "metadata": {},
     "output_type": "execute_result"
    }
   ],
   "source": [
    "contains_palm.index.difference(may_contain_palm.index)\n",
    "# This can be useful to see that there is some correlation between may_contain <->contains"
   ]
  },
  {
   "cell_type": "code",
   "execution_count": 23,
   "metadata": {
    "scrolled": false
   },
   "outputs": [
    {
     "data": {
      "image/png": "[encoded data removed]",
      "text/plain": [
       "<Figure size 432x288 with 1 Axes>"
      ]
     },
     "metadata": {
      "needs_background": "light"
     },
     "output_type": "display_data"
    },
    {
     "data": {
      "image/png": "[encoded data removed]",
      "text/plain": [
       "<Figure size 432x288 with 1 Axes>"
      ]
     },
     "metadata": {
      "needs_background": "light"
     },
     "output_type": "display_data"
    }
   ],
   "source": [
    "count_palm = contains_palm.groupby(\"ingredients_from_palm_oil_n\")['count'].count()\n",
    "count_may = may_contain_palm.groupby(\"ingredients_that_may_be_from_palm_oil_n\")['count'].count()\n",
    "count_palm.plot.bar(logy=True,title=\"Count of palm oil ingredient by number in product\",color='b')\n",
    "plt.xlabel(\"Ingredient amount\")\n",
    "plt.show()\n",
    "count_may.plot.bar(logy=True,title=\"Count of palm oil related ingredient by number in product\",color='b')\n",
    "plt.xlabel(\"Ingredient amount\")\n",
    "plt.show()"
   ]
  },
  {
   "cell_type": "markdown",
   "metadata": {},
   "source": [
    "- We can see that that most of the product seem to have only one ingredient or two that are related to palm oil\n",
    "- However the product that may contains palm oil can have a little more ingredients. "
   ]
  },
  {
   "cell_type": "code",
   "execution_count": 20,
   "metadata": {},
   "outputs": [
    {
     "name": "stdout",
     "output_type": "stream",
     "text": [
      "There is 11768 articles that contain palm oil.\n",
      "There is 22433 articles that may contain palm oil \n",
      "The correlation between food that contains palm oil and that may contains palm oil is 0.193331 \n"
     ]
    }
   ],
   "source": [
    "## One can wonder how much this represents \n",
    "cnt_palm = contains_palm.shape[0] \n",
    "may_cnt_palm = may_contain_palm.shape[0]\n",
    "print(\"There is %d articles that contain palm oil.\"%cnt_palm)\n",
    "print(\"There is %d articles that may contain palm oil \"%may_cnt_palm)\n",
    "correlation = data[\"ingredients_from_palm_oil_n\"].corr(data[\"ingredients_that_may_be_from_palm_oil_n\"],method=\"pearson\")\n",
    "print(\"The correlation between food that contains palm oil and that may contains palm oil is %f \" % correlation)"
   ]
  },
  {
   "cell_type": "code",
   "execution_count": 25,
   "metadata": {},
   "outputs": [
    {
     "data": {
      "text/html": [
       "<div>\n",
       "<style scoped>\n",
       "    .dataframe tbody tr th:only-of-type {\n",
       "        vertical-align: middle;\n",
       "    }\n",
       "\n",
       "    .dataframe tbody tr th {\n",
       "        vertical-align: top;\n",
       "    }\n",
       "\n",
       "    .dataframe thead th {\n",
       "        text-align: right;\n",
       "    }\n",
       "</style>\n",
       "<table border=\"1\" class=\"dataframe\">\n",
       "  <thead>\n",
       "    <tr style=\"text-align: right;\">\n",
       "      <th></th>\n",
       "      <th>origins_tags</th>\n",
       "      <th>origins_tags.1</th>\n",
       "      <th>manufacturing_places_tags</th>\n",
       "    </tr>\n",
       "    <tr>\n",
       "      <th>code</th>\n",
       "      <th></th>\n",
       "      <th></th>\n",
       "      <th></th>\n",
       "    </tr>\n",
       "  </thead>\n",
       "  <tbody>\n",
       "    <tr>\n",
       "      <th>0000000020114</th>\n",
       "      <td>NaN</td>\n",
       "      <td>NaN</td>\n",
       "      <td>france</td>\n",
       "    </tr>\n",
       "    <tr>\n",
       "      <th>0000000274722</th>\n",
       "      <td>france</td>\n",
       "      <td>france</td>\n",
       "      <td>france</td>\n",
       "    </tr>\n",
       "    <tr>\n",
       "      <th>0000000290616</th>\n",
       "      <td>quebec</td>\n",
       "      <td>quebec</td>\n",
       "      <td>brossard-quebec</td>\n",
       "    </tr>\n",
       "    <tr>\n",
       "      <th>0000000394710</th>\n",
       "      <td>quebec</td>\n",
       "      <td>quebec</td>\n",
       "      <td>brossard-quebec</td>\n",
       "    </tr>\n",
       "    <tr>\n",
       "      <th>0000001071894</th>\n",
       "      <td>france</td>\n",
       "      <td>france</td>\n",
       "      <td>united-kingdom</td>\n",
       "    </tr>\n",
       "  </tbody>\n",
       "</table>\n",
       "</div>"
      ],
      "text/plain": [
       "              origins_tags origins_tags.1 manufacturing_places_tags\n",
       "code                                                               \n",
       "0000000020114          NaN            NaN                    france\n",
       "0000000274722       france         france                    france\n",
       "0000000290616       quebec         quebec           brossard-quebec\n",
       "0000000394710       quebec         quebec           brossard-quebec\n",
       "0000001071894       france         france            united-kingdom"
      ]
     },
     "execution_count": 25,
     "metadata": {},
     "output_type": "execute_result"
    }
   ],
   "source": [
    "food_origin = pd.read_csv(DATAPATH+\"food_origins.csv\")\n",
    "food_origin.set_index(\"code\", inplace=True)\n",
    "food_origin.head()"
   ]
  },
  {
   "cell_type": "code",
   "execution_count": 27,
   "metadata": {},
   "outputs": [
    {
     "data": {
      "text/plain": [
       "(11768, 11768, 86142)"
      ]
     },
     "execution_count": 27,
     "metadata": {},
     "output_type": "execute_result"
    }
   ],
   "source": [
    "contains_palm.join(food_origin).shape[0], contains_palm.shape[0],food_origin.shape[0]"
   ]
  },
  {
   "cell_type": "code",
   "execution_count": 125,
   "metadata": {
    "scrolled": true
   },
   "outputs": [],
   "source": [
    "x = contains_palm.join(data_total[\"origins\"],how='inner').dropna(subset=[\"origins\"])\n",
    "# pd.concat([pd.Series(row['count'], row['origins'].split(','))              \n",
    "#                     for _, row in x.iterrows()]).reset_index()\n",
    "z = x[\"origins\"].str.split(',').apply(pd.Series).unstack().dropna().to_frame()\n",
    "z.columns = [\"origins\"]\n",
    "z = z.reset_index().set_index(\"code\")\n",
    "z = z[[\"origins\"]]\n",
    "z = z[\"origins\"].value_counts()\n",
    "top_ten = z[z > 5]"
   ]
  },
  {
   "cell_type": "markdown",
   "metadata": {},
   "source": [
    "- We notice that a lot of places seem to be from france. But we cant really see the trend as it is often in a bad format.\n"
   ]
  },
  {
   "cell_type": "code",
   "execution_count": 126,
   "metadata": {
    "scrolled": false
   },
   "outputs": [
    {
     "data": {
      "text/plain": [
       "<matplotlib.axes._subplots.AxesSubplot at 0x232980bc978>"
      ]
     },
     "execution_count": 126,
     "metadata": {},
     "output_type": "execute_result"
    },
    {
     "data": {
      "image/png": "[encoded data removed]",
      "text/plain": [
       "<Figure size 432x288 with 1 Axes>"
      ]
     },
     "metadata": {
      "needs_background": "light"
     },
     "output_type": "display_data"
    }
   ],
   "source": [
    "top_ten.plot.bar(color='b')"
   ]
  },
  {
   "cell_type": "markdown",
   "metadata": {},
   "source": [
    "- Note that this is not 100% representative as the database is french so tehre is more products that come from France that are logged. "
   ]
  },
  {
   "cell_type": "code",
   "execution_count": null,
   "metadata": {},
   "outputs": [],
   "source": []
  }
 ],
 "metadata": {
  "kernelspec": {
   "display_name": "Python [conda env:ada]",
   "language": "python",
   "name": "conda-env-ada-py"
  },
  "language_info": {
   "codemirror_mode": {
    "name": "ipython",
    "version": 3
   },
   "file_extension": ".py",
   "mimetype": "text/x-python",
   "name": "python",
   "nbconvert_exporter": "python",
   "pygments_lexer": "ipython3",
   "version": "3.6.6"
  }
 },
 "nbformat": 4,
 "nbformat_minor": 2
}
