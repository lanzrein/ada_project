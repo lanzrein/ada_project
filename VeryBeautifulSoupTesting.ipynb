{
 "cells": [
  {
   "cell_type": "code",
   "execution_count": 1,
   "metadata": {},
   "outputs": [],
   "source": [
    "import pandas as pd\n",
    "from bs4 import BeautifulSoup\n",
    "import numpy as np\n",
    "import requests"
   ]
  },
  {
   "cell_type": "code",
   "execution_count": 2,
   "metadata": {},
   "outputs": [],
   "source": [
    "## just a few testing to see if we can get anything going with bs4 to find countries...\n",
    "BASE_URL = \"http://en.wikipedia.org/wiki/\"\n",
    "DATAPATH = \"data/\"\n",
    "data_total = pd.read_csv(DATAPATH+\"cleaned_unique_index.csv\",low_memory=False)\n",
    "\n",
    "data_total = data_total.dropna(subset=[\"product_name\"])"
   ]
  },
  {
   "cell_type": "code",
   "execution_count": 3,
   "metadata": {},
   "outputs": [],
   "source": [
    "data_total.set_index(\"code\",inplace=True)"
   ]
  },
  {
   "cell_type": "code",
   "execution_count": 45,
   "metadata": {},
   "outputs": [],
   "source": [
    "from difflib import SequenceMatcher\n",
    "\n",
    "def similars_strings(s1,s2,threshold=0.6):\n",
    "    return SequenceMatcher(a=s1,b=s2).ratio() >  threshold"
   ]
  },
  {
   "cell_type": "code",
   "execution_count": 69,
   "metadata": {},
   "outputs": [],
   "source": [
    "def page_exists(article):\n",
    "    article = article.replace(\" \", \"_\")\n",
    "    exists = True\n",
    "    r = requests.get(BASE_URL+article)\n",
    "    bs = BeautifulSoup(r.text,'html.parser')\n",
    "    if not(bs.title.string == \"Not Found\"):\n",
    "        get_bs = bs.findAll(\"b\")\n",
    "        for b in get_bs: \n",
    "            if b.string and similars_strings(b.string,notFoundWiki):\n",
    "                exists= False\n",
    "            \n",
    "    return exists\n"
   ]
  },
  {
   "cell_type": "code",
   "execution_count": 103,
   "metadata": {},
   "outputs": [
    {
     "name": "stdout",
     "output_type": "stream",
     "text": [
      "<a href=\"/wiki/Vevey\" title=\"Vevey\">Vevey</a>\n"
     ]
    },
    {
     "data": {
      "text/plain": [
       "'Vevey'"
      ]
     },
     "execution_count": 103,
     "metadata": {},
     "output_type": "execute_result"
    }
   ],
   "source": [
    "\n",
    "origins = [\"Country\", \"Origin\", \"Production\", \"City\",\"Headquarters\"]\n",
    "def try_get_localisation(article):\n",
    "    if page_exists(article):\n",
    "        r = requests.get(BASE_URL+article)\n",
    "        bs = BeautifulSoup(r.text,'html.parser')\n",
    "        for b in bs.findAll(\"th\") :\n",
    "            if b.string in origins:\n",
    "                return b.find_next(\"a\").string\n",
    "            \n",
    "        \n",
    "    return False\n",
    "            \n",
    "            \n",
    "try_get_localisation(\"Nestle\")"
   ]
  },
  {
   "cell_type": "code",
   "execution_count": 41,
   "metadata": {},
   "outputs": [
    {
     "data": {
      "text/plain": [
       "'\\n\\n\\n\\nÉvian - Wikipedia\\ndocument.documentElement.className = document.documentElement.className.replace( /(^|\\\\s)client-nojs(\\\\s|$)/, \"$1client-js$2\" );\\n(window.RLQ=window.RLQ||[]).push(function(){mw.config.set({\"wgCanonicalNamespace\":\"\",\"wgCanonicalSpecialPageName\":false,\"wgNamespaceNumber\":0,\"wgPageName\":\"Évian\",\"wgTitle\":\"Évian\",\"wgCurRevisionId\":861965993,\"wgRevisionId\":861965993,\"wgArticleId\":544196,\"wgIsArticle\":true,\"wgIsRedirect\":false,\"wgAction\":\"view\",\"wgUserName\":null,\"wgUserGroups\":[\"*\"],\"wgCategories\":[\"Articles needing additional references from March 2016\",\"All articles needing additional references\",\"All articles with unsourced statements\",\"Articles with unsourced statements from March 2017\",\"Commons category link from Wikidata\",\"Bottled water brands\",\"Groupe Danone brands\",\"French drinks\",\"Mineral water\",\"French brands\"],\"wgBreakFrames\":false,\"wgPageContentLanguage\":\"en\",\"wgPageContentModel\":\"wikitext\",\"wgSeparatorTransformTable\":[\"\",\"\"],\"wgDigitTransformTable\":[\"\",\"\"],\"wgDefaultDateFormat\":\"dmy\",\"wgMonthNames\":[\"\",\"January\",\"February\",\"March\",\"April\",\"May\",\"June\",\"July\",\"August\",\"September\",\"October\",\"November\",\"December\"],\"wgMonthNamesShort\":[\"\",\"Jan\",\"Feb\",\"Mar\",\"Apr\",\"May\",\"Jun\",\"Jul\",\"Aug\",\"Sep\",\"Oct\",\"Nov\",\"Dec\"],\"wgRelevantPageName\":\"Évian\",\"wgRelevantArticleId\":544196,\"wgRequestId\":\"W-bwXQpAAD8AADQ259cAAAAK\",\"wgCSPNonce\":false,\"wgIsProbablyEditable\":true,\"wgRelevantPageIsProbablyEditable\":true,\"wgRestrictionEdit\":[],\"wgRestrictionMove\":[],\"wgRedirectedFrom\":\"Evian\",\"wgFlaggedRevsParams\":{\"tags\":{}},\"wgStableRevisionId\":null,\"wgCategoryTreePageCategoryOptions\":\"{\\\\\"mode\\\\\":0,\\\\\"hideprefix\\\\\":20,\\\\\"showcount\\\\\":true,\\\\\"namespaces\\\\\":false}\",\"wgWikiEditorEnabledModules\":[],\"wgBetaFeaturesFeatures\":[],\"wgMediaViewerOnClick\":true,\"wgMediaViewerEnabledByDefault\":true,\"wgPopupsShouldSendModuleToUser\":true,\"wgPopupsConflictsWithNavPopupGadget\":false,\"wgVisualEditor\":{\"pageLanguageCode\":\"en\",\"pageLanguageDir\":\"ltr\",\"pageVariantFallbacks\":\"en\",\"usePageImages\":true,\"usePageDescriptions\":true},\"wgMFExpandAllSectionsUserOption\":true,\"wgMFEnableFontChanger\":true,\"wgMFDisplayWikibaseDescriptions\":{\"search\":true,\"nearby\":true,\"watchlist\":true,\"tagline\":false},\"wgRelatedArticles\":null,\"wgRelatedArticlesUseCirrusSearch\":true,\"wgRelatedArticlesOnlyUseCirrusSearch\":false,\"wgWMESchemaEditAttemptStepOversample\":false,\"wgULSCurrentAutonym\":\"English\",\"wgNoticeProject\":\"wikipedia\",\"wgCentralNoticeCookiesToDelete\":[],\"wgCentralNoticeCategoriesUsingLegacy\":[\"Fundraising\",\"fundraising\"],\"wgInternalRedirectTargetUrl\":\"/wiki/%C3%89vian\",\"wgWikibaseItemId\":\"Q1050918\",\"wgScoreNoteLanguages\":{\"arabic\":\"العربية\",\"catalan\":\"català\",\"deutsch\":\"Deutsch\",\"english\":\"English\",\"espanol\":\"español\",\"italiano\":\"italiano\",\"nederlands\":\"Nederlands\",\"norsk\":\"norsk\",\"portugues\":\"português\",\"suomi\":\"suomi\",\"svenska\":\"svenska\",\"vlaams\":\"West-Vlams\"},\"wgScoreDefaultNoteLanguage\":\"nederlands\",\"wgCentralAuthMobileDomain\":false,\"wgCodeMirrorEnabled\":true,\"wgVisualEditorToolbarScrollOffset\":0,\"wgVisualEditorUnsupportedEditParams\":[\"undo\",\"undoafter\",\"veswitched\"],\"wgEditSubmitButtonLabelPublish\":true});mw.loader.state({\"ext.gadget.charinsert-styles\":\"ready\",\"ext.globalCssJs.user.styles\":\"ready\",\"ext.globalCssJs.site.styles\":\"ready\",\"site.styles\":\"ready\",\"noscript\":\"ready\",\"user.styles\":\"ready\",\"ext.globalCssJs.user\":\"ready\",\"ext.globalCssJs.site\":\"ready\",\"user\":\"ready\",\"user.options\":\"ready\",\"user.tokens\":\"loading\",\"ext.cite.styles\":\"ready\",\"mediawiki.legacy.shared\":\"ready\",\"mediawiki.legacy.commonPrint\":\"ready\",\"mediawiki.toc.styles\":\"ready\",\"wikibase.client.init\":\"ready\",\"ext.visualEditor.desktopArticleTarget.noscript\":\"ready\",\"ext.uls.interlanguage\":\"ready\",\"ext.wikimediaBadges\":\"ready\",\"ext.3d.styles\":\"ready\",\"mediawiki.skinning.interface\":\"ready\",\"skins.vector.styles\":\"ready\"});mw.loader.implement(\"user.tokens@0tffind\",function($,jQuery,require,module){/*@nomin*/mw.user.tokens.set({\"editToken\":\"+\\\\\\\\\",\"patrolToken\":\"+\\\\\\\\\",\"watchToken\":\"+\\\\\\\\\",\"csrfToken\":\"+\\\\\\\\\"});\\n});RLPAGEMODULES=[\"mediawiki.action.view.redirect\",\"ext.cite.a11y\",\"site\",\"mediawiki.page.startup\",\"mediawiki.user\",\"mediawiki.page.ready\",\"mediawiki.toc\",\"mediawiki.searchSuggest\",\"ext.gadget.teahouse\",\"ext.gadget.ReferenceTooltips\",\"ext.gadget.watchlist-notice\",\"ext.gadget.DRN-wizard\",\"ext.gadget.charinsert\",\"ext.gadget.refToolbar\",\"ext.gadget.extra-toolbar-buttons\",\"ext.gadget.switcher\",\"ext.centralauth.centralautologin\",\"mmv.head\",\"mmv.bootstrap.autostart\",\"ext.popups\",\"ext.visualEditor.desktopArticleTarget.init\",\"ext.visualEditor.targetLoader\",\"ext.eventLogging.subscriber\",\"ext.wikimediaEvents\",\"ext.navigationTiming\",\"ext.uls.eventlogger\",\"ext.uls.init\",\"ext.uls.compactlinks\",\"ext.uls.interface\",\"ext.centralNotice.geoIP\",\"ext.centralNotice.startUp\",\"skins.vector.js\"];mw.loader.load(RLPAGEMODULES);});\\n\\n\\n\\n\\n\\n\\n\\n\\n\\n\\n\\n\\n\\n\\n\\n\\n\\n\\n\\n\\n\\n\\n\\n \\n\\n\\n\\n\\n\\nÉvian \\nFrom Wikipedia, the free encyclopedia \\xa0\\xa0(Redirected from Evian)\\n Jump to navigation\\nJump to search\\nThis article needs additional citations for verification. Please help improve this article by adding citations to reliable sources. Unsourced material may be challenged and removed. (March 2016) (Learn how and when to remove this template message)\\nThis article is about the brand of mineral water. For the football club, see Thonon Évian Savoie F.C. For the commune in eastern France, see Évian-les-Bains. For other uses, see Évian (disambiguation).\\n‹\\xa0The template Infobox bottled water is being considered for deletion.\\xa0›ÉvianCountryFranceSourceÉvian-les-BainsTypestillCalcium (Ca)80Chloride (Cl)6.8Magnesium (Mg)26Potassium (K)1Sodium (Na)6.5TDS309Websitehttp://www.evian.comAll concentrations in milligrams per liter (mg/L); pH without units\\nÉvian (/ˈeɪviɒn/ AY-vee-on; French pronunciation:\\xa0\\u200b[evjɑ̃]; stylized as evian), is a brand of mineral water coming from several sources near Évian-les-Bains, on the south shore of Lake Geneva.\\nToday, Évian is owned by Danone, a French multinational corporation. In addition to the mineral water, Danone Group uses the Evian name for a line of organic skin care products as well as a luxury resort in France.\\nIn popular culture, Évian is portrayed as a luxury and expensive bottled water. It was named in Agatha Christie\\'s Murder on the Orient Express. It is popular among Hollywood celebrities.[1] David LaChapelle photographed an Evian campaign juxtaposing a supermodel next to an Evian fountain formed from a Greek statue, which was painted to look like stone by Joanne Gair. The brand frequently collaborates with high-fashion designers for a series of limited edition bottles. Diane von Fürstenberg designed the limited edition bottle for 2013, Elie Saab for 2014, Kenzo for 2015, Alexander Wang for 2016, and Christian Lacroix for 2017.[citation needed]\\n\\nContents\\n\\n1 History\\n2 Environmentalism\\n3 References\\n4 External links\\n\\n\\nHistory[edit]\\nThis section does not cite any sources. Please help improve this section by adding citations to reliable sources. Unsourced material may be challenged and removed. (March 2016) (Learn how and when to remove this template message)\\nIn 1789 during a walk, the Marquis of Lessert drank water from the Sainte Catherine spring on the land of a M. Cachat. The marquis, who was allegedly suffering from kidney and liver problems, claimed that the water from the spring cured his ailments.\\nIn 1859 the business became a public company as the \"Société anonyme des eaux minérales de Cachat\" and a year later it became French when Savoy was incorporated into France under the Treaty of Turin. The French Ministry of Health reauthorized the bottling of Cachat water on the recommendation of the Medicine Academy in 1878. In 1908 Évian water began to be sold in glass bottles manufactured by the glass factory Souchon-Neuvesel, which today is a part of Owens-Illinois. The first PVC bottle was launched in 1969. During the following year, the BSN Group, which eventually became the Danone Group, took 100% control of the Évian brand. 1978 marked an entrance into the U.S. market. In 1995 Evian switched to collapsible PET bottles. \\nIn 1998, Évian teamed up with Virgin Records and EMI for the mix album Club Nation. The album featured many advertisements for Évian, including a logo on the cover, six full pages in the booklet, the image of a bottle of Évian on CD1 and a crushed bottle of Évian on CD2.\\nIn 2009, Évian launched the advertisement campaign, \"Evian Roller Babies\". The campaign won a Gold Award at the London International Awards 2009 for Best Visual Effects. As of 2012. Évian\\'s slogan is \"Live Young\".\\nIn 2018, Évian announced that it will make all of its plastic bottles from 100% recycled plastic by 2025, a move that will see the natural spring water brand adopt a ‘circular approach’ to its plastic usage, where plastic is kept within the economy and out of nature. In order to achieve its 2025 ambition, Évian is partnering with breakthrough technology companies, one of which is Loop™ Industries. Loop Industries has developed a technology that enables a continuous loop for recycling at large scale, transforming all types of PET plastic waste into the high-quality plastic required by Evian.[2]\\n\\nEnvironmentalism[edit]\\nIn April 2008, Évian created the Évian Water Protection Institute to work on three water and wetlands management projects with the Ramsar Convention. The three areas where the projects will take place are: Thailand’s Bung Khong, the La Plata Basin in Argentina, and the Jagdishpur Reservoir in Nepal.[3] Évian has also taken the initiative to cut their own energy and water use by incorporating post-consumer recycled PET plastic into the bottle sizes that receive the most sales.[4] The company has joined with RecycleBank in an effort to get consumers to recycle. Recyclebank is an award-based company that gives participating households redeemable points according to the amount of materials they recycle.[3]\\nSince 2009, through the Danone Ecosystem Fund, Danone supports long-term, locally led collection initiatives with positive social, environmental and business impacts, from reverse vending machines to inclusive recycling programs. Évian seeks to help reduce the amount of plastic waste in the environment. To do that, Évian, through its parent company Danone, will take part in a research mission with The Ocean Cleanup, a Dutch non-profit start up that has developed scalable advanced technologies to help rid the oceans of plastic.[5]\\n\\nReferences[edit]\\n\\n\\n^ Segal, David (January 25, 2005). \"Bottled Buzz\". The Washington Post..mw-parser-output cite.citation{font-style:inherit}.mw-parser-output q{quotes:\"\\\\\"\"\"\\\\\"\"\"\\'\"\"\\'\"}.mw-parser-output code.cs1-code{color:inherit;background:inherit;border:inherit;padding:inherit}.mw-parser-output .cs1-lock-free a{background:url(\"//upload.wikimedia.org/wikipedia/commons/thumb/6/65/Lock-green.svg/9px-Lock-green.svg.png\")no-repeat;background-position:right .1em center}.mw-parser-output .cs1-lock-limited a,.mw-parser-output .cs1-lock-registration a{background:url(\"//upload.wikimedia.org/wikipedia/commons/thumb/d/d6/Lock-gray-alt-2.svg/9px-Lock-gray-alt-2.svg.png\")no-repeat;background-position:right .1em center}.mw-parser-output .cs1-lock-subscription a{background:url(\"//upload.wikimedia.org/wikipedia/commons/thumb/a/aa/Lock-red-alt-2.svg/9px-Lock-red-alt-2.svg.png\")no-repeat;background-position:right .1em center}.mw-parser-output .cs1-subscription,.mw-parser-output .cs1-registration{color:#555}.mw-parser-output .cs1-subscription span,.mw-parser-output .cs1-registration span{border-bottom:1px dotted;cursor:help}.mw-parser-output .cs1-hidden-error{display:none;font-size:100%}.mw-parser-output .cs1-visible-error{font-size:100%}.mw-parser-output .cs1-subscription,.mw-parser-output .cs1-registration,.mw-parser-output .cs1-format{font-size:95%}.mw-parser-output .cs1-kern-left,.mw-parser-output .cs1-kern-wl-left{padding-left:0.2em}.mw-parser-output .cs1-kern-right,.mw-parser-output .cs1-kern-wl-right{padding-right:0.2em}\\n\\n^ \"evian® Transforms Its Approach to Plastic to Become a 100% Circular Brand by 2025\". BusinessWire. 2018-01-18. Retrieved 2018-01-18.\\n\\n^ a b Evian Plans Wetlands Preservation, Adds Recycled Plastic to Bottles GreenBiz Retrieved April 29, 2008\\n\\n^ Évian to Announce New Sustainable Development Steps on Earth Day The Beverage Network Retrieved April 30, 2008\\n\\n^ \"evian® Transforms Its Approach to Plastic to Become a 100% Circular Brand by 2025\". Retrieved 2018-01-18.\\n\\n\\nExternal links[edit]\\n\\n\\n\\nWikimedia Commons has media related to Evian.\\nOfficial website\\nvteGroupe DanoneCorporate directors\\nBruno Bonnell\\nRichard Goblet d\\'Alviella\\nMichel David-Weill\\nEmmanuel Faber\\nJean Laurent\\nHirokatsu Hirano\\nBernard Hours\\nChristian Lauble\\nHakan Mogren\\nJacques Nahmlas\\nBenoît Potier\\nFranck Riboud\\nJacques Vincent\\nBrands\\nActimel (DanActive in US)\\nActivia\\nAlpro\\nBrown Cow (yogurt)\\nDannon\\nDanimals\\nEarthbound Farm\\nEvian\\nHorizon Organic\\nInternational Delight\\nLand O\\'Lakes\\nLattella\\nMichel et Augustin\\nNutricia\\nOikos\\nProvamel\\nSilk\\nSo Delicious\\nVega\\nVolvic\\nWallaby Organic Yogurt\\nDivisions\\nFresh Dairy Products\\nInfant Nutrition\\nWaters\\nMedical Nutrition\\n\\nvteBottled water\\nBottled water\\nList of bottled water brands\\nBottled water ban\\nCanned water\\nCarbonated water\\nDrinking water\\nInternational Bottled Water Association\\nMineral water\\nPurified water\\nReuse of water bottles\\n\\n Bottled water portal\\n Water portal\\n Drink portal\\n Companies portal\\n\\xa0Category: Bottled water\\n WikiProject\\n\\n\\n\\n\\n \\n\\t\\t\\t\\t\\t\\tRetrieved from \"https://en.wikipedia.org/w/index.php?title=Évian&oldid=861965993\"\\t\\t\\t\\t\\t\\nCategories: Bottled water brandsGroupe Danone brandsFrench drinksMineral waterFrench brandsHidden categories: Articles needing additional references from March 2016All articles needing additional referencesAll articles with unsourced statementsArticles with unsourced statements from March 2017Commons category link from Wikidata \\n\\n\\n\\nNavigation menu\\n\\n\\nPersonal tools\\n\\nNot logged inTalkContributionsCreate accountLog in \\n\\n\\n\\nNamespaces\\n\\nArticleTalk \\n\\n\\n\\n\\nVariants\\n\\n\\n\\n\\n\\n\\n\\n\\n\\nViews\\n\\nReadEditView history \\n\\n\\n\\nMore\\n\\n\\n\\n\\n\\n\\n\\nSearch\\n\\n\\n\\n \\n\\n\\n\\n\\n\\n\\n\\nNavigation\\n\\n\\nMain pageContentsFeatured contentCurrent eventsRandom articleDonate to WikipediaWikipedia store \\n\\n\\n\\nInteraction\\n\\n\\nHelpAbout WikipediaCommunity portalRecent changesContact page \\n\\n\\n\\nTools\\n\\n\\nWhat links hereRelated changesUpload fileSpecial pagesPermanent linkPage informationWikidata itemCite this page \\n\\n\\n\\nPrint/export\\n\\n\\nCreate a bookDownload as PDFPrintable version \\n\\n\\n\\nIn other projects\\n\\n\\nWikimedia Commons \\n\\n\\n\\nLanguages\\n\\n\\nالعربيةБългарскиDeutschΕλληνικάEspañolFrançais한국어Bahasa IndonesiaItalianoעבריתNederlands日本語NorskPolskiRomânăРусскийSvenska中文 \\nEdit links \\n\\n\\n\\n\\n\\n This page was last edited on 1 October 2018, at 08:43\\xa0(UTC).\\nText is available under the Creative Commons Attribution-ShareAlike License;\\nadditional terms may apply.  By using this site, you agree to the Terms of Use and Privacy Policy. Wikipedia® is a registered trademark of the Wikimedia Foundation, Inc., a non-profit organization.\\n\\n\\nPrivacy policy\\nAbout Wikipedia\\nDisclaimers\\nContact Wikipedia\\nDevelopers\\nCookie statement\\nMobile view\\n\\n\\n\\n \\n\\n \\n\\n\\n\\n(window.RLQ=window.RLQ||[]).push(function(){mw.config.set({\"wgPageParseReport\":{\"limitreport\":{\"cputime\":\"0.372\",\"walltime\":\"0.531\",\"ppvisitednodes\":{\"value\":1170,\"limit\":1000000},\"ppgeneratednodes\":{\"value\":0,\"limit\":1500000},\"postexpandincludesize\":{\"value\":42443,\"limit\":2097152},\"templateargumentsize\":{\"value\":1283,\"limit\":2097152},\"expansiondepth\":{\"value\":14,\"limit\":40},\"expensivefunctioncount\":{\"value\":2,\"limit\":500},\"unstrip-depth\":{\"value\":1,\"limit\":20},\"unstrip-size\":{\"value\":8993,\"limit\":5000000},\"entityaccesscount\":{\"value\":1,\"limit\":400},\"timingprofile\":[\"100.00%  462.580      1 -total\",\" 20.13%   93.133      1 Template:Reflist\",\" 16.78%   77.618      3 Template:Cite_news\",\" 14.30%   66.137      1 Template:Commons_category\",\" 12.86%   59.470      1 Template:Commons\",\" 12.78%   59.123      1 Template:Refimprove\",\" 12.39%   57.319      1 Template:Sister_project\",\" 12.17%   56.304      2 Template:Navbox\",\" 11.71%   54.176      1 Template:Side_box\",\" 10.89%   50.381      1 Template:Infobox_Bottled_Water\"]},\"scribunto\":{\"limitreport-timeusage\":{\"value\":\"0.199\",\"limit\":\"10.000\"},\"limitreport-memusage\":{\"value\":5328312,\"limit\":52428800}},\"cachereport\":{\"origin\":\"mw1324\",\"timestamp\":\"20181122003401\",\"ttl\":1900800,\"transientcontent\":false}}});mw.config.set({\"wgBackendResponseTime\":93,\"wgHostname\":\"mw1268\"});});\\n\\n\\n'"
      ]
     },
     "execution_count": 41,
     "metadata": {},
     "output_type": "execute_result"
    }
   ],
   "source": [
    "xs = data_total.product_name[:2]\n",
    "notFoundWiki = \"Wikipedia does not have an article with this exact name.\"\n",
    "for val in xs.values:\n",
    "    if try_get_localisation(val):\n",
    "        print(try_get_localisation(val))"
   ]
  },
  {
   "cell_type": "code",
   "execution_count": null,
   "metadata": {},
   "outputs": [],
   "source": []
  },
  {
   "cell_type": "code",
   "execution_count": null,
   "metadata": {},
   "outputs": [],
   "source": []
  }
 ],
 "metadata": {
  "kernelspec": {
   "display_name": "Python [default]",
   "language": "python",
   "name": "python3"
  },
  "language_info": {
   "codemirror_mode": {
    "name": "ipython",
    "version": 3
   },
   "file_extension": ".py",
   "mimetype": "text/x-python",
   "name": "python",
   "nbconvert_exporter": "python",
   "pygments_lexer": "ipython3",
   "version": "3.6.5"
  }
 },
 "nbformat": 4,
 "nbformat_minor": 2
}
