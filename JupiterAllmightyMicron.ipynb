{
 "cells": [
  {
   "cell_type": "code",
   "execution_count": 1,
   "metadata": {},
   "outputs": [],
   "source": [
    "import pandas as pd\n",
    "import numpy as np\n",
    "import scipy as scp\n",
    "import scipy.stats\n",
    "import matplotlib.pyplot as plt"
   ]
  },
  {
   "cell_type": "code",
   "execution_count": 2,
   "metadata": {},
   "outputs": [],
   "source": [
    "DATAPATH='data/'"
   ]
  },
  {
   "cell_type": "code",
   "execution_count": 3,
   "metadata": {},
   "outputs": [],
   "source": [
    "data = pd.read_csv(DATAPATH+'cleaned_unique_index.csv',low_memory=False)"
   ]
  },
  {
   "cell_type": "code",
   "execution_count": 4,
   "metadata": {},
   "outputs": [],
   "source": [
    "data.set_index('code',inplace =True)"
   ]
  },
  {
   "cell_type": "code",
   "execution_count": 5,
   "metadata": {},
   "outputs": [],
   "source": [
    "data=data.sample(int(len(data) * .1))"
   ]
  },
  {
   "cell_type": "code",
   "execution_count": 6,
   "metadata": {},
   "outputs": [],
   "source": [
    "data_labels=data.labels_en.dropna().str.split(',')\n",
    "data_labels_exploded=data_labels.apply(pd.Series).unstack().dropna()"
   ]
  },
  {
   "cell_type": "code",
   "execution_count": 7,
   "metadata": {},
   "outputs": [],
   "source": [
    "data_categories=data.categories_en.dropna().str.split(',')\n",
    "data_categories_exploded=data_categories.apply(pd.Series).unstack().dropna()"
   ]
  },
  {
   "cell_type": "code",
   "execution_count": 8,
   "metadata": {},
   "outputs": [
    {
     "data": {
      "text/plain": [
       "   code         \n",
       "0  3263859912215                           Desserts\n",
       "   3222471911433                       Frozen foods\n",
       "   5410803560451                          Groceries\n",
       "   3564709001777                              Meats\n",
       "   3564707108348    Plant-based foods and beverages\n",
       "dtype: object"
      ]
     },
     "execution_count": 8,
     "metadata": {},
     "output_type": "execute_result"
    }
   ],
   "source": [
    "data_categories_exploded.head()"
   ]
  },
  {
   "cell_type": "code",
   "execution_count": 9,
   "metadata": {},
   "outputs": [
    {
     "data": {
      "image/png": "[encoded data removed]",
      "text/plain": [
       "<Figure size 432x288 with 1 Axes>"
      ]
     },
     "metadata": {
      "needs_background": "light"
     },
     "output_type": "display_data"
    },
    {
     "data": {
      "image/png": "[encoded data removed]",
      "text/plain": [
       "<Figure size 432x288 with 1 Axes>"
      ]
     },
     "metadata": {
      "needs_background": "light"
     },
     "output_type": "display_data"
    }
   ],
   "source": [
    "data_labels_exploded.value_counts().head(10).plot(kind='barh',color='b')\n",
    "plt.show()\n",
    "data_categories_exploded.value_counts().head(10).plot(kind='barh',color='b')\n",
    "plt.show()"
   ]
  },
  {
   "cell_type": "code",
   "execution_count": 10,
   "metadata": {},
   "outputs": [],
   "source": [
    "z=pd.DataFrame(data_labels_exploded).reset_index().set_index(\"code\")[[0]]\n",
    "z.columns=['label']\n",
    "x=pd.DataFrame(data_categories_exploded).reset_index().set_index('code')[[0]]\n",
    "x.columns=['category']"
   ]
  },
  {
   "cell_type": "code",
   "execution_count": null,
   "metadata": {},
   "outputs": [],
   "source": []
  },
  {
   "cell_type": "code",
   "execution_count": 11,
   "metadata": {},
   "outputs": [],
   "source": [
    "f=x.join(z).dropna()"
   ]
  },
  {
   "cell_type": "code",
   "execution_count": 83,
   "metadata": {},
   "outputs": [],
   "source": [
    "f['joined']=f['category']+','+f['label']"
   ]
  },
  {
   "cell_type": "code",
   "execution_count": 58,
   "metadata": {},
   "outputs": [],
   "source": [
    "highest_support=pd.Series(f['joined'].value_counts().head(50).index.values)"
   ]
  },
  {
   "cell_type": "code",
   "execution_count": 78,
   "metadata": {},
   "outputs": [],
   "source": [
    "grouped_=list(zip(*(highest_support.str.split(',').values)))\n",
    "highest_categories=np.unique(list(grouped_[0]))\n",
    "highest_labels=np.unique(list(grouped_[1]))\n",
    "highest_categories=highest_categories.tolist()\n",
    "highest_labels=highest_labels.tolist()\n"
   ]
  },
  {
   "cell_type": "markdown",
   "metadata": {},
   "source": [
    "# Local Rule Analysis"
   ]
  },
  {
   "cell_type": "code",
   "execution_count": 84,
   "metadata": {},
   "outputs": [
    {
     "data": {
      "text/plain": [
       "3520"
      ]
     },
     "execution_count": 84,
     "metadata": {},
     "output_type": "execute_result"
    }
   ],
   "source": [
    "support=f['joined'].value_counts()\n",
    "label_counts=f['label'].value_counts()\n",
    "category_counts=f['category'].value_counts()\n",
    "category_counts.loc['Beverages']"
   ]
  },
  {
   "cell_type": "code",
   "execution_count": 91,
   "metadata": {},
   "outputs": [],
   "source": [
    "local_rules={}\n",
    "i=0\n",
    "for label in highest_labels:\n",
    "\n",
    "    for category in highest_categories:\n",
    "        i+=1\n",
    "        \n",
    "        string_=category+','+label\n",
    "        if string_ in support.index:\n",
    "            local_rules[label+' -> '+category]=support.loc[category+','+label]/label_counts.loc[label]\n",
    "            local_rules[category+' -> '+label]=support.loc[category+','+label]/category_counts.loc[category]\n",
    "        else:\n",
    "            local_rules[label+' -> '+category]=0.\n",
    "            local_rules[category+' -> '+label]=0.\n",
    "        "
   ]
  },
  {
   "cell_type": "code",
   "execution_count": 85,
   "metadata": {},
   "outputs": [
    {
     "data": {
      "text/plain": [
       "Index(['Plant-based foods and beverages,Organic', 'Plant-based foods,Organic',\n",
       "       'Plant-based foods and beverages,EU Organic',\n",
       "       'Plant-based foods,EU Organic',\n",
       "       'Plant-based foods and beverages,Green Dot',\n",
       "       'Plant-based foods and beverages,fr:AB Agriculture Biologique',\n",
       "       'Plant-based foods,Green Dot',\n",
       "       'Plant-based foods,fr:AB Agriculture Biologique', 'Beverages,Organic',\n",
       "       'Plant-based foods and beverages,Vegetarian',\n",
       "       ...\n",
       "       'Peanuts,fr:Qualite-controlee', 'Smoked salmons,fr:Decongele',\n",
       "       'Spreads,fr:Deconseille-aux-enfants-de-moins-de-1-an',\n",
       "       'Candies,de:In-blindenschrift', 'Pizzas,EU Organic',\n",
       "       'Fruits based foods,fr:Concours général agricole',\n",
       "       'de:Zitronensaft,DE-ÖKO-007', 'Biscuits,Kosher-parve',\n",
       "       'Fermented foods,GB-ORG-05',\n",
       "       'fr:Gateaux-aux-amandes,fr:Saveurs de l'Année 2015'],\n",
       "      dtype='object', length=47699)"
      ]
     },
     "execution_count": 85,
     "metadata": {},
     "output_type": "execute_result"
    }
   ],
   "source": [
    "support.index"
   ]
  },
  {
   "cell_type": "code",
   "execution_count": 31,
   "metadata": {},
   "outputs": [
    {
     "name": "stdout",
     "output_type": "stream",
     "text": [
      "Green Dot\n",
      "fr:Déconseillé aux femmes enceintes\n",
      "Green Dot\n",
      "fr:Déconseillé aux femmes enceintes\n",
      "Green Dot\n"
     ]
    }
   ],
   "source": [
    "for elm in f['label'].head():\n",
    "    print(elm)"
   ]
  },
  {
   "cell_type": "code",
   "execution_count": 40,
   "metadata": {},
   "outputs": [
    {
     "data": {
      "text/plain": [
       "23036864841"
      ]
     },
     "execution_count": 40,
     "metadata": {},
     "output_type": "execute_result"
    }
   ],
   "source": [
    "len(f['label'])*len(f['category'])"
   ]
  },
  {
   "cell_type": "code",
   "execution_count": 92,
   "metadata": {},
   "outputs": [
    {
     "data": {
      "text/plain": [
       "{'Alcoholic beverages -> EU Organic': 0.0504950495049505,\n",
       " 'Alcoholic beverages -> FR-BIO-01': 0.01485148514851485,\n",
       " 'Alcoholic beverages -> Gluten-free': 0.0029702970297029703,\n",
       " 'Alcoholic beverages -> Green Dot': 0.08811881188118811,\n",
       " 'Alcoholic beverages -> No preservatives': 0.0009900990099009901,\n",
       " 'Alcoholic beverages -> Not advised for pregnant women': 0.1792079207920792,\n",
       " 'Alcoholic beverages -> Not advised for specific people': 0.18118811881188118,\n",
       " 'Alcoholic beverages -> Organic': 0.053465346534653464,\n",
       " 'Alcoholic beverages -> Vegan': 0.0049504950495049506,\n",
       " 'Alcoholic beverages -> Vegetarian': 0.005940594059405941,\n",
       " 'Alcoholic beverages -> fr:AB Agriculture Biologique': 0.026732673267326732,\n",
       " 'Alcoholic beverages -> fr:Viande Française': 0.0,\n",
       " 'Beverages -> EU Organic': 0.0659090909090909,\n",
       " 'Beverages -> FR-BIO-01': 0.017329545454545455,\n",
       " 'Beverages -> Gluten-free': 0.008238636363636363,\n",
       " 'Beverages -> Green Dot': 0.07897727272727273,\n",
       " 'Beverages -> No preservatives': 0.020170454545454547,\n",
       " 'Beverages -> Not advised for pregnant women': 0.051704545454545454,\n",
       " 'Beverages -> Not advised for specific people': 0.052556818181818184,\n",
       " 'Beverages -> Organic': 0.1252840909090909,\n",
       " 'Beverages -> Vegan': 0.01960227272727273,\n",
       " 'Beverages -> Vegetarian': 0.02215909090909091,\n",
       " 'Beverages -> fr:AB Agriculture Biologique': 0.04403409090909091,\n",
       " 'Beverages -> fr:Viande Française': 0.0,\n",
       " 'Biscuits and cakes -> EU Organic': 0.055218855218855216,\n",
       " 'Biscuits and cakes -> FR-BIO-01': 0.016835016835016835,\n",
       " 'Biscuits and cakes -> Gluten-free': 0.017508417508417508,\n",
       " 'Biscuits and cakes -> Green Dot': 0.13804713804713806,\n",
       " 'Biscuits and cakes -> No preservatives': 0.03434343434343434,\n",
       " 'Biscuits and cakes -> Not advised for pregnant women': 0.0,\n",
       " 'Biscuits and cakes -> Not advised for specific people': 0.0006734006734006734,\n",
       " 'Biscuits and cakes -> Organic': 0.07407407407407407,\n",
       " 'Biscuits and cakes -> Vegan': 0.00808080808080808,\n",
       " 'Biscuits and cakes -> Vegetarian': 0.014814814814814815,\n",
       " 'Biscuits and cakes -> fr:AB Agriculture Biologique': 0.04107744107744108,\n",
       " 'Biscuits and cakes -> fr:Viande Française': 0.0,\n",
       " 'Breakfasts -> EU Organic': 0.11900065746219593,\n",
       " 'Breakfasts -> FR-BIO-01': 0.030900723208415515,\n",
       " 'Breakfasts -> Gluten-free': 0.0210387902695595,\n",
       " 'Breakfasts -> Green Dot': 0.07560815253122946,\n",
       " 'Breakfasts -> No preservatives': 0.008547008547008548,\n",
       " 'Breakfasts -> Not advised for pregnant women': 0.0,\n",
       " 'Breakfasts -> Not advised for specific people': 0.0,\n",
       " 'Breakfasts -> Organic': 0.14464168310322156,\n",
       " 'Breakfasts -> Vegan': 0.013149243918474688,\n",
       " 'Breakfasts -> Vegetarian': 0.0210387902695595,\n",
       " 'Breakfasts -> fr:AB Agriculture Biologique': 0.09072978303747535,\n",
       " 'Breakfasts -> fr:Viande Française': 0.0,\n",
       " 'Cereals and potatoes -> EU Organic': 0.1021630615640599,\n",
       " 'Cereals and potatoes -> FR-BIO-01': 0.027287853577371048,\n",
       " 'Cereals and potatoes -> Gluten-free': 0.03194675540765391,\n",
       " 'Cereals and potatoes -> Green Dot': 0.060232945091514146,\n",
       " 'Cereals and potatoes -> No preservatives': 0.02129783693843594,\n",
       " 'Cereals and potatoes -> Not advised for pregnant women': 0.0,\n",
       " 'Cereals and potatoes -> Not advised for specific people': 0.0,\n",
       " 'Cereals and potatoes -> Organic': 0.12878535773710484,\n",
       " 'Cereals and potatoes -> Vegan': 0.020632279534109815,\n",
       " 'Cereals and potatoes -> Vegetarian': 0.02961730449251248,\n",
       " 'Cereals and potatoes -> fr:AB Agriculture Biologique': 0.06955074875207987,\n",
       " 'Cereals and potatoes -> fr:Viande Française': 0.0006655574043261231,\n",
       " 'Cereals and their products -> EU Organic': 0.1191588785046729,\n",
       " 'Cereals and their products -> FR-BIO-01': 0.032242990654205606,\n",
       " 'Cereals and their products -> Gluten-free': 0.02570093457943925,\n",
       " 'Cereals and their products -> Green Dot': 0.05794392523364486,\n",
       " 'Cereals and their products -> No preservatives': 0.011214953271028037,\n",
       " 'Cereals and their products -> Not advised for pregnant women': 0.0,\n",
       " 'Cereals and their products -> Not advised for specific people': 0.0,\n",
       " 'Cereals and their products -> Organic': 0.15,\n",
       " 'Cereals and their products -> Vegan': 0.024766355140186914,\n",
       " 'Cereals and their products -> Vegetarian': 0.029439252336448597,\n",
       " 'Cereals and their products -> fr:AB Agriculture Biologique': 0.08037383177570094,\n",
       " 'Cereals and their products -> fr:Viande Française': 0.0009345794392523365,\n",
       " 'Dairies -> EU Organic': 0.05662603224537947,\n",
       " 'Dairies -> FR-BIO-01': 0.01533621706645694,\n",
       " 'Dairies -> Gluten-free': 0.012976799056232795,\n",
       " 'Dairies -> Green Dot': 0.10617381046008652,\n",
       " 'Dairies -> No preservatives': 0.015729453401494297,\n",
       " 'Dairies -> Not advised for pregnant women': 0.0,\n",
       " 'Dairies -> Not advised for specific people': 0.0,\n",
       " 'Dairies -> Organic': 0.08533228470310657,\n",
       " 'Dairies -> Vegan': 0.006685017695635077,\n",
       " 'Dairies -> Vegetarian': 0.01533621706645694,\n",
       " 'Dairies -> fr:AB Agriculture Biologique': 0.03814392449862367,\n",
       " 'Dairies -> fr:Viande Française': 0.0,\n",
       " 'EU Organic -> Alcoholic beverages': 0.004715672676837725,\n",
       " 'EU Organic -> Beverages': 0.021451687471104947,\n",
       " 'EU Organic -> Biscuits and cakes': 0.0075820619509939895,\n",
       " 'EU Organic -> Breakfasts': 0.016736014794267222,\n",
       " 'EU Organic -> Cereals and potatoes': 0.028386500231160426,\n",
       " 'EU Organic -> Cereals and their products': 0.023578363384188627,\n",
       " 'EU Organic -> Dairies': 0.01331484049930652,\n",
       " 'EU Organic -> Fermented foods': 0.00943134535367545,\n",
       " 'EU Organic -> Fermented milk products': 0.00943134535367545,\n",
       " 'EU Organic -> Fresh foods': 0.00545538603791031,\n",
       " 'EU Organic -> Fruits and vegetables based foods': 0.020527045769764215,\n",
       " 'EU Organic -> Meals': 0.0075820619509939895,\n",
       " 'EU Organic -> Meats': 0.003883495145631068,\n",
       " 'EU Organic -> Non-Alcoholic beverages': 0.015256588072122053,\n",
       " 'EU Organic -> Plant-based beverages': 0.01396208969024503,\n",
       " 'EU Organic -> Plant-based foods': 0.07008784096162737,\n",
       " 'EU Organic -> Plant-based foods and beverages': 0.07961165048543689,\n",
       " 'EU Organic -> Spreads': 0.012944983818770227,\n",
       " 'EU Organic -> Sugary snacks': 0.016273693943596856,\n",
       " 'FR-BIO-01 -> Alcoholic beverages': 0.005755947812739831,\n",
       " 'FR-BIO-01 -> Beverages': 0.02340752110514198,\n",
       " 'FR-BIO-01 -> Biscuits and cakes': 0.009593246354566385,\n",
       " 'FR-BIO-01 -> Breakfasts': 0.018035303146584806,\n",
       " 'FR-BIO-01 -> Cereals and potatoes': 0.031465848042977744,\n",
       " 'FR-BIO-01 -> Cereals and their products': 0.026477359938603222,\n",
       " 'FR-BIO-01 -> Dairies': 0.014965464313123561,\n",
       " 'FR-BIO-01 -> Fermented foods': 0.009593246354566385,\n",
       " 'FR-BIO-01 -> Fermented milk products': 0.009593246354566385,\n",
       " 'FR-BIO-01 -> Fresh foods': 0.0061396776669224865,\n",
       " 'FR-BIO-01 -> Fruits and vegetables based foods': 0.014965464313123561,\n",
       " 'FR-BIO-01 -> Meals': 0.00920951650038373,\n",
       " 'FR-BIO-01 -> Meats': 0.00422102839600921,\n",
       " 'FR-BIO-01 -> Non-Alcoholic beverages': 0.016116653875671526,\n",
       " 'FR-BIO-01 -> Plant-based beverages': 0.015349194167306216,\n",
       " 'FR-BIO-01 -> Plant-based foods': 0.06101304681504221,\n",
       " 'FR-BIO-01 -> Plant-based foods and beverages': 0.07252494244052188,\n",
       " 'FR-BIO-01 -> Spreads': 0.011128165771297006,\n",
       " 'FR-BIO-01 -> Sugary snacks': 0.017267843438219493,\n",
       " 'Fermented foods -> EU Organic': 0.05985915492957746,\n",
       " 'Fermented foods -> FR-BIO-01': 0.014671361502347418,\n",
       " 'Fermented foods -> Gluten-free': 0.013497652582159625,\n",
       " 'Fermented foods -> Green Dot': 0.10915492957746478,\n",
       " 'Fermented foods -> No preservatives': 0.01584507042253521,\n",
       " 'Fermented foods -> Not advised for pregnant women': 0.0,\n",
       " 'Fermented foods -> Not advised for specific people': 0.0,\n",
       " 'Fermented foods -> Organic': 0.07570422535211267,\n",
       " 'Fermented foods -> Vegan': 0.008215962441314555,\n",
       " 'Fermented foods -> Vegetarian': 0.017018779342723004,\n",
       " 'Fermented foods -> fr:AB Agriculture Biologique': 0.041666666666666664,\n",
       " 'Fermented foods -> fr:Viande Française': 0.0,\n",
       " 'Fermented milk products -> EU Organic': 0.05985915492957746,\n",
       " 'Fermented milk products -> FR-BIO-01': 0.014671361502347418,\n",
       " 'Fermented milk products -> Gluten-free': 0.013497652582159625,\n",
       " 'Fermented milk products -> Green Dot': 0.10915492957746478,\n",
       " 'Fermented milk products -> No preservatives': 0.01584507042253521,\n",
       " 'Fermented milk products -> Not advised for pregnant women': 0.0,\n",
       " 'Fermented milk products -> Not advised for specific people': 0.0,\n",
       " 'Fermented milk products -> Organic': 0.07570422535211267,\n",
       " 'Fermented milk products -> Vegan': 0.008215962441314555,\n",
       " 'Fermented milk products -> Vegetarian': 0.017018779342723004,\n",
       " 'Fermented milk products -> fr:AB Agriculture Biologique': 0.041666666666666664,\n",
       " 'Fermented milk products -> fr:Viande Française': 0.0,\n",
       " 'Fresh foods -> EU Organic': 0.036019536019536016,\n",
       " 'Fresh foods -> FR-BIO-01': 0.009768009768009768,\n",
       " 'Fresh foods -> Gluten-free': 0.006105006105006105,\n",
       " 'Fresh foods -> Green Dot': 0.13553113553113552,\n",
       " 'Fresh foods -> No preservatives': 0.030525030525030524,\n",
       " 'Fresh foods -> Not advised for pregnant women': 0.0,\n",
       " 'Fresh foods -> Not advised for specific people': 0.0,\n",
       " 'Fresh foods -> Organic': 0.04212454212454213,\n",
       " 'Fresh foods -> Vegan': 0.0231990231990232,\n",
       " 'Fresh foods -> Vegetarian': 0.028693528693528692,\n",
       " 'Fresh foods -> fr:AB Agriculture Biologique': 0.026862026862026864,\n",
       " 'Fresh foods -> fr:Viande Française': 0.02442002442002442,\n",
       " 'Fruits and vegetables based foods -> EU Organic': 0.10077167498865183,\n",
       " 'Fruits and vegetables based foods -> FR-BIO-01': 0.017703132092601,\n",
       " 'Fruits and vegetables based foods -> Gluten-free': 0.015887426236949616,\n",
       " 'Fruits and vegetables based foods -> Green Dot': 0.07852927825692238,\n",
       " 'Fruits and vegetables based foods -> No preservatives': 0.03722197004085338,\n",
       " 'Fruits and vegetables based foods -> Not advised for pregnant women': 0.0,\n",
       " 'Fruits and vegetables based foods -> Not advised for specific people': 0.0,\n",
       " 'Fruits and vegetables based foods -> Organic': 0.1230140717203813,\n",
       " 'Fruits and vegetables based foods -> Vegan': 0.04221516114389469,\n",
       " 'Fruits and vegetables based foods -> Vegetarian': 0.044938719927371765,\n",
       " 'Fruits and vegetables based foods -> fr:AB Agriculture Biologique': 0.07762142532909669,\n",
       " 'Fruits and vegetables based foods -> fr:Viande Française': 0.0,\n",
       " 'Gluten-free -> Alcoholic beverages': 0.0010166045408336157,\n",
       " 'Gluten-free -> Beverages': 0.009827177228058285,\n",
       " 'Gluten-free -> Biscuits and cakes': 0.00881057268722467,\n",
       " 'Gluten-free -> Breakfasts': 0.010843781768891902,\n",
       " 'Gluten-free -> Cereals and potatoes': 0.0325313453066757,\n",
       " 'Gluten-free -> Cereals and their products': 0.018637749915282956,\n",
       " 'Gluten-free -> Dairies': 0.011182649949169773,\n",
       " 'Gluten-free -> Fermented foods': 0.007793968146391054,\n",
       " 'Gluten-free -> Fermented milk products': 0.007793968146391054,\n",
       " 'Gluten-free -> Fresh foods': 0.003388681802778719,\n",
       " 'Gluten-free -> Fruits and vegetables based foods': 0.011860386309725517,\n",
       " 'Gluten-free -> Meals': 0.013554727211114876,\n",
       " 'Gluten-free -> Meats': 0.01626567265333785,\n",
       " 'Gluten-free -> Non-Alcoholic beverages': 0.006099627245001694,\n",
       " 'Gluten-free -> Plant-based beverages': 0.0057607590647238225,\n",
       " 'Gluten-free -> Plant-based foods': 0.06235174517112843,\n",
       " 'Gluten-free -> Plant-based foods and beverages': 0.0650626906133514,\n",
       " 'Gluten-free -> Spreads': 0.00881057268722467,\n",
       " 'Gluten-free -> Sugary snacks': 0.028126058963063368,\n",
       " 'Green Dot -> Alcoholic beverages': 0.006146833344844257,\n",
       " 'Green Dot -> Beverages': 0.01920022100973824,\n",
       " 'Green Dot -> Biscuits and cakes': 0.014158436356101941,\n",
       " 'Green Dot -> Breakfasts': 0.007942537468057186,\n",
       " 'Green Dot -> Cereals and potatoes': 0.012500863319290007,\n",
       " 'Green Dot -> Cereals and their products': 0.008564127356861661,\n",
       " 'Green Dot -> Dairies': 0.018647696664134263,\n",
       " 'Green Dot -> Fermented foods': 0.012846191035292493,\n",
       " 'Green Dot -> Fermented milk products': 0.012846191035292493,\n",
       " 'Green Dot -> Fresh foods': 0.015332550590510394,\n",
       " 'Green Dot -> Fruits and vegetables based foods': 0.011948338973686029,\n",
       " 'Green Dot -> Meals': 0.020374335244146696,\n",
       " 'Green Dot -> Meats': 0.012017404516886526,\n",
       " 'Green Dot -> Non-Alcoholic beverages': 0.008218799640859175,\n",
       " 'Green Dot -> Plant-based beverages': 0.006768423233648732,\n",
       " 'Green Dot -> Plant-based foods': 0.035845016921058084,\n",
       " 'Green Dot -> Plant-based foods and beverages': 0.04150839146349886,\n",
       " 'Green Dot -> Spreads': 0.010221700393673596,\n",
       " 'Green Dot -> Sugary snacks': 0.027142758477795428,\n",
       " 'Meals -> EU Organic': 0.03173374613003096,\n",
       " 'Meals -> FR-BIO-01': 0.009287925696594427,\n",
       " 'Meals -> Gluten-free': 0.015479876160990712,\n",
       " 'Meals -> Green Dot': 0.1141640866873065,\n",
       " 'Meals -> No preservatives': 0.04837461300309598,\n",
       " 'Meals -> Not advised for pregnant women': 0.0,\n",
       " 'Meals -> Not advised for specific people': 0.0,\n",
       " 'Meals -> Organic': 0.043343653250773995,\n",
       " 'Meals -> Vegan': 0.014705882352941176,\n",
       " 'Meals -> Vegetarian': 0.030959752321981424,\n",
       " 'Meals -> fr:AB Agriculture Biologique': 0.023606811145510834,\n",
       " 'Meals -> fr:Viande Française': 0.0348297213622291,\n",
       " 'Meats -> EU Organic': 0.024,\n",
       " 'Meats -> FR-BIO-01': 0.006285714285714286,\n",
       " 'Meats -> Gluten-free': 0.027428571428571427,\n",
       " 'Meats -> Green Dot': 0.09942857142857142,\n",
       " 'Meats -> No preservatives': 0.013714285714285714,\n",
       " 'Meats -> Not advised for pregnant women': 0.0,\n",
       " 'Meats -> Not advised for specific people': 0.0,\n",
       " 'Meats -> Organic': 0.026285714285714287,\n",
       " 'Meats -> Vegan': 0.0,\n",
       " 'Meats -> Vegetarian': 0.0,\n",
       " 'Meats -> fr:AB Agriculture Biologique': 0.021714285714285714,\n",
       " 'Meats -> fr:Viande Française': 0.1457142857142857,\n",
       " 'No preservatives -> Alcoholic beverages': 0.0002794076557697681,\n",
       " 'No preservatives -> Beverages': 0.019837943559653536,\n",
       " 'No preservatives -> Biscuits and cakes': 0.014249790444258172,\n",
       " 'No preservatives -> Breakfasts': 0.0036322995250069852,\n",
       " 'No preservatives -> Cereals and potatoes': 0.017882089969265158,\n",
       " 'No preservatives -> Cereals and their products': 0.006705783738474434,\n",
       " 'No preservatives -> Dairies': 0.011176306230790724,\n",
       " 'No preservatives -> Fermented foods': 0.0075440067057837385,\n",
       " 'No preservatives -> Fermented milk products': 0.0075440067057837385,\n",
       " 'No preservatives -> Fresh foods': 0.013970382788488405,\n",
       " 'No preservatives -> Fruits and vegetables based foods': 0.022911427773120982,\n",
       " 'No preservatives -> Meals': 0.034925956971221014,\n",
       " 'No preservatives -> Meats': 0.006705783738474434,\n",
       " 'No preservatives -> Non-Alcoholic beverages': 0.007823414361553507,\n",
       " 'No preservatives -> Plant-based beverages': 0.011176306230790724,\n",
       " 'No preservatives -> Plant-based foods': 0.04889633975970942,\n",
       " 'No preservatives -> Plant-based foods and beverages': 0.05951383067896061,\n",
       " 'No preservatives -> Spreads': 0.006705783738474434,\n",
       " 'No preservatives -> Sugary snacks': 0.01899972059234423,\n",
       " 'Non-Alcoholic beverages -> EU Organic': 0.08571428571428572,\n",
       " 'Non-Alcoholic beverages -> FR-BIO-01': 0.02181818181818182,\n",
       " 'Non-Alcoholic beverages -> Gluten-free': 0.00935064935064935,\n",
       " 'Non-Alcoholic beverages -> Green Dot': 0.06181818181818182,\n",
       " 'Non-Alcoholic beverages -> No preservatives': 0.014545454545454545,\n",
       " 'Non-Alcoholic beverages -> Not advised for pregnant women': 0.0005194805194805195,\n",
       " 'Non-Alcoholic beverages -> Not advised for specific people': 0.001038961038961039,\n",
       " 'Non-Alcoholic beverages -> Organic': 0.18233766233766233,\n",
       " 'Non-Alcoholic beverages -> Vegan': 0.026493506493506493,\n",
       " 'Non-Alcoholic beverages -> Vegetarian': 0.02857142857142857,\n",
       " 'Non-Alcoholic beverages -> fr:AB Agriculture Biologique': 0.06233766233766234,\n",
       " 'Non-Alcoholic beverages -> fr:Viande Française': 0.0,\n",
       " 'Not advised for pregnant women -> Alcoholic beverages': 0.16868592730661697,\n",
       " 'Not advised for pregnant women -> Beverages': 0.16961789375582478,\n",
       " 'Not advised for pregnant women -> Biscuits and cakes': 0.0,\n",
       " 'Not advised for pregnant women -> Breakfasts': 0.0,\n",
       " 'Not advised for pregnant women -> Cereals and potatoes': 0.0,\n",
       " 'Not advised for pregnant women -> Cereals and their products': 0.0,\n",
       " 'Not advised for pregnant women -> Dairies': 0.0,\n",
       " 'Not advised for pregnant women -> Fermented foods': 0.0,\n",
       " 'Not advised for pregnant women -> Fermented milk products': 0.0,\n",
       " 'Not advised for pregnant women -> Fresh foods': 0.0,\n",
       " 'Not advised for pregnant women -> Fruits and vegetables based foods': 0.0,\n",
       " 'Not advised for pregnant women -> Meals': 0.0,\n",
       " 'Not advised for pregnant women -> Meats': 0.0,\n",
       " 'Not advised for pregnant women -> Non-Alcoholic beverages': 0.0009319664492078285,\n",
       " 'Not advised for pregnant women -> Plant-based beverages': 0.0009319664492078285,\n",
       " 'Not advised for pregnant women -> Plant-based foods': 0.0,\n",
       " 'Not advised for pregnant women -> Plant-based foods and beverages': 0.0009319664492078285,\n",
       " 'Not advised for pregnant women -> Spreads': 0.0,\n",
       " 'Not advised for pregnant women -> Sugary snacks': 0.0,\n",
       " 'Not advised for specific people -> Alcoholic beverages': 0.16486486486486487,\n",
       " 'Not advised for specific people -> Beverages': 0.16666666666666666,\n",
       " 'Not advised for specific people -> Biscuits and cakes': 0.0009009009009009009,\n",
       " 'Not advised for specific people -> Breakfasts': 0.0,\n",
       " 'Not advised for specific people -> Cereals and potatoes': 0.0,\n",
       " 'Not advised for specific people -> Cereals and their products': 0.0,\n",
       " 'Not advised for specific people -> Dairies': 0.0,\n",
       " 'Not advised for specific people -> Fermented foods': 0.0,\n",
       " 'Not advised for specific people -> Fermented milk products': 0.0,\n",
       " 'Not advised for specific people -> Fresh foods': 0.0,\n",
       " 'Not advised for specific people -> Fruits and vegetables based foods': 0.0,\n",
       " 'Not advised for specific people -> Meals': 0.0,\n",
       " 'Not advised for specific people -> Meats': 0.0,\n",
       " 'Not advised for specific people -> Non-Alcoholic beverages': 0.0018018018018018018,\n",
       " 'Not advised for specific people -> Plant-based beverages': 0.0009009009009009009,\n",
       " 'Not advised for specific people -> Plant-based foods': 0.0009009009009009009,\n",
       " 'Not advised for specific people -> Plant-based foods and beverages': 0.0018018018018018018,\n",
       " 'Not advised for specific people -> Spreads': 0.0,\n",
       " 'Not advised for specific people -> Sugary snacks': 0.0018018018018018018,\n",
       " 'Organic -> Alcoholic beverages': 0.003884333189469141,\n",
       " 'Organic -> Beverages': 0.03172205438066465,\n",
       " 'Organic -> Biscuits and cakes': 0.007912530571140844,\n",
       " 'Organic -> Breakfasts': 0.015825061142281688,\n",
       " 'Organic -> Cereals and potatoes': 0.02783772119119551,\n",
       " 'Organic -> Cereals and their products': 0.023090202848511005,\n",
       " 'Organic -> Dairies': 0.015609264853977844,\n",
       " 'Organic -> Fermented foods': 0.00927924039706517,\n",
       " 'Organic -> Fermented milk products': 0.00927924039706517,\n",
       " 'Organic -> Fresh foods': 0.004963314630988347,\n",
       " 'Organic -> Fruits and vegetables based foods': 0.019493598043446986,\n",
       " 'Organic -> Meals': 0.008056394763343404,\n",
       " 'Organic -> Meats': 0.003308876420658898,\n",
       " 'Organic -> Non-Alcoholic beverages': 0.025248165731549418,\n",
       " 'Organic -> Plant-based beverages': 0.014314487124154798,\n",
       " 'Organic -> Plant-based foods': 0.06776003452740613,\n",
       " 'Organic -> Plant-based foods and beverages': 0.07783052798158538,\n",
       " 'Organic -> Spreads': 0.013091641490433032,\n",
       " 'Organic -> Sugary snacks': 0.01647245000719321,\n",
       " 'Plant-based beverages -> EU Organic': 0.09402241594022416,\n",
       " 'Plant-based beverages -> FR-BIO-01': 0.024906600249066,\n",
       " 'Plant-based beverages -> Gluten-free': 0.010585305105853052,\n",
       " 'Plant-based beverages -> Green Dot': 0.06102117061021171,\n",
       " 'Plant-based beverages -> No preservatives': 0.024906600249066,\n",
       " 'Plant-based beverages -> Not advised for pregnant women': 0.0006226650062266501,\n",
       " 'Plant-based beverages -> Not advised for specific people': 0.0006226650062266501,\n",
       " 'Plant-based beverages -> Organic': 0.12391033623910336,\n",
       " 'Plant-based beverages -> Vegan': 0.0323785803237858,\n",
       " 'Plant-based beverages -> Vegetarian': 0.036737235367372355,\n",
       " 'Plant-based beverages -> fr:AB Agriculture Biologique': 0.06724782067247821,\n",
       " 'Plant-based beverages -> fr:Viande Française': 0.0,\n",
       " 'Plant-based foods -> EU Organic': 0.10246012435793457,\n",
       " 'Plant-based foods -> FR-BIO-01': 0.021492295214922953,\n",
       " 'Plant-based foods -> Gluten-free': 0.024871586915382535,\n",
       " 'Plant-based foods -> Green Dot': 0.07015409570154096,\n",
       " 'Plant-based foods -> No preservatives': 0.023655041903217086,\n",
       " 'Plant-based foods -> Not advised for pregnant women': 0.0,\n",
       " 'Plant-based foods -> Not advised for specific people': 0.00013517166801838335,\n",
       " 'Plant-based foods -> Organic': 0.1273317112733171,\n",
       " 'Plant-based foods -> Vegan': 0.042038388753717224,\n",
       " 'Plant-based foods -> Vegetarian': 0.05055420383887537,\n",
       " 'Plant-based foods -> fr:AB Agriculture Biologique': 0.06677480400108138,\n",
       " 'Plant-based foods -> fr:Viande Française': 0.00040551500405515005,\n",
       " 'Plant-based foods and beverages -> EU Organic': 0.1008078679311556,\n",
       " 'Plant-based foods and beverages -> FR-BIO-01': 0.022128556375131718,\n",
       " 'Plant-based foods and beverages -> Gluten-free': 0.02247980330172111,\n",
       " 'Plant-based foods and beverages -> Green Dot': 0.0703664676267416,\n",
       " 'Plant-based foods and beverages -> No preservatives': 0.024938531787846857,\n",
       " 'Plant-based foods and beverages -> Not advised for pregnant women': 0.00011708230886313078,\n",
       " 'Plant-based foods and beverages -> Not advised for specific people': 0.00023416461772626156,\n",
       " 'Plant-based foods and beverages -> Organic': 0.1266830581899075,\n",
       " 'Plant-based foods and beverages -> Vegan': 0.03910549116028568,\n",
       " 'Plant-based foods and beverages -> Vegetarian': 0.047067088162978575,\n",
       " 'Plant-based foods and beverages -> fr:AB Agriculture Biologique': 0.0669710806697108,\n",
       " 'Plant-based foods and beverages -> fr:Viande Française': 0.00035124692658939234,\n",
       " 'Spreads -> EU Organic': 0.09929078014184398,\n",
       " 'Spreads -> FR-BIO-01': 0.02056737588652482,\n",
       " 'Spreads -> Gluten-free': 0.018439716312056736,\n",
       " 'Spreads -> Green Dot': 0.1049645390070922,\n",
       " 'Spreads -> No preservatives': 0.01702127659574468,\n",
       " 'Spreads -> Not advised for pregnant women': 0.0,\n",
       " 'Spreads -> Not advised for specific people': 0.0,\n",
       " 'Spreads -> Organic': 0.12907801418439716,\n",
       " 'Spreads -> Vegan': 0.027659574468085105,\n",
       " 'Spreads -> Vegetarian': 0.032624113475177303,\n",
       " 'Spreads -> fr:AB Agriculture Biologique': 0.07021276595744681,\n",
       " 'Spreads -> fr:Viande Française': 0.009219858156028368,\n",
       " 'Sugary snacks -> EU Organic': 0.05732899022801303,\n",
       " 'Sugary snacks -> FR-BIO-01': 0.014657980456026058,\n",
       " 'Sugary snacks -> Gluten-free': 0.027035830618892507,\n",
       " 'Sugary snacks -> Green Dot': 0.12801302931596092,\n",
       " 'Sugary snacks -> No preservatives': 0.02214983713355049,\n",
       " 'Sugary snacks -> Not advised for pregnant women': 0.0,\n",
       " 'Sugary snacks -> Not advised for specific people': 0.0006514657980456026,\n",
       " 'Sugary snacks -> Organic': 0.0745928338762215,\n",
       " 'Sugary snacks -> Vegan': 0.01758957654723127,\n",
       " 'Sugary snacks -> Vegetarian': 0.0250814332247557,\n",
       " 'Sugary snacks -> fr:AB Agriculture Biologique': 0.03745928338762215,\n",
       " 'Sugary snacks -> fr:Viande Française': 0.0,\n",
       " 'Vegan -> Alcoholic beverages': 0.001383508577753182,\n",
       " 'Vegan -> Beverages': 0.019092418372993913,\n",
       " 'Vegan -> Biscuits and cakes': 0.003320420586607637,\n",
       " 'Vegan -> Breakfasts': 0.005534034311012728,\n",
       " 'Vegan -> Cereals and potatoes': 0.01715550636413946,\n",
       " 'Vegan -> Cereals and their products': 0.01466519092418373,\n",
       " 'Vegan -> Dairies': 0.004703929164360819,\n",
       " 'Vegan -> Fermented foods': 0.00387382401770891,\n",
       " 'Vegan -> Fermented milk products': 0.00387382401770891,\n",
       " 'Vegan -> Fresh foods': 0.010514665190924184,\n",
       " 'Vegan -> Fruits and vegetables based foods': 0.025733259546209187,\n",
       " 'Vegan -> Meals': 0.010514665190924184,\n",
       " 'Vegan -> Meats': 0.0,\n",
       " 'Vegan -> Non-Alcoholic beverages': 0.014111787493082457,\n",
       " 'Vegan -> Plant-based beverages': 0.014388489208633094,\n",
       " 'Vegan -> Plant-based foods': 0.08605423353624793,\n",
       " 'Vegan -> Plant-based foods and beverages': 0.09241837299391256,\n",
       " 'Vegan -> Spreads': 0.01079136690647482,\n",
       " 'Vegan -> Sugary snacks': 0.014941892639734366,\n",
       " 'Vegetarian -> Alcoholic beverages': 0.0013018008244738556,\n",
       " 'Vegetarian -> Beverages': 0.01692341071816012,\n",
       " 'Vegetarian -> Biscuits and cakes': 0.00477326968973747,\n",
       " 'Vegetarian -> Breakfasts': 0.00694293773052723,\n",
       " 'Vegetarian -> Cereals and potatoes': 0.019310045563028858,\n",
       " 'Vegetarian -> Cereals and their products': 0.013668908656975483,\n",
       " 'Vegetarian -> Dairies': 0.00846170535908006,\n",
       " 'Vegetarian -> Fermented foods': 0.0062920373182903016,\n",
       " 'Vegetarian -> Fermented milk products': 0.0062920373182903016,\n",
       " 'Vegetarian -> Fresh foods': 0.010197439791711869,\n",
       " 'Vegetarian -> Fruits and vegetables based foods': 0.021479713603818614,\n",
       " 'Vegetarian -> Meals': 0.017357344326318074,\n",
       " 'Vegetarian -> Meats': 0.0,\n",
       " 'Vegetarian -> Non-Alcoholic beverages': 0.011933174224343675,\n",
       " 'Vegetarian -> Plant-based beverages': 0.012801041440659579,\n",
       " 'Vegetarian -> Plant-based foods': 0.081145584725537,\n",
       " 'Vegetarian -> Plant-based foods and beverages': 0.08722065523974831,\n",
       " 'Vegetarian -> Spreads': 0.009980472987632893,\n",
       " 'Vegetarian -> Sugary snacks': 0.016706443914081145,\n",
       " 'fr:AB Agriculture Biologique -> Alcoholic beverages': 0.0036496350364963502,\n",
       " 'fr:AB Agriculture Biologique -> Beverages': 0.020951608542849418,\n",
       " 'fr:AB Agriculture Biologique -> Biscuits and cakes': 0.008245471749121384,\n",
       " 'fr:AB Agriculture Biologique -> Breakfasts': 0.0186536901865369,\n",
       " 'fr:AB Agriculture Biologique -> Cereals and potatoes': 0.02825087861584212,\n",
       " 'fr:AB Agriculture Biologique -> Cereals and their products': 0.023249526899161935,\n",
       " 'fr:AB Agriculture Biologique -> Dairies': 0.013111651797783185,\n",
       " 'fr:AB Agriculture Biologique -> Fermented foods': 0.009597188429305218,\n",
       " 'fr:AB Agriculture Biologique -> Fermented milk products': 0.009597188429305218,\n",
       " 'fr:AB Agriculture Biologique -> Fresh foods': 0.005947553392808867,\n",
       " 'fr:AB Agriculture Biologique -> Fruits and vegetables based foods': 0.023114355231143552,\n",
       " 'fr:AB Agriculture Biologique -> Meals': 0.008245471749121384,\n",
       " 'fr:AB Agriculture Biologique -> Meats': 0.005136523384698567,\n",
       " 'fr:AB Agriculture Biologique -> Non-Alcoholic beverages': 0.016220600162206,\n",
       " 'fr:AB Agriculture Biologique -> Plant-based beverages': 0.014598540145985401,\n",
       " 'fr:AB Agriculture Biologique -> Plant-based foods': 0.06677480400108138,\n",
       " 'fr:AB Agriculture Biologique -> Plant-based foods and beverages': 0.07731819410651528,\n",
       " 'fr:AB Agriculture Biologique -> Spreads': 0.01338199513381995,\n",
       " 'fr:AB Agriculture Biologique -> Sugary snacks': 0.015544741822114084,\n",
       " 'fr:Viande Française -> Alcoholic beverages': 0.0,\n",
       " 'fr:Viande Française -> Beverages': 0.0,\n",
       " 'fr:Viande Française -> Biscuits and cakes': 0.0,\n",
       " 'fr:Viande Française -> Breakfasts': 0.0,\n",
       " 'fr:Viande Française -> Cereals and potatoes': 0.000980392156862745,\n",
       " 'fr:Viande Française -> Cereals and their products': 0.000980392156862745,\n",
       " 'fr:Viande Française -> Dairies': 0.0,\n",
       " 'fr:Viande Française -> Fermented foods': 0.0,\n",
       " 'fr:Viande Française -> Fermented milk products': 0.0,\n",
       " 'fr:Viande Française -> Fresh foods': 0.0196078431372549,\n",
       " 'fr:Viande Française -> Fruits and vegetables based foods': 0.0,\n",
       " 'fr:Viande Française -> Meals': 0.04411764705882353,\n",
       " 'fr:Viande Française -> Meats': 0.125,\n",
       " 'fr:Viande Française -> Non-Alcoholic beverages': 0.0,\n",
       " 'fr:Viande Française -> Plant-based beverages': 0.0,\n",
       " 'fr:Viande Française -> Plant-based foods': 0.0014705882352941176,\n",
       " 'fr:Viande Française -> Plant-based foods and beverages': 0.0014705882352941176,\n",
       " 'fr:Viande Française -> Spreads': 0.006372549019607843,\n",
       " 'fr:Viande Française -> Sugary snacks': 0.0}"
      ]
     },
     "execution_count": 92,
     "metadata": {},
     "output_type": "execute_result"
    }
   ],
   "source": [
    "local_rules"
   ]
  },
  {
   "cell_type": "code",
   "execution_count": null,
   "metadata": {},
   "outputs": [],
   "source": []
  }
 ],
 "metadata": {
  "kernelspec": {
   "display_name": "Python 3",
   "language": "python",
   "name": "python3"
  },
  "language_info": {
   "codemirror_mode": {
    "name": "ipython",
    "version": 3
   },
   "file_extension": ".py",
   "mimetype": "text/x-python",
   "name": "python",
   "nbconvert_exporter": "python",
   "pygments_lexer": "ipython3",
   "version": "3.5.2"
  }
 },
 "nbformat": 4,
 "nbformat_minor": 2
}
