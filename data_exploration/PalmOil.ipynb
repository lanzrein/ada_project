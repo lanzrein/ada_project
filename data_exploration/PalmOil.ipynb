{
 "cells": [
  {
   "cell_type": "code",
   "execution_count": 1,
   "metadata": {},
   "outputs": [],
   "source": [
    "import scipy as sp\n",
    "import pandas as pd\n",
    "import numpy as np\n",
    "import matplotlib.pyplot as plt\n",
    "import seaborn as sns"
   ]
  },
  {
   "cell_type": "code",
   "execution_count": 2,
   "metadata": {},
   "outputs": [],
   "source": [
    "DATAPATH = 'data/'"
   ]
  },
  {
   "cell_type": "markdown",
   "metadata": {},
   "source": [
    "### Loading data..."
   ]
  },
  {
   "cell_type": "code",
   "execution_count": 3,
   "metadata": {},
   "outputs": [],
   "source": [
    "data = pd.read_csv(DATAPATH+'palm_oil.csv',delimiter=',',low_memory=False)\n",
    "data_total = pd.read_csv(DATAPATH+'cleaned_unique_index.csv',delimiter=',',low_memory=False)"
   ]
  },
  {
   "cell_type": "code",
   "execution_count": 4,
   "metadata": {},
   "outputs": [],
   "source": [
    "data_total.set_index('code',inplace=True)\n",
    "data.set_index('code',inplace=True)\n"
   ]
  },
  {
   "cell_type": "markdown",
   "metadata": {},
   "source": [
    "# Exploring the number of aliments that contain palm oil"
   ]
  },
  {
   "cell_type": "code",
   "execution_count": 5,
   "metadata": {},
   "outputs": [
    {
     "name": "stdout",
     "output_type": "stream",
     "text": [
      "We have a total of 665693 articles entered\n",
      "Out of those we have information about palm oil on 387961 articles \n",
      "This represents 58.279267 % \n"
     ]
    }
   ],
   "source": [
    "total_count = data_total.shape[0]\n",
    "palm_oil_count = data.shape[0]\n",
    "percentage = palm_oil_count / total_count * 100\n",
    "\n",
    "print(\"We have a total of %d articles entered\" % total_count)\n",
    "print(\"Out of those we have information about palm oil on %d articles \" % palm_oil_count)\n",
    "print(\"This represents %f %% \" % percentage)"
   ]
  },
  {
   "cell_type": "markdown",
   "metadata": {},
   "source": [
    "- While this amount seems a bit low it is still more than half articles. We remove from our study all articles that we do not have information about as they could make future analysis biased. The sample of size 387964 is still a fairly large sample size that we can make some statistical analysis on"
   ]
  },
  {
   "cell_type": "code",
   "execution_count": 6,
   "metadata": {},
   "outputs": [
    {
     "data": {
      "text/html": [
       "<div>\n",
       "<style scoped>\n",
       "    .dataframe tbody tr th:only-of-type {\n",
       "        vertical-align: middle;\n",
       "    }\n",
       "\n",
       "    .dataframe tbody tr th {\n",
       "        vertical-align: top;\n",
       "    }\n",
       "\n",
       "    .dataframe thead th {\n",
       "        text-align: right;\n",
       "    }\n",
       "</style>\n",
       "<table border=\"1\" class=\"dataframe\">\n",
       "  <thead>\n",
       "    <tr style=\"text-align: right;\">\n",
       "      <th></th>\n",
       "      <th>ingredients_from_palm_oil_n</th>\n",
       "      <th>ingredients_from_palm_oil</th>\n",
       "      <th>ingredients_from_palm_oil_tags</th>\n",
       "      <th>ingredients_that_may_be_from_palm_oil_n</th>\n",
       "      <th>ingredients_that_may_be_from_palm_oil</th>\n",
       "      <th>ingredients_that_may_be_from_palm_oil_tags</th>\n",
       "    </tr>\n",
       "    <tr>\n",
       "      <th>code</th>\n",
       "      <th></th>\n",
       "      <th></th>\n",
       "      <th></th>\n",
       "      <th></th>\n",
       "      <th></th>\n",
       "      <th></th>\n",
       "    </tr>\n",
       "  </thead>\n",
       "  <tbody>\n",
       "    <tr>\n",
       "      <th>0000000001199</th>\n",
       "      <td>0.0</td>\n",
       "      <td>NaN</td>\n",
       "      <td>NaN</td>\n",
       "      <td>0.0</td>\n",
       "      <td>NaN</td>\n",
       "      <td>NaN</td>\n",
       "    </tr>\n",
       "    <tr>\n",
       "      <th>0000000001663</th>\n",
       "      <td>0.0</td>\n",
       "      <td>NaN</td>\n",
       "      <td>NaN</td>\n",
       "      <td>0.0</td>\n",
       "      <td>NaN</td>\n",
       "      <td>NaN</td>\n",
       "    </tr>\n",
       "    <tr>\n",
       "      <th>0000000002264</th>\n",
       "      <td>0.0</td>\n",
       "      <td>NaN</td>\n",
       "      <td>NaN</td>\n",
       "      <td>0.0</td>\n",
       "      <td>NaN</td>\n",
       "      <td>NaN</td>\n",
       "    </tr>\n",
       "    <tr>\n",
       "      <th>0000000003827</th>\n",
       "      <td>0.0</td>\n",
       "      <td>NaN</td>\n",
       "      <td>NaN</td>\n",
       "      <td>0.0</td>\n",
       "      <td>NaN</td>\n",
       "      <td>NaN</td>\n",
       "    </tr>\n",
       "    <tr>\n",
       "      <th>0000000004510</th>\n",
       "      <td>0.0</td>\n",
       "      <td>NaN</td>\n",
       "      <td>NaN</td>\n",
       "      <td>0.0</td>\n",
       "      <td>NaN</td>\n",
       "      <td>NaN</td>\n",
       "    </tr>\n",
       "  </tbody>\n",
       "</table>\n",
       "</div>"
      ],
      "text/plain": [
       "               ingredients_from_palm_oil_n  ingredients_from_palm_oil  \\\n",
       "code                                                                    \n",
       "0000000001199                          0.0                        NaN   \n",
       "0000000001663                          0.0                        NaN   \n",
       "0000000002264                          0.0                        NaN   \n",
       "0000000003827                          0.0                        NaN   \n",
       "0000000004510                          0.0                        NaN   \n",
       "\n",
       "              ingredients_from_palm_oil_tags  \\\n",
       "code                                           \n",
       "0000000001199                            NaN   \n",
       "0000000001663                            NaN   \n",
       "0000000002264                            NaN   \n",
       "0000000003827                            NaN   \n",
       "0000000004510                            NaN   \n",
       "\n",
       "               ingredients_that_may_be_from_palm_oil_n  \\\n",
       "code                                                     \n",
       "0000000001199                                      0.0   \n",
       "0000000001663                                      0.0   \n",
       "0000000002264                                      0.0   \n",
       "0000000003827                                      0.0   \n",
       "0000000004510                                      0.0   \n",
       "\n",
       "               ingredients_that_may_be_from_palm_oil  \\\n",
       "code                                                   \n",
       "0000000001199                                    NaN   \n",
       "0000000001663                                    NaN   \n",
       "0000000002264                                    NaN   \n",
       "0000000003827                                    NaN   \n",
       "0000000004510                                    NaN   \n",
       "\n",
       "              ingredients_that_may_be_from_palm_oil_tags  \n",
       "code                                                      \n",
       "0000000001199                                        NaN  \n",
       "0000000001663                                        NaN  \n",
       "0000000002264                                        NaN  \n",
       "0000000003827                                        NaN  \n",
       "0000000004510                                        NaN  "
      ]
     },
     "execution_count": 6,
     "metadata": {},
     "output_type": "execute_result"
    }
   ],
   "source": [
    "data.head()"
   ]
  },
  {
   "cell_type": "code",
   "execution_count": 8,
   "metadata": {},
   "outputs": [
    {
     "name": "stderr",
     "output_type": "stream",
     "text": [
      "C:\\Users\\johan\\Anaconda3\\envs\\ada\\lib\\site-packages\\ipykernel\\__main__.py:3: SettingWithCopyWarning: \n",
      "A value is trying to be set on a copy of a slice from a DataFrame.\n",
      "Try using .loc[row_indexer,col_indexer] = value instead\n",
      "\n",
      "See the caveats in the documentation: http://pandas.pydata.org/pandas-docs/stable/indexing.html#indexing-view-versus-copy\n",
      "  app.launch_new_instance()\n",
      "C:\\Users\\johan\\Anaconda3\\envs\\ada\\lib\\site-packages\\ipykernel\\__main__.py:4: SettingWithCopyWarning: \n",
      "A value is trying to be set on a copy of a slice from a DataFrame.\n",
      "Try using .loc[row_indexer,col_indexer] = value instead\n",
      "\n",
      "See the caveats in the documentation: http://pandas.pydata.org/pandas-docs/stable/indexing.html#indexing-view-versus-copy\n"
     ]
    }
   ],
   "source": [
    "contains_palm = data[data['ingredients_from_palm_oil_n'] > 0.0]\n",
    "may_contain_palm = data[data['ingredients_that_may_be_from_palm_oil_n'] > 0.0]\n",
    "contains_palm['count'] = 1\n",
    "may_contain_palm['count'] = 1\n"
   ]
  },
  {
   "cell_type": "code",
   "execution_count": 9,
   "metadata": {},
   "outputs": [
    {
     "data": {
      "text/plain": [
       "Index(['0000000290616', '0000069006562', '00023092', '00035460', '00052283',\n",
       "       '00087728', '00088749', '00096225', '00099202', '00101356',\n",
       "       ...\n",
       "       '9556085735739', '9556121020164', '9556417639339', '9556439887497',\n",
       "       '9556587103869', '96121283', '9714176130355', '98152056', '98797554',\n",
       "       '99515874'],\n",
       "      dtype='object', name='code', length=8229)"
      ]
     },
     "execution_count": 9,
     "metadata": {},
     "output_type": "execute_result"
    }
   ],
   "source": [
    "contains_palm.index.difference(may_contain_palm.index)\n",
    "# This can be useful to see that there is some correlation between may_contain <->contains"
   ]
  },
  {
   "cell_type": "code",
   "execution_count": 10,
   "metadata": {
    "scrolled": false
   },
   "outputs": [
    {
     "data": {
      "image/png": "[encoded data removed]",
      "text/plain": [
       "<Figure size 432x288 with 1 Axes>"
      ]
     },
     "metadata": {
      "needs_background": "light"
     },
     "output_type": "display_data"
    },
    {
     "data": {
      "image/png": "[encoded data removed]",
      "text/plain": [
       "<Figure size 432x288 with 1 Axes>"
      ]
     },
     "metadata": {
      "needs_background": "light"
     },
     "output_type": "display_data"
    }
   ],
   "source": [
    "## Group by how many ingredients contain palm oil. and may contain. \n",
    "count_palm = contains_palm.groupby(\"ingredients_from_palm_oil_n\")['count'].count()\n",
    "count_may = may_contain_palm.groupby(\"ingredients_that_may_be_from_palm_oil_n\")['count'].count()\n",
    "count_palm.plot.bar(logy=True,title=\"Count of palm oil ingredient by number in product\",color='b')\n",
    "plt.xlabel(\"Ingredient amount\")\n",
    "plt.savefig(\"img/count_palm_oil_ingredient.png\")\n",
    "plt.show()\n",
    "count_may.plot.bar(logy=True,title=\"Count of palm oil related ingredient by number in product\",color='b')\n",
    "plt.xlabel(\"Ingredient amount\")\n",
    "plt.savefig(\"img/count_may_be_palm_oil_ingredient.png\")\n",
    "\n",
    "plt.show()"
   ]
  },
  {
   "cell_type": "markdown",
   "metadata": {},
   "source": [
    "- We can see that that most of the product seem to have only one ingredient or two that are related to palm oil\n",
    "- However the product that may contains palm oil can have a little more ingredients. "
   ]
  },
  {
   "cell_type": "code",
   "execution_count": 11,
   "metadata": {
    "scrolled": true
   },
   "outputs": [
    {
     "name": "stdout",
     "output_type": "stream",
     "text": [
      "There is 11768 articles that contain palm oil.\n",
      "There is 22433 articles that may contain palm oil \n",
      "The correlation between food that contains palm oil and that may contains palm oil is 0.193331 \n"
     ]
    },
    {
     "data": {
      "image/png": "[encoded data removed]",
      "text/plain": [
       "<Figure size 432x288 with 1 Axes>"
      ]
     },
     "metadata": {
      "needs_background": "light"
     },
     "output_type": "display_data"
    }
   ],
   "source": [
    "## One can wonder how much this represents in terms of relations. \n",
    "cnt_palm = contains_palm.shape[0] \n",
    "may_cnt_palm = may_contain_palm.shape[0]\n",
    "print(\"There is %d articles that contain palm oil.\"%cnt_palm)\n",
    "print(\"There is %d articles that may contain palm oil \"%may_cnt_palm)\n",
    "correlation = data[\"ingredients_from_palm_oil_n\"].corr(data[\"ingredients_that_may_be_from_palm_oil_n\"],method=\"pearson\")\n",
    "print(\"The correlation between food that contains palm oil and that may contains palm oil is %f \" % correlation)\n",
    "\n",
    "data.plot.scatter(x=\"ingredients_from_palm_oil_n\",y=\"ingredients_that_may_be_from_palm_oil_n\")\n",
    "plt.savefig(\"img/scatter_may_be_palm_oil_ingredient.png\")\n",
    "\n",
    "plt.show()\n"
   ]
  },
  {
   "cell_type": "markdown",
   "metadata": {},
   "source": [
    "<p> We can't infer much as the scatter plots are not very helpful in visualize the data. Nut we can see that the correlation is low (less than 0.2) so there is not much relation between the number of ingredients and how many may contain palm oil.  </p>"
   ]
  },
  {
   "cell_type": "markdown",
   "metadata": {},
   "source": [
    "## Origin of food. "
   ]
  },
  {
   "cell_type": "code",
   "execution_count": 12,
   "metadata": {},
   "outputs": [
    {
     "data": {
      "text/html": [
       "<div>\n",
       "<style scoped>\n",
       "    .dataframe tbody tr th:only-of-type {\n",
       "        vertical-align: middle;\n",
       "    }\n",
       "\n",
       "    .dataframe tbody tr th {\n",
       "        vertical-align: top;\n",
       "    }\n",
       "\n",
       "    .dataframe thead th {\n",
       "        text-align: right;\n",
       "    }\n",
       "</style>\n",
       "<table border=\"1\" class=\"dataframe\">\n",
       "  <thead>\n",
       "    <tr style=\"text-align: right;\">\n",
       "      <th></th>\n",
       "      <th>origins_tags</th>\n",
       "      <th>origins_tags.1</th>\n",
       "      <th>manufacturing_places_tags</th>\n",
       "    </tr>\n",
       "    <tr>\n",
       "      <th>code</th>\n",
       "      <th></th>\n",
       "      <th></th>\n",
       "      <th></th>\n",
       "    </tr>\n",
       "  </thead>\n",
       "  <tbody>\n",
       "    <tr>\n",
       "      <th>0000000020114</th>\n",
       "      <td>NaN</td>\n",
       "      <td>NaN</td>\n",
       "      <td>france</td>\n",
       "    </tr>\n",
       "    <tr>\n",
       "      <th>0000000274722</th>\n",
       "      <td>france</td>\n",
       "      <td>france</td>\n",
       "      <td>france</td>\n",
       "    </tr>\n",
       "    <tr>\n",
       "      <th>0000000290616</th>\n",
       "      <td>quebec</td>\n",
       "      <td>quebec</td>\n",
       "      <td>brossard-quebec</td>\n",
       "    </tr>\n",
       "    <tr>\n",
       "      <th>0000000394710</th>\n",
       "      <td>quebec</td>\n",
       "      <td>quebec</td>\n",
       "      <td>brossard-quebec</td>\n",
       "    </tr>\n",
       "    <tr>\n",
       "      <th>0000001071894</th>\n",
       "      <td>france</td>\n",
       "      <td>france</td>\n",
       "      <td>united-kingdom</td>\n",
       "    </tr>\n",
       "  </tbody>\n",
       "</table>\n",
       "</div>"
      ],
      "text/plain": [
       "              origins_tags origins_tags.1 manufacturing_places_tags\n",
       "code                                                               \n",
       "0000000020114          NaN            NaN                    france\n",
       "0000000274722       france         france                    france\n",
       "0000000290616       quebec         quebec           brossard-quebec\n",
       "0000000394710       quebec         quebec           brossard-quebec\n",
       "0000001071894       france         france            united-kingdom"
      ]
     },
     "execution_count": 12,
     "metadata": {},
     "output_type": "execute_result"
    }
   ],
   "source": [
    "food_origin = pd.read_csv(DATAPATH+\"food_origins.csv\")\n",
    "food_origin.set_index(\"code\", inplace=True)\n",
    "food_origin.head()"
   ]
  },
  {
   "cell_type": "code",
   "execution_count": 13,
   "metadata": {},
   "outputs": [
    {
     "data": {
      "text/plain": [
       "(11768, 11768, 86142)"
      ]
     },
     "execution_count": 13,
     "metadata": {},
     "output_type": "execute_result"
    }
   ],
   "source": [
    "# Let us see first how much data we have available..\n",
    "contains_palm.join(food_origin).shape[0], contains_palm.shape[0],food_origin.shape[0]"
   ]
  },
  {
   "cell_type": "code",
   "execution_count": 17,
   "metadata": {
    "scrolled": true
   },
   "outputs": [],
   "source": [
    "## these operations are done to map the origin and do a value count on the origin..\n",
    "joined = contains_palm.join(data_total[\"origins\"],how='inner').dropna(subset=[\"origins\"])\n",
    "# this simulates flatmap ( explode from spark ) \n",
    "flatmap = joined[\"origins\"].str.split(',').apply(pd.Series).unstack().dropna().to_frame()\n",
    "\n",
    "flatmap.columns = [\"origins\"]\n",
    "flatmap = flatmap.reset_index().set_index(\"code\")\n",
    "flatmap = flatmap[[\"origins\"]]\n",
    "flatmap = flatmap[\"origins\"].value_counts()\n",
    "# only take the ten most significant. \n",
    "top_ten = flatmap[flatmap > 5]"
   ]
  },
  {
   "cell_type": "markdown",
   "metadata": {},
   "source": [
    "- We notice that a lot of places seem to be from france. But we cant really see the trend as it is often in a bad format.\n"
   ]
  },
  {
   "cell_type": "code",
   "execution_count": 18,
   "metadata": {
    "scrolled": false
   },
   "outputs": [
    {
     "data": {
      "image/png": "[encoded data removed]",
      "text/plain": [
       "<Figure size 432x288 with 1 Axes>"
      ]
     },
     "metadata": {
      "needs_background": "light"
     },
     "output_type": "display_data"
    }
   ],
   "source": [
    "top_ten.plot.bar(color='b')\n",
    "plt.savefig(\"img/cnt_palm_oil_country.png\")\n",
    "plt.show()"
   ]
  },
  {
   "cell_type": "markdown",
   "metadata": {},
   "source": [
    "- Note that this is not 100% representative as the database is french so there are more products that come from France that are logged. \n",
    "- Todo : check by standardization of values.."
   ]
  },
  {
   "cell_type": "markdown",
   "metadata": {},
   "source": [
    "# Categories of aliment. "
   ]
  },
  {
   "cell_type": "markdown",
   "metadata": {},
   "source": [
    "<p> we now investigate what time of aliments are more likely to contain palm oil. This can help future shoppers to be more wary around these type of articles and also helps us understand where the need for palm oil is the biggest. </p>"
   ]
  },
  {
   "cell_type": "code",
   "execution_count": 19,
   "metadata": {},
   "outputs": [
    {
     "data": {
      "text/html": [
       "<div>\n",
       "<style scoped>\n",
       "    .dataframe tbody tr th:only-of-type {\n",
       "        vertical-align: middle;\n",
       "    }\n",
       "\n",
       "    .dataframe tbody tr th {\n",
       "        vertical-align: top;\n",
       "    }\n",
       "\n",
       "    .dataframe thead th {\n",
       "        text-align: right;\n",
       "    }\n",
       "</style>\n",
       "<table border=\"1\" class=\"dataframe\">\n",
       "  <thead>\n",
       "    <tr style=\"text-align: right;\">\n",
       "      <th></th>\n",
       "      <th>ingredients_from_palm_oil_n</th>\n",
       "      <th>ingredients_from_palm_oil</th>\n",
       "      <th>ingredients_from_palm_oil_tags</th>\n",
       "      <th>ingredients_that_may_be_from_palm_oil_n</th>\n",
       "      <th>ingredients_that_may_be_from_palm_oil</th>\n",
       "      <th>ingredients_that_may_be_from_palm_oil_tags</th>\n",
       "      <th>main_category_en</th>\n",
       "    </tr>\n",
       "    <tr>\n",
       "      <th>code</th>\n",
       "      <th></th>\n",
       "      <th></th>\n",
       "      <th></th>\n",
       "      <th></th>\n",
       "      <th></th>\n",
       "      <th></th>\n",
       "      <th></th>\n",
       "    </tr>\n",
       "  </thead>\n",
       "  <tbody>\n",
       "    <tr>\n",
       "      <th>0000000005470</th>\n",
       "      <td>0.0</td>\n",
       "      <td>NaN</td>\n",
       "      <td>NaN</td>\n",
       "      <td>0.0</td>\n",
       "      <td>NaN</td>\n",
       "      <td>NaN</td>\n",
       "      <td>Plant-based foods and beverages</td>\n",
       "    </tr>\n",
       "    <tr>\n",
       "      <th>0000000020114</th>\n",
       "      <td>0.0</td>\n",
       "      <td>NaN</td>\n",
       "      <td>NaN</td>\n",
       "      <td>0.0</td>\n",
       "      <td>NaN</td>\n",
       "      <td>NaN</td>\n",
       "      <td>Dietary supplements</td>\n",
       "    </tr>\n",
       "    <tr>\n",
       "      <th>0000000274722</th>\n",
       "      <td>0.0</td>\n",
       "      <td>NaN</td>\n",
       "      <td>NaN</td>\n",
       "      <td>0.0</td>\n",
       "      <td>NaN</td>\n",
       "      <td>NaN</td>\n",
       "      <td>Meals</td>\n",
       "    </tr>\n",
       "    <tr>\n",
       "      <th>0000000290616</th>\n",
       "      <td>1.0</td>\n",
       "      <td>NaN</td>\n",
       "      <td>huile-de-palme</td>\n",
       "      <td>0.0</td>\n",
       "      <td>NaN</td>\n",
       "      <td>NaN</td>\n",
       "      <td>Plant-based foods and beverages</td>\n",
       "    </tr>\n",
       "    <tr>\n",
       "      <th>0000000394710</th>\n",
       "      <td>0.0</td>\n",
       "      <td>NaN</td>\n",
       "      <td>NaN</td>\n",
       "      <td>1.0</td>\n",
       "      <td>NaN</td>\n",
       "      <td>huile-vegetale</td>\n",
       "      <td>Sugary snacks</td>\n",
       "    </tr>\n",
       "  </tbody>\n",
       "</table>\n",
       "</div>"
      ],
      "text/plain": [
       "               ingredients_from_palm_oil_n  ingredients_from_palm_oil  \\\n",
       "code                                                                    \n",
       "0000000005470                          0.0                        NaN   \n",
       "0000000020114                          0.0                        NaN   \n",
       "0000000274722                          0.0                        NaN   \n",
       "0000000290616                          1.0                        NaN   \n",
       "0000000394710                          0.0                        NaN   \n",
       "\n",
       "              ingredients_from_palm_oil_tags  \\\n",
       "code                                           \n",
       "0000000005470                            NaN   \n",
       "0000000020114                            NaN   \n",
       "0000000274722                            NaN   \n",
       "0000000290616                 huile-de-palme   \n",
       "0000000394710                            NaN   \n",
       "\n",
       "               ingredients_that_may_be_from_palm_oil_n  \\\n",
       "code                                                     \n",
       "0000000005470                                      0.0   \n",
       "0000000020114                                      0.0   \n",
       "0000000274722                                      0.0   \n",
       "0000000290616                                      0.0   \n",
       "0000000394710                                      1.0   \n",
       "\n",
       "               ingredients_that_may_be_from_palm_oil  \\\n",
       "code                                                   \n",
       "0000000005470                                    NaN   \n",
       "0000000020114                                    NaN   \n",
       "0000000274722                                    NaN   \n",
       "0000000290616                                    NaN   \n",
       "0000000394710                                    NaN   \n",
       "\n",
       "              ingredients_that_may_be_from_palm_oil_tags  \\\n",
       "code                                                       \n",
       "0000000005470                                        NaN   \n",
       "0000000020114                                        NaN   \n",
       "0000000274722                                        NaN   \n",
       "0000000290616                                        NaN   \n",
       "0000000394710                             huile-vegetale   \n",
       "\n",
       "                              main_category_en  \n",
       "code                                            \n",
       "0000000005470  Plant-based foods and beverages  \n",
       "0000000020114              Dietary supplements  \n",
       "0000000274722                            Meals  \n",
       "0000000290616  Plant-based foods and beverages  \n",
       "0000000394710                    Sugary snacks  "
      ]
     },
     "execution_count": 19,
     "metadata": {},
     "output_type": "execute_result"
    }
   ],
   "source": [
    "join_categories = data.join(data_total[\"main_category_en\"],how=\"inner\").dropna(subset=[\"main_category_en\"])\n",
    "join_categories.head()"
   ]
  },
  {
   "cell_type": "markdown",
   "metadata": {},
   "source": [
    "- Unfortunately this subset is a bit to small to work with.. We will expand it"
   ]
  },
  {
   "cell_type": "code",
   "execution_count": 20,
   "metadata": {},
   "outputs": [],
   "source": [
    "categories_contains = contains_palm.join(data_total[\"categories_en\"],how=\"inner\").dropna(subset=[\"categories_en\"])\n",
    "categories_may_contain = may_contain_palm.join(data_total[\"categories_en\"],how=\"inner\").dropna(subset=[\"categories_en\"])"
   ]
  },
  {
   "cell_type": "code",
   "execution_count": 21,
   "metadata": {},
   "outputs": [
    {
     "data": {
      "text/html": [
       "<div>\n",
       "<style scoped>\n",
       "    .dataframe tbody tr th:only-of-type {\n",
       "        vertical-align: middle;\n",
       "    }\n",
       "\n",
       "    .dataframe tbody tr th {\n",
       "        vertical-align: top;\n",
       "    }\n",
       "\n",
       "    .dataframe thead th {\n",
       "        text-align: right;\n",
       "    }\n",
       "</style>\n",
       "<table border=\"1\" class=\"dataframe\">\n",
       "  <thead>\n",
       "    <tr style=\"text-align: right;\">\n",
       "      <th></th>\n",
       "      <th>ingredients_from_palm_oil_n</th>\n",
       "      <th>ingredients_from_palm_oil</th>\n",
       "      <th>ingredients_from_palm_oil_tags</th>\n",
       "      <th>ingredients_that_may_be_from_palm_oil_n</th>\n",
       "      <th>ingredients_that_may_be_from_palm_oil</th>\n",
       "      <th>ingredients_that_may_be_from_palm_oil_tags</th>\n",
       "      <th>count</th>\n",
       "      <th>categories_en</th>\n",
       "    </tr>\n",
       "    <tr>\n",
       "      <th>code</th>\n",
       "      <th></th>\n",
       "      <th></th>\n",
       "      <th></th>\n",
       "      <th></th>\n",
       "      <th></th>\n",
       "      <th></th>\n",
       "      <th></th>\n",
       "      <th></th>\n",
       "    </tr>\n",
       "  </thead>\n",
       "  <tbody>\n",
       "    <tr>\n",
       "      <th>0000000394710</th>\n",
       "      <td>0.0</td>\n",
       "      <td>NaN</td>\n",
       "      <td>NaN</td>\n",
       "      <td>1.0</td>\n",
       "      <td>NaN</td>\n",
       "      <td>huile-vegetale</td>\n",
       "      <td>1</td>\n",
       "      <td>Sugary snacks,Biscuits and cakes,Pastries</td>\n",
       "    </tr>\n",
       "    <tr>\n",
       "      <th>0000008237798</th>\n",
       "      <td>0.0</td>\n",
       "      <td>NaN</td>\n",
       "      <td>NaN</td>\n",
       "      <td>1.0</td>\n",
       "      <td>NaN</td>\n",
       "      <td>huile-vegetale</td>\n",
       "      <td>1</td>\n",
       "      <td>Meals,Pizzas pies and quiches,Quiches,Lorraine...</td>\n",
       "    </tr>\n",
       "    <tr>\n",
       "      <th>0000010206515</th>\n",
       "      <td>1.0</td>\n",
       "      <td>NaN</td>\n",
       "      <td>huile-de-palme</td>\n",
       "      <td>1.0</td>\n",
       "      <td>NaN</td>\n",
       "      <td>e471-mono-et-diglycerides-d-acides-gras-alimen...</td>\n",
       "      <td>1</td>\n",
       "      <td>Sugary snacks,Confectioneries,Cooking helpers,...</td>\n",
       "    </tr>\n",
       "    <tr>\n",
       "      <th>0000040144078</th>\n",
       "      <td>0.0</td>\n",
       "      <td>NaN</td>\n",
       "      <td>NaN</td>\n",
       "      <td>1.0</td>\n",
       "      <td>NaN</td>\n",
       "      <td>huile-vegetale</td>\n",
       "      <td>1</td>\n",
       "      <td>Sugary snacks,Confectioneries,Chocolate candie...</td>\n",
       "    </tr>\n",
       "    <tr>\n",
       "      <th>0000069160028</th>\n",
       "      <td>0.0</td>\n",
       "      <td>NaN</td>\n",
       "      <td>NaN</td>\n",
       "      <td>1.0</td>\n",
       "      <td>NaN</td>\n",
       "      <td>e471-mono-et-diglycerides-d-acides-gras-alimen...</td>\n",
       "      <td>1</td>\n",
       "      <td>Desserts,Frozen foods,Frozen desserts</td>\n",
       "    </tr>\n",
       "  </tbody>\n",
       "</table>\n",
       "</div>"
      ],
      "text/plain": [
       "               ingredients_from_palm_oil_n  ingredients_from_palm_oil  \\\n",
       "code                                                                    \n",
       "0000000394710                          0.0                        NaN   \n",
       "0000008237798                          0.0                        NaN   \n",
       "0000010206515                          1.0                        NaN   \n",
       "0000040144078                          0.0                        NaN   \n",
       "0000069160028                          0.0                        NaN   \n",
       "\n",
       "              ingredients_from_palm_oil_tags  \\\n",
       "code                                           \n",
       "0000000394710                            NaN   \n",
       "0000008237798                            NaN   \n",
       "0000010206515                 huile-de-palme   \n",
       "0000040144078                            NaN   \n",
       "0000069160028                            NaN   \n",
       "\n",
       "               ingredients_that_may_be_from_palm_oil_n  \\\n",
       "code                                                     \n",
       "0000000394710                                      1.0   \n",
       "0000008237798                                      1.0   \n",
       "0000010206515                                      1.0   \n",
       "0000040144078                                      1.0   \n",
       "0000069160028                                      1.0   \n",
       "\n",
       "               ingredients_that_may_be_from_palm_oil  \\\n",
       "code                                                   \n",
       "0000000394710                                    NaN   \n",
       "0000008237798                                    NaN   \n",
       "0000010206515                                    NaN   \n",
       "0000040144078                                    NaN   \n",
       "0000069160028                                    NaN   \n",
       "\n",
       "                      ingredients_that_may_be_from_palm_oil_tags  count  \\\n",
       "code                                                                      \n",
       "0000000394710                                     huile-vegetale      1   \n",
       "0000008237798                                     huile-vegetale      1   \n",
       "0000010206515  e471-mono-et-diglycerides-d-acides-gras-alimen...      1   \n",
       "0000040144078                                     huile-vegetale      1   \n",
       "0000069160028  e471-mono-et-diglycerides-d-acides-gras-alimen...      1   \n",
       "\n",
       "                                                   categories_en  \n",
       "code                                                              \n",
       "0000000394710          Sugary snacks,Biscuits and cakes,Pastries  \n",
       "0000008237798  Meals,Pizzas pies and quiches,Quiches,Lorraine...  \n",
       "0000010206515  Sugary snacks,Confectioneries,Cooking helpers,...  \n",
       "0000040144078  Sugary snacks,Confectioneries,Chocolate candie...  \n",
       "0000069160028              Desserts,Frozen foods,Frozen desserts  "
      ]
     },
     "execution_count": 21,
     "metadata": {},
     "output_type": "execute_result"
    }
   ],
   "source": [
    "categories_may_contain.head()"
   ]
  },
  {
   "cell_type": "code",
   "execution_count": 22,
   "metadata": {},
   "outputs": [
    {
     "data": {
      "text/html": [
       "<div>\n",
       "<style scoped>\n",
       "    .dataframe tbody tr th:only-of-type {\n",
       "        vertical-align: middle;\n",
       "    }\n",
       "\n",
       "    .dataframe tbody tr th {\n",
       "        vertical-align: top;\n",
       "    }\n",
       "\n",
       "    .dataframe thead th {\n",
       "        text-align: right;\n",
       "    }\n",
       "</style>\n",
       "<table border=\"1\" class=\"dataframe\">\n",
       "  <thead>\n",
       "    <tr style=\"text-align: right;\">\n",
       "      <th></th>\n",
       "      <th>ingredients_from_palm_oil_n</th>\n",
       "      <th>ingredients_from_palm_oil</th>\n",
       "      <th>ingredients_from_palm_oil_tags</th>\n",
       "      <th>ingredients_that_may_be_from_palm_oil_n</th>\n",
       "      <th>ingredients_that_may_be_from_palm_oil</th>\n",
       "      <th>ingredients_that_may_be_from_palm_oil_tags</th>\n",
       "      <th>count</th>\n",
       "      <th>categories_en</th>\n",
       "    </tr>\n",
       "    <tr>\n",
       "      <th>code</th>\n",
       "      <th></th>\n",
       "      <th></th>\n",
       "      <th></th>\n",
       "      <th></th>\n",
       "      <th></th>\n",
       "      <th></th>\n",
       "      <th></th>\n",
       "      <th></th>\n",
       "    </tr>\n",
       "  </thead>\n",
       "  <tbody>\n",
       "    <tr>\n",
       "      <th>0000000290616</th>\n",
       "      <td>1.0</td>\n",
       "      <td>NaN</td>\n",
       "      <td>huile-de-palme</td>\n",
       "      <td>0.0</td>\n",
       "      <td>NaN</td>\n",
       "      <td>NaN</td>\n",
       "      <td>1</td>\n",
       "      <td>Plant-based foods and beverages,Plant-based fo...</td>\n",
       "    </tr>\n",
       "    <tr>\n",
       "      <th>0000010206515</th>\n",
       "      <td>1.0</td>\n",
       "      <td>NaN</td>\n",
       "      <td>huile-de-palme</td>\n",
       "      <td>1.0</td>\n",
       "      <td>NaN</td>\n",
       "      <td>e471-mono-et-diglycerides-d-acides-gras-alimen...</td>\n",
       "      <td>1</td>\n",
       "      <td>Sugary snacks,Confectioneries,Cooking helpers,...</td>\n",
       "    </tr>\n",
       "    <tr>\n",
       "      <th>0000069006562</th>\n",
       "      <td>1.0</td>\n",
       "      <td>NaN</td>\n",
       "      <td>huile-de-palme</td>\n",
       "      <td>0.0</td>\n",
       "      <td>NaN</td>\n",
       "      <td>NaN</td>\n",
       "      <td>1</td>\n",
       "      <td>Frozen foods,Meals,Frozen ready-made meals,fr:...</td>\n",
       "    </tr>\n",
       "    <tr>\n",
       "      <th>00023092</th>\n",
       "      <td>1.0</td>\n",
       "      <td>NaN</td>\n",
       "      <td>huile-de-palme</td>\n",
       "      <td>0.0</td>\n",
       "      <td>NaN</td>\n",
       "      <td>NaN</td>\n",
       "      <td>1</td>\n",
       "      <td>Sugary snacks,Biscuits and cakes,Biscuits,Cook...</td>\n",
       "    </tr>\n",
       "    <tr>\n",
       "      <th>00027083</th>\n",
       "      <td>1.0</td>\n",
       "      <td>NaN</td>\n",
       "      <td>huile-de-palme</td>\n",
       "      <td>3.0</td>\n",
       "      <td>NaN</td>\n",
       "      <td>e481-stearoyl-2-lactylate-de-sodium,e472e-este...</td>\n",
       "      <td>1</td>\n",
       "      <td>Sugary snacks,Biscuits and cakes,Cakes,Muffins...</td>\n",
       "    </tr>\n",
       "  </tbody>\n",
       "</table>\n",
       "</div>"
      ],
      "text/plain": [
       "               ingredients_from_palm_oil_n  ingredients_from_palm_oil  \\\n",
       "code                                                                    \n",
       "0000000290616                          1.0                        NaN   \n",
       "0000010206515                          1.0                        NaN   \n",
       "0000069006562                          1.0                        NaN   \n",
       "00023092                               1.0                        NaN   \n",
       "00027083                               1.0                        NaN   \n",
       "\n",
       "              ingredients_from_palm_oil_tags  \\\n",
       "code                                           \n",
       "0000000290616                 huile-de-palme   \n",
       "0000010206515                 huile-de-palme   \n",
       "0000069006562                 huile-de-palme   \n",
       "00023092                      huile-de-palme   \n",
       "00027083                      huile-de-palme   \n",
       "\n",
       "               ingredients_that_may_be_from_palm_oil_n  \\\n",
       "code                                                     \n",
       "0000000290616                                      0.0   \n",
       "0000010206515                                      1.0   \n",
       "0000069006562                                      0.0   \n",
       "00023092                                           0.0   \n",
       "00027083                                           3.0   \n",
       "\n",
       "               ingredients_that_may_be_from_palm_oil  \\\n",
       "code                                                   \n",
       "0000000290616                                    NaN   \n",
       "0000010206515                                    NaN   \n",
       "0000069006562                                    NaN   \n",
       "00023092                                         NaN   \n",
       "00027083                                         NaN   \n",
       "\n",
       "                      ingredients_that_may_be_from_palm_oil_tags  count  \\\n",
       "code                                                                      \n",
       "0000000290616                                                NaN      1   \n",
       "0000010206515  e471-mono-et-diglycerides-d-acides-gras-alimen...      1   \n",
       "0000069006562                                                NaN      1   \n",
       "00023092                                                     NaN      1   \n",
       "00027083       e481-stearoyl-2-lactylate-de-sodium,e472e-este...      1   \n",
       "\n",
       "                                                   categories_en  \n",
       "code                                                              \n",
       "0000000290616  Plant-based foods and beverages,Plant-based fo...  \n",
       "0000010206515  Sugary snacks,Confectioneries,Cooking helpers,...  \n",
       "0000069006562  Frozen foods,Meals,Frozen ready-made meals,fr:...  \n",
       "00023092       Sugary snacks,Biscuits and cakes,Biscuits,Cook...  \n",
       "00027083       Sugary snacks,Biscuits and cakes,Cakes,Muffins...  "
      ]
     },
     "execution_count": 22,
     "metadata": {},
     "output_type": "execute_result"
    }
   ],
   "source": [
    "categories_contains.head()"
   ]
  },
  {
   "cell_type": "code",
   "execution_count": 23,
   "metadata": {},
   "outputs": [
    {
     "data": {
      "image/png": "[encoded data removed]",
      "text/plain": [
       "<Figure size 432x288 with 1 Axes>"
      ]
     },
     "metadata": {
      "needs_background": "light"
     },
     "output_type": "display_data"
    }
   ],
   "source": [
    "abc = categories_contains[\"categories_en\"].str.split(',').apply(pd.Series).unstack().dropna().to_frame()#.reset_index().set_index(\"code\").groupby(\"0\")\n",
    "abc.columns = [\"categories_en\"]\n",
    "hi = abc.reset_index().set_index(\"code\")[\"categories_en\"].value_counts()\n",
    "hi.plot.hist(bins=50,logy=True,title=\"Frequency plot of categories by the amount of palm oil\")\n",
    "plt.xlabel(\"Amount\")\n",
    "plt.savefig(\"img/freq_categories_amnt_palm_oil.png\")\n",
    "plt.show()"
   ]
  },
  {
   "cell_type": "markdown",
   "metadata": {},
   "source": [
    "- One might wonder what are the biggest categories in term of palm oil consumption !"
   ]
  },
  {
   "cell_type": "code",
   "execution_count": 24,
   "metadata": {},
   "outputs": [
    {
     "data": {
      "image/png": "[encoded data removed]",
      "text/plain": [
       "<Figure size 1008x864 with 1 Axes>"
      ]
     },
     "metadata": {
      "needs_background": "light"
     },
     "output_type": "display_data"
    }
   ],
   "source": [
    "\n",
    "\n",
    "hi[np.logical_not(hi.index.str.startswith(\"en:\"))].nlargest(25).plot.barh(figsize=(14,12),color='b',title=\"Top 25 categories with most palm oil\")\n",
    "plt.xlabel(\"Amount\")\n",
    "plt.savefig(\"img/top_categories_palm_oil.png\",bbox_inches='tight')\n",
    "plt.show()\n"
   ]
  },
  {
   "cell_type": "markdown",
   "metadata": {},
   "source": [
    "- From this analysis we can see that most products that contain palm oil seem to be sweets and cookie derivated products. So if you want to help the Amazon you should be extra careful around sweet snacks. "
   ]
  },
  {
   "cell_type": "markdown",
   "metadata": {},
   "source": [
    "## Timeline of palm oil"
   ]
  },
  {
   "cell_type": "markdown",
   "metadata": {},
   "source": [
    "- Now we want to investigate the tendency over time of products containing palm oil. If there is more or less of them over time. To do this we will refer to the first time they were added to the database, and see if more products that contain palm oil have been added lately. "
   ]
  },
  {
   "cell_type": "code",
   "execution_count": 25,
   "metadata": {},
   "outputs": [],
   "source": [
    "data_total[\"created_datetime\"] = pd.to_datetime(data_total[\"created_datetime\"],errors=\"coerce\")\n",
    "dateparsed = data_total[data_total[\"created_datetime\"].notnull()]"
   ]
  },
  {
   "cell_type": "code",
   "execution_count": 75,
   "metadata": {
    "scrolled": true
   },
   "outputs": [
    {
     "data": {
      "image/png": "[encoded data removed]",
      "text/plain": [
       "<Figure size 432x288 with 1 Axes>"
      ]
     },
     "metadata": {
      "needs_background": "light"
     },
     "output_type": "display_data"
    }
   ],
   "source": [
    "palm_dated = contains_palm.join(dateparsed[\"created_datetime\"],how='inner')\n",
    "palm_dated = palm_dated[[\"created_datetime\"]].reset_index().set_index(\"created_datetime\")#[\"code\"].value_counts().to_frame()\n",
    "\n",
    "palm_dated[\"count\"] = 1\n",
    "palm_dated = palm_dated[\"count\"].resample(\"180D\").sum()\n",
    "palm_dated.plot.line(title=\"Trend of articles containing palm oil over time\",logy=True)\n",
    "\n",
    "\n",
    "\n",
    "total_dated = dateparsed[[\"created_datetime\"]].reset_index().set_index(\"created_datetime\")\n",
    "total_dated[\"count\"] = 1\n",
    "total_dated = total_dated[\"count\"].resample(\"180D\").sum()\n",
    "total_dated.plot.line(logy=True)\n",
    "\n",
    "plt.legend([\"All articles\",\"Palm oil articles\"])\n",
    "plt.xlabel(\"Date\")\n",
    "plt.ylabel(\"Count\")\n",
    "plt.savefig(\"img/trend_palm_oil_articles.png\")\n",
    "plt.show()"
   ]
  },
  {
   "cell_type": "markdown",
   "metadata": {},
   "source": [
    "<p> We can see there are a few spikes that are explained as a user entering many different types of articles. Therefore there are not very statistically interesting. </p>\n"
   ]
  },
  {
   "cell_type": "code",
   "execution_count": 76,
   "metadata": {},
   "outputs": [
    {
     "data": {
      "image/png": "[encoded data removed]",
      "text/plain": [
       "<Figure size 432x288 with 1 Axes>"
      ]
     },
     "metadata": {
      "needs_background": "light"
     },
     "output_type": "display_data"
    }
   ],
   "source": [
    "palm_dated.cumsum().plot.line()\n",
    "plt.xlabel(\"Time\")\n",
    "plt.ylabel(\"Quantity\")\n",
    "plt.title(\"Cumulative sum of palm oil products\")\n",
    "plt.savefig(\"img/cumsum_palm_oil.png\")\n",
    "\n",
    "plt.show()"
   ]
  },
  {
   "cell_type": "markdown",
   "metadata": {},
   "source": [
    "<p> Here we notice a trend that is quadratic. So there seems to be more and more articles containing palm oil. </p>"
   ]
  },
  {
   "cell_type": "code",
   "execution_count": 77,
   "metadata": {},
   "outputs": [],
   "source": [
    "def trend_line(data,x,y):\n",
    "    \"\"\"\n",
    "        This plots a trend line on a plot. \n",
    "        It is nice to use it on scatter plots. \n",
    "    \"\"\"\n",
    "    z = np.polyfit(data[x], data[y], 1) # fit it to a polynomial \n",
    "    p = np.poly1d(z) # do a 1d polynomial ie. a line. \n",
    "    plt.plot(data[x],p(data[x]),color=\"r\")"
   ]
  },
  {
   "cell_type": "code",
   "execution_count": 78,
   "metadata": {},
   "outputs": [
    {
     "data": {
      "image/png": "[encoded data removed]",
      "text/plain": [
       "<Figure size 432x288 with 1 Axes>"
      ]
     },
     "metadata": {
      "needs_background": "light"
     },
     "output_type": "display_data"
    }
   ],
   "source": [
    "normalized = palm_dated / total_count\n",
    "normalized.plot.line()\n",
    "plt.xlabel(\"Timeline\")\n",
    "plt.ylabel(\"Percent\")\n",
    "plt.title(\"Percentage of palm oil products over time\")\n",
    "plt.savefig(\"img/palmoilcntnormal.png\")\n",
    "plt.show()"
   ]
  },
  {
   "cell_type": "code",
   "execution_count": 55,
   "metadata": {},
   "outputs": [],
   "source": []
  },
  {
   "cell_type": "code",
   "execution_count": null,
   "metadata": {},
   "outputs": [],
   "source": []
  },
  {
   "cell_type": "code",
   "execution_count": null,
   "metadata": {},
   "outputs": [],
   "source": []
  }
 ],
 "metadata": {
  "kernelspec": {
   "display_name": "Python [conda env:ada]",
   "language": "python",
   "name": "conda-env-ada-py"
  },
  "language_info": {
   "codemirror_mode": {
    "name": "ipython",
    "version": 3
   },
   "file_extension": ".py",
   "mimetype": "text/x-python",
   "name": "python",
   "nbconvert_exporter": "python",
   "pygments_lexer": "ipython3",
   "version": "3.6.6"
  }
 },
 "nbformat": 4,
 "nbformat_minor": 2
}
