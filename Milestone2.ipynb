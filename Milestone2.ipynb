{
 "cells": [
  {
   "cell_type": "code",
   "execution_count": 25,
   "metadata": {},
   "outputs": [],
   "source": [
    "import pandas as pd\n",
    "import numpy as np\n",
    "import scipy as scp\n",
    "import scipy.stats\n",
    "import matplotlib.pyplot as plt"
   ]
  },
  {
   "cell_type": "code",
   "execution_count": 2,
   "metadata": {},
   "outputs": [],
   "source": [
    "DATAPATH='data/'"
   ]
  },
  {
   "cell_type": "code",
   "execution_count": 4,
   "metadata": {},
   "outputs": [],
   "source": [
    "data = pd.read_csv(DATAPATH+'openfoodfacts.csv',delimiter='\\t',low_memory=False)"
   ]
  },
  {
   "cell_type": "code",
   "execution_count": 5,
   "metadata": {},
   "outputs": [
    {
     "name": "stdout",
     "output_type": "stream",
     "text": [
      "(665697, 174)\n",
      "665659\n",
      "11446\n",
      "12534\n",
      "61613\n",
      "6490\n"
     ]
    },
    {
     "data": {
      "text/html": [
       "<div>\n",
       "<style scoped>\n",
       "    .dataframe tbody tr th:only-of-type {\n",
       "        vertical-align: middle;\n",
       "    }\n",
       "\n",
       "    .dataframe tbody tr th {\n",
       "        vertical-align: top;\n",
       "    }\n",
       "\n",
       "    .dataframe thead th {\n",
       "        text-align: right;\n",
       "    }\n",
       "</style>\n",
       "<table border=\"1\" class=\"dataframe\">\n",
       "  <thead>\n",
       "    <tr style=\"text-align: right;\">\n",
       "      <th></th>\n",
       "      <th>code</th>\n",
       "      <th>url</th>\n",
       "      <th>creator</th>\n",
       "      <th>created_t</th>\n",
       "      <th>created_datetime</th>\n",
       "      <th>last_modified_t</th>\n",
       "      <th>last_modified_datetime</th>\n",
       "      <th>product_name</th>\n",
       "      <th>generic_name</th>\n",
       "      <th>quantity</th>\n",
       "      <th>...</th>\n",
       "      <th>carbon-footprint_100g</th>\n",
       "      <th>nutrition-score-fr_100g</th>\n",
       "      <th>nutrition-score-uk_100g</th>\n",
       "      <th>glycemic-index_100g</th>\n",
       "      <th>water-hardness_100g</th>\n",
       "      <th>choline_100g</th>\n",
       "      <th>phylloquinone_100g</th>\n",
       "      <th>beta-glucan_100g</th>\n",
       "      <th>inositol_100g</th>\n",
       "      <th>carnitine_100g</th>\n",
       "    </tr>\n",
       "  </thead>\n",
       "  <tbody>\n",
       "    <tr>\n",
       "      <th>0</th>\n",
       "      <td>0000000000017</td>\n",
       "      <td>http://world-en.openfoodfacts.org/product/0000...</td>\n",
       "      <td>kiliweb</td>\n",
       "      <td>1529059080</td>\n",
       "      <td>2018-06-15T10:38:00Z</td>\n",
       "      <td>1529059204</td>\n",
       "      <td>2018-06-15T10:40:04Z</td>\n",
       "      <td>Vitória crackers</td>\n",
       "      <td>NaN</td>\n",
       "      <td>NaN</td>\n",
       "      <td>...</td>\n",
       "      <td>NaN</td>\n",
       "      <td>NaN</td>\n",
       "      <td>NaN</td>\n",
       "      <td>NaN</td>\n",
       "      <td>NaN</td>\n",
       "      <td>NaN</td>\n",
       "      <td>NaN</td>\n",
       "      <td>NaN</td>\n",
       "      <td>NaN</td>\n",
       "      <td>NaN</td>\n",
       "    </tr>\n",
       "    <tr>\n",
       "      <th>1</th>\n",
       "      <td>0000000000031</td>\n",
       "      <td>http://world-en.openfoodfacts.org/product/0000...</td>\n",
       "      <td>isagoofy</td>\n",
       "      <td>1539464774</td>\n",
       "      <td>2018-10-13T21:06:14Z</td>\n",
       "      <td>1539464817</td>\n",
       "      <td>2018-10-13T21:06:57Z</td>\n",
       "      <td>Cacao</td>\n",
       "      <td>NaN</td>\n",
       "      <td>130 g</td>\n",
       "      <td>...</td>\n",
       "      <td>NaN</td>\n",
       "      <td>NaN</td>\n",
       "      <td>NaN</td>\n",
       "      <td>NaN</td>\n",
       "      <td>NaN</td>\n",
       "      <td>NaN</td>\n",
       "      <td>NaN</td>\n",
       "      <td>NaN</td>\n",
       "      <td>NaN</td>\n",
       "      <td>NaN</td>\n",
       "    </tr>\n",
       "    <tr>\n",
       "      <th>2</th>\n",
       "      <td>0000000000123</td>\n",
       "      <td>http://world-en.openfoodfacts.org/product/0000...</td>\n",
       "      <td>kiliweb</td>\n",
       "      <td>1535737982</td>\n",
       "      <td>2018-08-31T17:53:02Z</td>\n",
       "      <td>1535737986</td>\n",
       "      <td>2018-08-31T17:53:06Z</td>\n",
       "      <td>Sauce Sweety chili 0%</td>\n",
       "      <td>NaN</td>\n",
       "      <td>NaN</td>\n",
       "      <td>...</td>\n",
       "      <td>NaN</td>\n",
       "      <td>NaN</td>\n",
       "      <td>NaN</td>\n",
       "      <td>NaN</td>\n",
       "      <td>NaN</td>\n",
       "      <td>NaN</td>\n",
       "      <td>NaN</td>\n",
       "      <td>NaN</td>\n",
       "      <td>NaN</td>\n",
       "      <td>NaN</td>\n",
       "    </tr>\n",
       "    <tr>\n",
       "      <th>3</th>\n",
       "      <td>0000000000291</td>\n",
       "      <td>http://world-en.openfoodfacts.org/product/0000...</td>\n",
       "      <td>kiliweb</td>\n",
       "      <td>1534239669</td>\n",
       "      <td>2018-08-14T09:41:09Z</td>\n",
       "      <td>1534239732</td>\n",
       "      <td>2018-08-14T09:42:12Z</td>\n",
       "      <td>Mendiants</td>\n",
       "      <td>NaN</td>\n",
       "      <td>NaN</td>\n",
       "      <td>...</td>\n",
       "      <td>NaN</td>\n",
       "      <td>NaN</td>\n",
       "      <td>NaN</td>\n",
       "      <td>NaN</td>\n",
       "      <td>NaN</td>\n",
       "      <td>NaN</td>\n",
       "      <td>NaN</td>\n",
       "      <td>NaN</td>\n",
       "      <td>NaN</td>\n",
       "      <td>NaN</td>\n",
       "    </tr>\n",
       "    <tr>\n",
       "      <th>4</th>\n",
       "      <td>0000000000949</td>\n",
       "      <td>http://world-en.openfoodfacts.org/product/0000...</td>\n",
       "      <td>kiliweb</td>\n",
       "      <td>1523440813</td>\n",
       "      <td>2018-04-11T10:00:13Z</td>\n",
       "      <td>1523440823</td>\n",
       "      <td>2018-04-11T10:00:23Z</td>\n",
       "      <td>Salade de carottes râpées</td>\n",
       "      <td>NaN</td>\n",
       "      <td>NaN</td>\n",
       "      <td>...</td>\n",
       "      <td>NaN</td>\n",
       "      <td>NaN</td>\n",
       "      <td>NaN</td>\n",
       "      <td>NaN</td>\n",
       "      <td>NaN</td>\n",
       "      <td>NaN</td>\n",
       "      <td>NaN</td>\n",
       "      <td>NaN</td>\n",
       "      <td>NaN</td>\n",
       "      <td>NaN</td>\n",
       "    </tr>\n",
       "  </tbody>\n",
       "</table>\n",
       "<p>5 rows × 174 columns</p>\n",
       "</div>"
      ],
      "text/plain": [
       "            code                                                url   creator  \\\n",
       "0  0000000000017  http://world-en.openfoodfacts.org/product/0000...   kiliweb   \n",
       "1  0000000000031  http://world-en.openfoodfacts.org/product/0000...  isagoofy   \n",
       "2  0000000000123  http://world-en.openfoodfacts.org/product/0000...   kiliweb   \n",
       "3  0000000000291  http://world-en.openfoodfacts.org/product/0000...   kiliweb   \n",
       "4  0000000000949  http://world-en.openfoodfacts.org/product/0000...   kiliweb   \n",
       "\n",
       "    created_t      created_datetime last_modified_t last_modified_datetime  \\\n",
       "0  1529059080  2018-06-15T10:38:00Z      1529059204   2018-06-15T10:40:04Z   \n",
       "1  1539464774  2018-10-13T21:06:14Z      1539464817   2018-10-13T21:06:57Z   \n",
       "2  1535737982  2018-08-31T17:53:02Z      1535737986   2018-08-31T17:53:06Z   \n",
       "3  1534239669  2018-08-14T09:41:09Z      1534239732   2018-08-14T09:42:12Z   \n",
       "4  1523440813  2018-04-11T10:00:13Z      1523440823   2018-04-11T10:00:23Z   \n",
       "\n",
       "                product_name generic_name quantity      ...        \\\n",
       "0           Vitória crackers          NaN      NaN      ...         \n",
       "1                      Cacao          NaN    130 g      ...         \n",
       "2      Sauce Sweety chili 0%          NaN      NaN      ...         \n",
       "3                  Mendiants          NaN      NaN      ...         \n",
       "4  Salade de carottes râpées          NaN      NaN      ...         \n",
       "\n",
       "  carbon-footprint_100g nutrition-score-fr_100g nutrition-score-uk_100g  \\\n",
       "0                   NaN                     NaN                     NaN   \n",
       "1                   NaN                     NaN                     NaN   \n",
       "2                   NaN                     NaN                     NaN   \n",
       "3                   NaN                     NaN                     NaN   \n",
       "4                   NaN                     NaN                     NaN   \n",
       "\n",
       "  glycemic-index_100g water-hardness_100g choline_100g phylloquinone_100g  \\\n",
       "0                 NaN                 NaN          NaN                NaN   \n",
       "1                 NaN                 NaN          NaN                NaN   \n",
       "2                 NaN                 NaN          NaN                NaN   \n",
       "3                 NaN                 NaN          NaN                NaN   \n",
       "4                 NaN                 NaN          NaN                NaN   \n",
       "\n",
       "  beta-glucan_100g inositol_100g carnitine_100g  \n",
       "0              NaN           NaN            NaN  \n",
       "1              NaN           NaN            NaN  \n",
       "2              NaN           NaN            NaN  \n",
       "3              NaN           NaN            NaN  \n",
       "4              NaN           NaN            NaN  \n",
       "\n",
       "[5 rows x 174 columns]"
      ]
     },
     "execution_count": 5,
     "metadata": {},
     "output_type": "execute_result"
    }
   ],
   "source": [
    "print(data.shape) # 681'602\n",
    "print(data[\"code\"].value_counts().count()) # 681533\n",
    "print(data[\"manufacturing_places_tags\"].value_counts().count()) # 11731\n",
    "print(data[\"manufacturing_places\"].value_counts().count()) # 12884\n",
    "print(data[\"categories\"].value_counts().count()) # 62746\n",
    "print(data[\"origins_tags\"].value_counts().count()) # 6606\n",
    "\n",
    "data.head()"
   ]
  },
  {
   "cell_type": "code",
   "execution_count": 6,
   "metadata": {},
   "outputs": [],
   "source": [
    "#fasters than pd.Series.corr(...)\n",
    "def correlation_columns(column1,column2):\n",
    "    matrix=data[[column1,column2]].dropna().values\n",
    "    return scp.stats.spearmanr(matrix[:,0],matrix[:,1])"
   ]
  },
  {
   "cell_type": "code",
   "execution_count": 7,
   "metadata": {},
   "outputs": [
    {
     "name": "stdout",
     "output_type": "stream",
     "text": [
      "SpearmanrResult(correlation=0.9642065075130063, pvalue=0.0)\n",
      "SpearmanrResult(correlation=0.7276323408917151, pvalue=0.0)\n",
      "SpearmanrResult(correlation=0.7673307503853053, pvalue=2.085739219717803e-177)\n",
      "SpearmanrResult(correlation=0.11789138476826279, pvalue=0.0)\n",
      "SpearmanrResult(correlation=0.3325211853717805, pvalue=0.0)\n"
     ]
    }
   ],
   "source": [
    "#example of use of the correlation function\n",
    "print(correlation_columns('energy-from-fat_100g','fat_100g'))\n",
    "print(correlation_columns('energy_100g','fat_100g'))\n",
    "print(correlation_columns('energy_100g','energy-from-fat_100g'))\n",
    "print(correlation_columns('energy_100g','salt_100g'))\n",
    "print(correlation_columns('salt_100g','fat_100g'))"
   ]
  },
  {
   "cell_type": "markdown",
   "metadata": {},
   "source": [
    "# Get rid of dupplicates"
   ]
  },
  {
   "cell_type": "code",
   "execution_count": 8,
   "metadata": {},
   "outputs": [
    {
     "name": "stdout",
     "output_type": "stream",
     "text": [
      "34\n"
     ]
    }
   ],
   "source": [
    "# Check values thave haveno code value. \n",
    "null_code = data[pd.isnull(data['code'])].shape[0]\n",
    "print(null_code)\n",
    "start_dummy_code = 10000000000000\n",
    "end_dummy_code = 10000000000000+null_code\n",
    "dummy_code = list(range(start_dummy_code,end_dummy_code+1))\n",
    "\n",
    "\n",
    "for i,row in enumerate(data[pd.isnull(data['code'])].index):\n",
    "    data.loc[[row],['code']] = dummy_code[i]\n"
   ]
  },
  {
   "cell_type": "code",
   "execution_count": 9,
   "metadata": {},
   "outputs": [
    {
     "data": {
      "text/html": [
       "<div>\n",
       "<style scoped>\n",
       "    .dataframe tbody tr th:only-of-type {\n",
       "        vertical-align: middle;\n",
       "    }\n",
       "\n",
       "    .dataframe tbody tr th {\n",
       "        vertical-align: top;\n",
       "    }\n",
       "\n",
       "    .dataframe thead th {\n",
       "        text-align: right;\n",
       "    }\n",
       "</style>\n",
       "<table border=\"1\" class=\"dataframe\">\n",
       "  <thead>\n",
       "    <tr style=\"text-align: right;\">\n",
       "      <th></th>\n",
       "      <th>code</th>\n",
       "      <th>url</th>\n",
       "      <th>creator</th>\n",
       "      <th>created_t</th>\n",
       "      <th>created_datetime</th>\n",
       "      <th>last_modified_t</th>\n",
       "      <th>last_modified_datetime</th>\n",
       "      <th>product_name</th>\n",
       "      <th>generic_name</th>\n",
       "      <th>quantity</th>\n",
       "      <th>...</th>\n",
       "      <th>carbon-footprint_100g</th>\n",
       "      <th>nutrition-score-fr_100g</th>\n",
       "      <th>nutrition-score-uk_100g</th>\n",
       "      <th>glycemic-index_100g</th>\n",
       "      <th>water-hardness_100g</th>\n",
       "      <th>choline_100g</th>\n",
       "      <th>phylloquinone_100g</th>\n",
       "      <th>beta-glucan_100g</th>\n",
       "      <th>inositol_100g</th>\n",
       "      <th>carnitine_100g</th>\n",
       "    </tr>\n",
       "  </thead>\n",
       "  <tbody>\n",
       "    <tr>\n",
       "      <th>391448</th>\n",
       "      <td>3480580000121</td>\n",
       "      <td>http://world-en.openfoodfacts.org/product/3480...</td>\n",
       "      <td>kiliweb</td>\n",
       "      <td>1534144276</td>\n",
       "      <td>2018-08-13T07:11:16Z</td>\n",
       "      <td>1537180124</td>\n",
       "      <td>2018-09-17T10:28:44Z</td>\n",
       "      <td>Arachides sucrees</td>\n",
       "      <td>NaN</td>\n",
       "      <td>NaN</td>\n",
       "      <td>...</td>\n",
       "      <td>NaN</td>\n",
       "      <td>NaN</td>\n",
       "      <td>NaN</td>\n",
       "      <td>NaN</td>\n",
       "      <td>NaN</td>\n",
       "      <td>NaN</td>\n",
       "      <td>NaN</td>\n",
       "      <td>NaN</td>\n",
       "      <td>NaN</td>\n",
       "      <td>NaN</td>\n",
       "    </tr>\n",
       "    <tr>\n",
       "      <th>391449</th>\n",
       "      <td>3480580000121</td>\n",
       "      <td>http://world-en.openfoodfacts.org/product/3480...</td>\n",
       "      <td>kiliweb</td>\n",
       "      <td>1534144276</td>\n",
       "      <td>2018-08-13T07:11:16Z</td>\n",
       "      <td>1539357604</td>\n",
       "      <td>2018-10-12T15:20:04Z</td>\n",
       "      <td>Arachides Sucrées</td>\n",
       "      <td>NaN</td>\n",
       "      <td>NaN</td>\n",
       "      <td>...</td>\n",
       "      <td>NaN</td>\n",
       "      <td>NaN</td>\n",
       "      <td>NaN</td>\n",
       "      <td>NaN</td>\n",
       "      <td>NaN</td>\n",
       "      <td>NaN</td>\n",
       "      <td>NaN</td>\n",
       "      <td>NaN</td>\n",
       "      <td>NaN</td>\n",
       "      <td>NaN</td>\n",
       "    </tr>\n",
       "    <tr>\n",
       "      <th>421916</th>\n",
       "      <td>3596701440535</td>\n",
       "      <td>http://world-en.openfoodfacts.org/product/3596...</td>\n",
       "      <td>openfoodfacts-contributors</td>\n",
       "      <td>1537044583</td>\n",
       "      <td>2018-09-15T20:49:43Z</td>\n",
       "      <td>1537045183</td>\n",
       "      <td>2018-09-15T20:59:43Z</td>\n",
       "      <td>blanc de dinde</td>\n",
       "      <td>NaN</td>\n",
       "      <td>NaN</td>\n",
       "      <td>...</td>\n",
       "      <td>NaN</td>\n",
       "      <td>NaN</td>\n",
       "      <td>NaN</td>\n",
       "      <td>NaN</td>\n",
       "      <td>NaN</td>\n",
       "      <td>NaN</td>\n",
       "      <td>NaN</td>\n",
       "      <td>NaN</td>\n",
       "      <td>NaN</td>\n",
       "      <td>NaN</td>\n",
       "    </tr>\n",
       "    <tr>\n",
       "      <th>421917</th>\n",
       "      <td>3596701440535</td>\n",
       "      <td>http://world-en.openfoodfacts.org/product/3596...</td>\n",
       "      <td>openfoodfacts-contributors</td>\n",
       "      <td>1537044583</td>\n",
       "      <td>2018-09-15T20:49:43Z</td>\n",
       "      <td>1537045244</td>\n",
       "      <td>2018-09-15T21:00:44Z</td>\n",
       "      <td>blanc de dinde</td>\n",
       "      <td>NaN</td>\n",
       "      <td>NaN</td>\n",
       "      <td>...</td>\n",
       "      <td>NaN</td>\n",
       "      <td>NaN</td>\n",
       "      <td>NaN</td>\n",
       "      <td>NaN</td>\n",
       "      <td>NaN</td>\n",
       "      <td>NaN</td>\n",
       "      <td>NaN</td>\n",
       "      <td>NaN</td>\n",
       "      <td>NaN</td>\n",
       "      <td>NaN</td>\n",
       "    </tr>\n",
       "    <tr>\n",
       "      <th>441055</th>\n",
       "      <td>3700446410957</td>\n",
       "      <td>http://world-en.openfoodfacts.org/product/3700...</td>\n",
       "      <td>openfoodfacts-contributors</td>\n",
       "      <td>1537012708</td>\n",
       "      <td>2018-09-15T11:58:28Z</td>\n",
       "      <td>1537174585</td>\n",
       "      <td>2018-09-17T08:56:25Z</td>\n",
       "      <td>myrtille bio</td>\n",
       "      <td>NaN</td>\n",
       "      <td>118g</td>\n",
       "      <td>...</td>\n",
       "      <td>NaN</td>\n",
       "      <td>NaN</td>\n",
       "      <td>NaN</td>\n",
       "      <td>NaN</td>\n",
       "      <td>NaN</td>\n",
       "      <td>NaN</td>\n",
       "      <td>NaN</td>\n",
       "      <td>NaN</td>\n",
       "      <td>NaN</td>\n",
       "      <td>NaN</td>\n",
       "    </tr>\n",
       "    <tr>\n",
       "      <th>441056</th>\n",
       "      <td>3700446410957</td>\n",
       "      <td>http://world-en.openfoodfacts.org/product/3700...</td>\n",
       "      <td>openfoodfacts-contributors</td>\n",
       "      <td>1537012708</td>\n",
       "      <td>2018-09-15T11:58:28Z</td>\n",
       "      <td>1537174704</td>\n",
       "      <td>2018-09-17T08:58:24Z</td>\n",
       "      <td>myrtille bio</td>\n",
       "      <td>NaN</td>\n",
       "      <td>118g</td>\n",
       "      <td>...</td>\n",
       "      <td>NaN</td>\n",
       "      <td>NaN</td>\n",
       "      <td>NaN</td>\n",
       "      <td>NaN</td>\n",
       "      <td>NaN</td>\n",
       "      <td>NaN</td>\n",
       "      <td>NaN</td>\n",
       "      <td>NaN</td>\n",
       "      <td>NaN</td>\n",
       "      <td>NaN</td>\n",
       "    </tr>\n",
       "    <tr>\n",
       "      <th>559773</th>\n",
       "      <td>6003326008341</td>\n",
       "      <td>http://world-en.openfoodfacts.org/product/6003...</td>\n",
       "      <td>beniben</td>\n",
       "      <td>1537967806</td>\n",
       "      <td>2018-09-26T13:16:46Z</td>\n",
       "      <td>1537970130</td>\n",
       "      <td>2018-09-26T13:55:30Z</td>\n",
       "      <td>Pilsener</td>\n",
       "      <td>Beer - Pilsener</td>\n",
       "      <td>330 ml</td>\n",
       "      <td>...</td>\n",
       "      <td>NaN</td>\n",
       "      <td>NaN</td>\n",
       "      <td>NaN</td>\n",
       "      <td>NaN</td>\n",
       "      <td>NaN</td>\n",
       "      <td>NaN</td>\n",
       "      <td>NaN</td>\n",
       "      <td>NaN</td>\n",
       "      <td>NaN</td>\n",
       "      <td>NaN</td>\n",
       "    </tr>\n",
       "    <tr>\n",
       "      <th>559774</th>\n",
       "      <td>6003326008341</td>\n",
       "      <td>http://world-en.openfoodfacts.org/product/6003...</td>\n",
       "      <td>beniben</td>\n",
       "      <td>1537967806</td>\n",
       "      <td>2018-09-26T13:16:46Z</td>\n",
       "      <td>1537970162</td>\n",
       "      <td>2018-09-26T13:56:02Z</td>\n",
       "      <td>Pilsener</td>\n",
       "      <td>Beer - Pilsener</td>\n",
       "      <td>330 ml</td>\n",
       "      <td>...</td>\n",
       "      <td>NaN</td>\n",
       "      <td>NaN</td>\n",
       "      <td>NaN</td>\n",
       "      <td>NaN</td>\n",
       "      <td>NaN</td>\n",
       "      <td>NaN</td>\n",
       "      <td>NaN</td>\n",
       "      <td>NaN</td>\n",
       "      <td>NaN</td>\n",
       "      <td>NaN</td>\n",
       "    </tr>\n",
       "  </tbody>\n",
       "</table>\n",
       "<p>8 rows × 174 columns</p>\n",
       "</div>"
      ],
      "text/plain": [
       "                 code                                                url  \\\n",
       "391448  3480580000121  http://world-en.openfoodfacts.org/product/3480...   \n",
       "391449  3480580000121  http://world-en.openfoodfacts.org/product/3480...   \n",
       "421916  3596701440535  http://world-en.openfoodfacts.org/product/3596...   \n",
       "421917  3596701440535  http://world-en.openfoodfacts.org/product/3596...   \n",
       "441055  3700446410957  http://world-en.openfoodfacts.org/product/3700...   \n",
       "441056  3700446410957  http://world-en.openfoodfacts.org/product/3700...   \n",
       "559773  6003326008341  http://world-en.openfoodfacts.org/product/6003...   \n",
       "559774  6003326008341  http://world-en.openfoodfacts.org/product/6003...   \n",
       "\n",
       "                           creator   created_t      created_datetime  \\\n",
       "391448                     kiliweb  1534144276  2018-08-13T07:11:16Z   \n",
       "391449                     kiliweb  1534144276  2018-08-13T07:11:16Z   \n",
       "421916  openfoodfacts-contributors  1537044583  2018-09-15T20:49:43Z   \n",
       "421917  openfoodfacts-contributors  1537044583  2018-09-15T20:49:43Z   \n",
       "441055  openfoodfacts-contributors  1537012708  2018-09-15T11:58:28Z   \n",
       "441056  openfoodfacts-contributors  1537012708  2018-09-15T11:58:28Z   \n",
       "559773                     beniben  1537967806  2018-09-26T13:16:46Z   \n",
       "559774                     beniben  1537967806  2018-09-26T13:16:46Z   \n",
       "\n",
       "       last_modified_t last_modified_datetime       product_name  \\\n",
       "391448      1537180124   2018-09-17T10:28:44Z  Arachides sucrees   \n",
       "391449      1539357604   2018-10-12T15:20:04Z  Arachides Sucrées   \n",
       "421916      1537045183   2018-09-15T20:59:43Z     blanc de dinde   \n",
       "421917      1537045244   2018-09-15T21:00:44Z     blanc de dinde   \n",
       "441055      1537174585   2018-09-17T08:56:25Z       myrtille bio   \n",
       "441056      1537174704   2018-09-17T08:58:24Z       myrtille bio   \n",
       "559773      1537970130   2018-09-26T13:55:30Z           Pilsener   \n",
       "559774      1537970162   2018-09-26T13:56:02Z           Pilsener   \n",
       "\n",
       "           generic_name quantity      ...       carbon-footprint_100g  \\\n",
       "391448              NaN      NaN      ...                         NaN   \n",
       "391449              NaN      NaN      ...                         NaN   \n",
       "421916              NaN      NaN      ...                         NaN   \n",
       "421917              NaN      NaN      ...                         NaN   \n",
       "441055              NaN     118g      ...                         NaN   \n",
       "441056              NaN     118g      ...                         NaN   \n",
       "559773  Beer - Pilsener   330 ml      ...                         NaN   \n",
       "559774  Beer - Pilsener   330 ml      ...                         NaN   \n",
       "\n",
       "       nutrition-score-fr_100g nutrition-score-uk_100g glycemic-index_100g  \\\n",
       "391448                     NaN                     NaN                 NaN   \n",
       "391449                     NaN                     NaN                 NaN   \n",
       "421916                     NaN                     NaN                 NaN   \n",
       "421917                     NaN                     NaN                 NaN   \n",
       "441055                     NaN                     NaN                 NaN   \n",
       "441056                     NaN                     NaN                 NaN   \n",
       "559773                     NaN                     NaN                 NaN   \n",
       "559774                     NaN                     NaN                 NaN   \n",
       "\n",
       "       water-hardness_100g choline_100g phylloquinone_100g beta-glucan_100g  \\\n",
       "391448                 NaN          NaN                NaN              NaN   \n",
       "391449                 NaN          NaN                NaN              NaN   \n",
       "421916                 NaN          NaN                NaN              NaN   \n",
       "421917                 NaN          NaN                NaN              NaN   \n",
       "441055                 NaN          NaN                NaN              NaN   \n",
       "441056                 NaN          NaN                NaN              NaN   \n",
       "559773                 NaN          NaN                NaN              NaN   \n",
       "559774                 NaN          NaN                NaN              NaN   \n",
       "\n",
       "       inositol_100g carnitine_100g  \n",
       "391448           NaN            NaN  \n",
       "391449           NaN            NaN  \n",
       "421916           NaN            NaN  \n",
       "421917           NaN            NaN  \n",
       "441055           NaN            NaN  \n",
       "441056           NaN            NaN  \n",
       "559773           NaN            NaN  \n",
       "559774           NaN            NaN  \n",
       "\n",
       "[8 rows x 174 columns]"
      ]
     },
     "execution_count": 9,
     "metadata": {},
     "output_type": "execute_result"
    }
   ],
   "source": [
    "# investigate duplicates. \n",
    "data[data.duplicated(subset=['code'],keep=False)]"
   ]
  },
  {
   "cell_type": "code",
   "execution_count": 10,
   "metadata": {},
   "outputs": [
    {
     "data": {
      "text/plain": [
       "True"
      ]
     },
     "execution_count": 10,
     "metadata": {},
     "output_type": "execute_result"
    }
   ],
   "source": [
    "# Drop duplicates, set index, and check if ok. \n",
    "data = data.drop_duplicates(subset=['code'],keep=\"first\")\n",
    "data.set_index('code',inplace=True)\n",
    "data.index.is_unique"
   ]
  },
  {
   "cell_type": "code",
   "execution_count": 11,
   "metadata": {},
   "outputs": [],
   "source": [
    "data.to_csv(DATAPATH+\"/cleaned_unique_index.csv\")"
   ]
  },
  {
   "cell_type": "markdown",
   "metadata": {},
   "source": [
    "food origin"
   ]
  },
  {
   "cell_type": "code",
   "execution_count": 12,
   "metadata": {},
   "outputs": [
    {
     "name": "stdout",
     "output_type": "stream",
     "text": [
      "(86142, 173)\n"
     ]
    }
   ],
   "source": [
    "a = ~data[\"first_packaging_code_geo\"].isnull() # 27572\n",
    "b = ~data[\"origins_tags\"].isnull()\n",
    "c = ~data[\"manufacturing_places_tags\"].isnull()\n",
    "\n",
    "sele = a|b|c  # 88001\n",
    "\n",
    "data_loc = data[sele] # 88001 \n",
    "print(data_loc.shape)\n",
    "# data_loc = data_loc[sele]\n",
    "data_loc[[\"origins_tags\",\"origins_tags\",\"manufacturing_places_tags\"]].to_csv(DATAPATH+'food_origins.csv')"
   ]
  },
  {
   "cell_type": "markdown",
   "metadata": {},
   "source": [
    "set for palm oil"
   ]
  },
  {
   "cell_type": "code",
   "execution_count": 13,
   "metadata": {},
   "outputs": [
    {
     "data": {
      "text/html": [
       "<div>\n",
       "<style scoped>\n",
       "    .dataframe tbody tr th:only-of-type {\n",
       "        vertical-align: middle;\n",
       "    }\n",
       "\n",
       "    .dataframe tbody tr th {\n",
       "        vertical-align: top;\n",
       "    }\n",
       "\n",
       "    .dataframe thead th {\n",
       "        text-align: right;\n",
       "    }\n",
       "</style>\n",
       "<table border=\"1\" class=\"dataframe\">\n",
       "  <thead>\n",
       "    <tr style=\"text-align: right;\">\n",
       "      <th></th>\n",
       "      <th>ingredients_from_palm_oil_n</th>\n",
       "      <th>ingredients_from_palm_oil</th>\n",
       "      <th>ingredients_from_palm_oil_tags</th>\n",
       "      <th>ingredients_that_may_be_from_palm_oil_n</th>\n",
       "      <th>ingredients_that_may_be_from_palm_oil</th>\n",
       "      <th>ingredients_that_may_be_from_palm_oil_tags</th>\n",
       "    </tr>\n",
       "    <tr>\n",
       "      <th>code</th>\n",
       "      <th></th>\n",
       "      <th></th>\n",
       "      <th></th>\n",
       "      <th></th>\n",
       "      <th></th>\n",
       "      <th></th>\n",
       "    </tr>\n",
       "  </thead>\n",
       "  <tbody>\n",
       "    <tr>\n",
       "      <th>0000000001199</th>\n",
       "      <td>0.0</td>\n",
       "      <td>NaN</td>\n",
       "      <td>NaN</td>\n",
       "      <td>0.0</td>\n",
       "      <td>NaN</td>\n",
       "      <td>NaN</td>\n",
       "    </tr>\n",
       "    <tr>\n",
       "      <th>0000000001663</th>\n",
       "      <td>0.0</td>\n",
       "      <td>NaN</td>\n",
       "      <td>NaN</td>\n",
       "      <td>0.0</td>\n",
       "      <td>NaN</td>\n",
       "      <td>NaN</td>\n",
       "    </tr>\n",
       "    <tr>\n",
       "      <th>0000000002264</th>\n",
       "      <td>0.0</td>\n",
       "      <td>NaN</td>\n",
       "      <td>NaN</td>\n",
       "      <td>0.0</td>\n",
       "      <td>NaN</td>\n",
       "      <td>NaN</td>\n",
       "    </tr>\n",
       "    <tr>\n",
       "      <th>0000000003827</th>\n",
       "      <td>0.0</td>\n",
       "      <td>NaN</td>\n",
       "      <td>NaN</td>\n",
       "      <td>0.0</td>\n",
       "      <td>NaN</td>\n",
       "      <td>NaN</td>\n",
       "    </tr>\n",
       "    <tr>\n",
       "      <th>0000000004510</th>\n",
       "      <td>0.0</td>\n",
       "      <td>NaN</td>\n",
       "      <td>NaN</td>\n",
       "      <td>0.0</td>\n",
       "      <td>NaN</td>\n",
       "      <td>NaN</td>\n",
       "    </tr>\n",
       "  </tbody>\n",
       "</table>\n",
       "</div>"
      ],
      "text/plain": [
       "               ingredients_from_palm_oil_n  ingredients_from_palm_oil  \\\n",
       "code                                                                    \n",
       "0000000001199                          0.0                        NaN   \n",
       "0000000001663                          0.0                        NaN   \n",
       "0000000002264                          0.0                        NaN   \n",
       "0000000003827                          0.0                        NaN   \n",
       "0000000004510                          0.0                        NaN   \n",
       "\n",
       "              ingredients_from_palm_oil_tags  \\\n",
       "code                                           \n",
       "0000000001199                            NaN   \n",
       "0000000001663                            NaN   \n",
       "0000000002264                            NaN   \n",
       "0000000003827                            NaN   \n",
       "0000000004510                            NaN   \n",
       "\n",
       "               ingredients_that_may_be_from_palm_oil_n  \\\n",
       "code                                                     \n",
       "0000000001199                                      0.0   \n",
       "0000000001663                                      0.0   \n",
       "0000000002264                                      0.0   \n",
       "0000000003827                                      0.0   \n",
       "0000000004510                                      0.0   \n",
       "\n",
       "               ingredients_that_may_be_from_palm_oil  \\\n",
       "code                                                   \n",
       "0000000001199                                    NaN   \n",
       "0000000001663                                    NaN   \n",
       "0000000002264                                    NaN   \n",
       "0000000003827                                    NaN   \n",
       "0000000004510                                    NaN   \n",
       "\n",
       "              ingredients_that_may_be_from_palm_oil_tags  \n",
       "code                                                      \n",
       "0000000001199                                        NaN  \n",
       "0000000001663                                        NaN  \n",
       "0000000002264                                        NaN  \n",
       "0000000003827                                        NaN  \n",
       "0000000004510                                        NaN  "
      ]
     },
     "execution_count": 13,
     "metadata": {},
     "output_type": "execute_result"
    }
   ],
   "source": [
    "palm_oil = []\n",
    "for col in data.columns:\n",
    "    ## keep columns that have info about palm oil.. \n",
    "    if (\"palm_oil\") in col:\n",
    "        palm_oil.append(col)\n",
    "\n",
    "# Drop rows that have absolutely no information about palm_oil.         \n",
    "palm_oil_data = data.dropna(how='all',subset=palm_oil)[palm_oil]\n",
    "palm_oil_data.head()"
   ]
  },
  {
   "cell_type": "code",
   "execution_count": 14,
   "metadata": {},
   "outputs": [],
   "source": [
    "palm_oil_data.to_csv(DATAPATH+'palm_oil.csv',columns=palm_oil_data.columns,index=True)"
   ]
  },
  {
   "cell_type": "markdown",
   "metadata": {},
   "source": [
    "set for labels"
   ]
  },
  {
   "cell_type": "code",
   "execution_count": 15,
   "metadata": {},
   "outputs": [
    {
     "name": "stdout",
     "output_type": "stream",
     "text": [
      "Columns for label : ['labels', 'labels_tags', 'labels_en']\n"
     ]
    },
    {
     "data": {
      "text/html": [
       "<div>\n",
       "<style scoped>\n",
       "    .dataframe tbody tr th:only-of-type {\n",
       "        vertical-align: middle;\n",
       "    }\n",
       "\n",
       "    .dataframe tbody tr th {\n",
       "        vertical-align: top;\n",
       "    }\n",
       "\n",
       "    .dataframe thead th {\n",
       "        text-align: right;\n",
       "    }\n",
       "</style>\n",
       "<table border=\"1\" class=\"dataframe\">\n",
       "  <thead>\n",
       "    <tr style=\"text-align: right;\">\n",
       "      <th></th>\n",
       "      <th>labels</th>\n",
       "      <th>labels_tags</th>\n",
       "      <th>labels_en</th>\n",
       "    </tr>\n",
       "    <tr>\n",
       "      <th>code</th>\n",
       "      <th></th>\n",
       "      <th></th>\n",
       "      <th></th>\n",
       "    </tr>\n",
       "  </thead>\n",
       "  <tbody>\n",
       "    <tr>\n",
       "      <th>0000000020114</th>\n",
       "      <td>Fabriqué en France</td>\n",
       "      <td>en:made-in-france</td>\n",
       "      <td>Made in France</td>\n",
       "    </tr>\n",
       "    <tr>\n",
       "      <th>0000000274722</th>\n",
       "      <td>Viande Française,Fabriqué en France</td>\n",
       "      <td>fr:viande-francaise,en:made-in-france</td>\n",
       "      <td>fr:Viande Française,Made in France</td>\n",
       "    </tr>\n",
       "    <tr>\n",
       "      <th>0000003444009</th>\n",
       "      <td>Contient des OGM</td>\n",
       "      <td>en:contains-gmos</td>\n",
       "      <td>Contains GMOs</td>\n",
       "    </tr>\n",
       "    <tr>\n",
       "      <th>0000005200016</th>\n",
       "      <td>AB</td>\n",
       "      <td>en:organic,en:eu-organic,fr:ab-agriculture-bio...</td>\n",
       "      <td>Organic,EU Organic,fr:AB Agriculture Biologique</td>\n",
       "    </tr>\n",
       "    <tr>\n",
       "      <th>0000007020254</th>\n",
       "      <td>Kascher,Contient des OGM</td>\n",
       "      <td>en:kosher,en:contains-gmos</td>\n",
       "      <td>Kosher,Contains GMOs</td>\n",
       "    </tr>\n",
       "  </tbody>\n",
       "</table>\n",
       "</div>"
      ],
      "text/plain": [
       "                                            labels  \\\n",
       "code                                                 \n",
       "0000000020114                   Fabriqué en France   \n",
       "0000000274722  Viande Française,Fabriqué en France   \n",
       "0000003444009                     Contient des OGM   \n",
       "0000005200016                                   AB   \n",
       "0000007020254             Kascher,Contient des OGM   \n",
       "\n",
       "                                                     labels_tags  \\\n",
       "code                                                               \n",
       "0000000020114                                  en:made-in-france   \n",
       "0000000274722              fr:viande-francaise,en:made-in-france   \n",
       "0000003444009                                   en:contains-gmos   \n",
       "0000005200016  en:organic,en:eu-organic,fr:ab-agriculture-bio...   \n",
       "0000007020254                         en:kosher,en:contains-gmos   \n",
       "\n",
       "                                                     labels_en  \n",
       "code                                                            \n",
       "0000000020114                                   Made in France  \n",
       "0000000274722               fr:Viande Française,Made in France  \n",
       "0000003444009                                    Contains GMOs  \n",
       "0000005200016  Organic,EU Organic,fr:AB Agriculture Biologique  \n",
       "0000007020254                             Kosher,Contains GMOs  "
      ]
     },
     "execution_count": 15,
     "metadata": {},
     "output_type": "execute_result"
    }
   ],
   "source": [
    "labels =[]\n",
    "for col in data.columns:\n",
    "    #isolate columns with info about labels. \n",
    "    if (\"labels\") in (col):\n",
    "        labels.append(col)\n",
    "print(\"Columns for label : \" + str(labels))\n",
    "\n",
    "# drop articles with no info about labels.\n",
    "labels_data = data.dropna(how='all',subset=labels)[labels]\n",
    "labels_data.head()\n"
   ]
  },
  {
   "cell_type": "code",
   "execution_count": 16,
   "metadata": {},
   "outputs": [],
   "source": [
    "labels_data.to_csv(DATAPATH+'labels.csv',columns=labels_data.columns,index=True)"
   ]
  },
  {
   "cell_type": "markdown",
   "metadata": {},
   "source": [
    "set for vegan"
   ]
  },
  {
   "cell_type": "code",
   "execution_count": 17,
   "metadata": {},
   "outputs": [],
   "source": [
    "data_=data.dropna(subset=['labels_tags'])\n",
    "#keeping only vegan labelled data, removing the non-vegan or no-vegan labelled\n",
    "vegan_data=data_[data_['labels_tags'].str.contains('vegan').fillna(False) & (~ data_['labels_tags'].str.contains('no-vegan').fillna(False)) ]\n",
    "del data_"
   ]
  },
  {
   "cell_type": "code",
   "execution_count": 19,
   "metadata": {},
   "outputs": [],
   "source": [
    "vegan_data.to_csv(DATAPATH+'vegan.csv',columns=vegan_data.columns,index=True)"
   ]
  },
  {
   "cell_type": "markdown",
   "metadata": {},
   "source": [
    "# Palm Oil"
   ]
  },
  {
   "cell_type": "markdown",
   "metadata": {},
   "source": [
    "## Exploring the number of aliments that contain palm oil"
   ]
  },
  {
   "cell_type": "code",
   "execution_count": 20,
   "metadata": {},
   "outputs": [
    {
     "name": "stdout",
     "output_type": "stream",
     "text": [
      "We have a total of 115164889 articles entered\n",
      "Out of those we have information about palm oil on 2327766 articles \n",
      "This represents 2.021246 % \n"
     ]
    }
   ],
   "source": [
    "total_count = data.size\n",
    "palm_oil_count = palm_oil_data.size\n",
    "percentage = palm_oil_count / total_count * 100\n",
    "\n",
    "print(\"We have a total of %d articles entered\" % total_count)\n",
    "print(\"Out of those we have information about palm oil on %d articles \" % palm_oil_count)\n",
    "print(\"This represents %f %% \" % percentage)"
   ]
  },
  {
   "cell_type": "markdown",
   "metadata": {},
   "source": [
    "- While this amount seems a bit low it is still more than half articles. We remove from our study all articles that we do not have information about as they could make future analysis biased. The sample of size 387964 is still a fairly large sample size that we can make some statistical analysis on"
   ]
  },
  {
   "cell_type": "code",
   "execution_count": 21,
   "metadata": {},
   "outputs": [
    {
     "data": {
      "text/html": [
       "<div>\n",
       "<style scoped>\n",
       "    .dataframe tbody tr th:only-of-type {\n",
       "        vertical-align: middle;\n",
       "    }\n",
       "\n",
       "    .dataframe tbody tr th {\n",
       "        vertical-align: top;\n",
       "    }\n",
       "\n",
       "    .dataframe thead th {\n",
       "        text-align: right;\n",
       "    }\n",
       "</style>\n",
       "<table border=\"1\" class=\"dataframe\">\n",
       "  <thead>\n",
       "    <tr style=\"text-align: right;\">\n",
       "      <th></th>\n",
       "      <th>ingredients_from_palm_oil_n</th>\n",
       "      <th>ingredients_from_palm_oil</th>\n",
       "      <th>ingredients_from_palm_oil_tags</th>\n",
       "      <th>ingredients_that_may_be_from_palm_oil_n</th>\n",
       "      <th>ingredients_that_may_be_from_palm_oil</th>\n",
       "      <th>ingredients_that_may_be_from_palm_oil_tags</th>\n",
       "    </tr>\n",
       "    <tr>\n",
       "      <th>code</th>\n",
       "      <th></th>\n",
       "      <th></th>\n",
       "      <th></th>\n",
       "      <th></th>\n",
       "      <th></th>\n",
       "      <th></th>\n",
       "    </tr>\n",
       "  </thead>\n",
       "  <tbody>\n",
       "    <tr>\n",
       "      <th>0000000001199</th>\n",
       "      <td>0.0</td>\n",
       "      <td>NaN</td>\n",
       "      <td>NaN</td>\n",
       "      <td>0.0</td>\n",
       "      <td>NaN</td>\n",
       "      <td>NaN</td>\n",
       "    </tr>\n",
       "    <tr>\n",
       "      <th>0000000001663</th>\n",
       "      <td>0.0</td>\n",
       "      <td>NaN</td>\n",
       "      <td>NaN</td>\n",
       "      <td>0.0</td>\n",
       "      <td>NaN</td>\n",
       "      <td>NaN</td>\n",
       "    </tr>\n",
       "    <tr>\n",
       "      <th>0000000002264</th>\n",
       "      <td>0.0</td>\n",
       "      <td>NaN</td>\n",
       "      <td>NaN</td>\n",
       "      <td>0.0</td>\n",
       "      <td>NaN</td>\n",
       "      <td>NaN</td>\n",
       "    </tr>\n",
       "    <tr>\n",
       "      <th>0000000003827</th>\n",
       "      <td>0.0</td>\n",
       "      <td>NaN</td>\n",
       "      <td>NaN</td>\n",
       "      <td>0.0</td>\n",
       "      <td>NaN</td>\n",
       "      <td>NaN</td>\n",
       "    </tr>\n",
       "    <tr>\n",
       "      <th>0000000004510</th>\n",
       "      <td>0.0</td>\n",
       "      <td>NaN</td>\n",
       "      <td>NaN</td>\n",
       "      <td>0.0</td>\n",
       "      <td>NaN</td>\n",
       "      <td>NaN</td>\n",
       "    </tr>\n",
       "  </tbody>\n",
       "</table>\n",
       "</div>"
      ],
      "text/plain": [
       "               ingredients_from_palm_oil_n  ingredients_from_palm_oil  \\\n",
       "code                                                                    \n",
       "0000000001199                          0.0                        NaN   \n",
       "0000000001663                          0.0                        NaN   \n",
       "0000000002264                          0.0                        NaN   \n",
       "0000000003827                          0.0                        NaN   \n",
       "0000000004510                          0.0                        NaN   \n",
       "\n",
       "              ingredients_from_palm_oil_tags  \\\n",
       "code                                           \n",
       "0000000001199                            NaN   \n",
       "0000000001663                            NaN   \n",
       "0000000002264                            NaN   \n",
       "0000000003827                            NaN   \n",
       "0000000004510                            NaN   \n",
       "\n",
       "               ingredients_that_may_be_from_palm_oil_n  \\\n",
       "code                                                     \n",
       "0000000001199                                      0.0   \n",
       "0000000001663                                      0.0   \n",
       "0000000002264                                      0.0   \n",
       "0000000003827                                      0.0   \n",
       "0000000004510                                      0.0   \n",
       "\n",
       "               ingredients_that_may_be_from_palm_oil  \\\n",
       "code                                                   \n",
       "0000000001199                                    NaN   \n",
       "0000000001663                                    NaN   \n",
       "0000000002264                                    NaN   \n",
       "0000000003827                                    NaN   \n",
       "0000000004510                                    NaN   \n",
       "\n",
       "              ingredients_that_may_be_from_palm_oil_tags  \n",
       "code                                                      \n",
       "0000000001199                                        NaN  \n",
       "0000000001663                                        NaN  \n",
       "0000000002264                                        NaN  \n",
       "0000000003827                                        NaN  \n",
       "0000000004510                                        NaN  "
      ]
     },
     "execution_count": 21,
     "metadata": {},
     "output_type": "execute_result"
    }
   ],
   "source": [
    "palm_oil_data.head()"
   ]
  },
  {
   "cell_type": "code",
   "execution_count": 22,
   "metadata": {},
   "outputs": [
    {
     "name": "stderr",
     "output_type": "stream",
     "text": [
      "D:\\Anaconda\\envs\\ada\\lib\\site-packages\\ipykernel_launcher.py:3: SettingWithCopyWarning: \n",
      "A value is trying to be set on a copy of a slice from a DataFrame.\n",
      "Try using .loc[row_indexer,col_indexer] = value instead\n",
      "\n",
      "See the caveats in the documentation: http://pandas.pydata.org/pandas-docs/stable/indexing.html#indexing-view-versus-copy\n",
      "  This is separate from the ipykernel package so we can avoid doing imports until\n",
      "D:\\Anaconda\\envs\\ada\\lib\\site-packages\\ipykernel_launcher.py:4: SettingWithCopyWarning: \n",
      "A value is trying to be set on a copy of a slice from a DataFrame.\n",
      "Try using .loc[row_indexer,col_indexer] = value instead\n",
      "\n",
      "See the caveats in the documentation: http://pandas.pydata.org/pandas-docs/stable/indexing.html#indexing-view-versus-copy\n",
      "  after removing the cwd from sys.path.\n"
     ]
    }
   ],
   "source": [
    "contains_palm = palm_oil_data[palm_oil_data['ingredients_from_palm_oil_n'] > 0.0]\n",
    "may_contain_palm = palm_oil_data[palm_oil_data['ingredients_that_may_be_from_palm_oil_n'] > 0.0]\n",
    "contains_palm['count'] = 1\n",
    "may_contain_palm['count'] = 1"
   ]
  },
  {
   "cell_type": "code",
   "execution_count": 23,
   "metadata": {},
   "outputs": [
    {
     "data": {
      "text/plain": [
       "Index(['0000000290616', '0000069006562', '00023092', '00035460', '00052283',\n",
       "       '00087728', '00088749', '00096225', '00099202', '00101356',\n",
       "       ...\n",
       "       '9556085735739', '9556121020164', '9556417639339', '9556439887497',\n",
       "       '9556587103869', '96121283', '9714176130355', '98152056', '98797554',\n",
       "       '99515874'],\n",
       "      dtype='object', name='code', length=8229)"
      ]
     },
     "execution_count": 23,
     "metadata": {},
     "output_type": "execute_result"
    }
   ],
   "source": [
    "contains_palm.index.difference(may_contain_palm.index)\n",
    "# This can be useful to see that there is some correlation between may_contain <->contains"
   ]
  },
  {
   "cell_type": "code",
   "execution_count": 26,
   "metadata": {},
   "outputs": [
    {
     "data": {
      "image/png": "[encoded data removed]",
      "text/plain": [
       "<Figure size 432x288 with 1 Axes>"
      ]
     },
     "metadata": {
      "needs_background": "light"
     },
     "output_type": "display_data"
    },
    {
     "data": {
      "image/png": "[encoded data removed]",
      "text/plain": [
       "<Figure size 432x288 with 1 Axes>"
      ]
     },
     "metadata": {
      "needs_background": "light"
     },
     "output_type": "display_data"
    }
   ],
   "source": [
    "## Group by how many ingredients contain palm oil. and may contain. \n",
    "count_palm = contains_palm.groupby(\"ingredients_from_palm_oil_n\")['count'].count()\n",
    "count_may = may_contain_palm.groupby(\"ingredients_that_may_be_from_palm_oil_n\")['count'].count()\n",
    "count_palm.plot.bar(logy=True,title=\"Count of palm oil ingredient by number in product\",color='b')\n",
    "plt.xlabel(\"Ingredient amount\")\n",
    "plt.show()\n",
    "count_may.plot.bar(logy=True,title=\"Count of palm oil related ingredient by number in product\",color='b')\n",
    "plt.xlabel(\"Ingredient amount\")\n",
    "plt.show()"
   ]
  },
  {
   "cell_type": "markdown",
   "metadata": {},
   "source": [
    "- We can see that that most of the product seem to have only one ingredient or two that are related to palm oil\n",
    "- However the product that may contains palm oil can have a little more ingredients. "
   ]
  },
  {
   "cell_type": "code",
   "execution_count": 27,
   "metadata": {},
   "outputs": [
    {
     "name": "stdout",
     "output_type": "stream",
     "text": [
      "There is 11768 articles that contain palm oil.\n",
      "There is 22433 articles that may contain palm oil \n",
      "The correlation between food that contains palm oil and that may contains palm oil is 0.193331 \n"
     ]
    },
    {
     "data": {
      "image/png": "[encoded data removed]",
      "text/plain": [
       "<Figure size 432x288 with 1 Axes>"
      ]
     },
     "metadata": {
      "needs_background": "light"
     },
     "output_type": "display_data"
    }
   ],
   "source": [
    "## One can wonder how much this represents in terms of relations. \n",
    "cnt_palm = contains_palm.shape[0] \n",
    "may_cnt_palm = may_contain_palm.shape[0]\n",
    "print(\"There is %d articles that contain palm oil.\"%cnt_palm)\n",
    "print(\"There is %d articles that may contain palm oil \"%may_cnt_palm)\n",
    "correlation = data[\"ingredients_from_palm_oil_n\"].corr(data[\"ingredients_that_may_be_from_palm_oil_n\"],method=\"pearson\")\n",
    "print(\"The correlation between food that contains palm oil and that may contains palm oil is %f \" % correlation)\n",
    "\n",
    "data.plot.scatter(x=\"ingredients_from_palm_oil_n\",y=\"ingredients_that_may_be_from_palm_oil_n\")\n",
    "plt.show()"
   ]
  },
  {
   "cell_type": "markdown",
   "metadata": {},
   "source": [
    "<p> We can't infer much as the scatter plots are not very helpful in visualize the data. Nut we can see that the correlation is low (less than 0.2) so there is not much relation between the number of ingredients and how many may contain palm oil.  </p>"
   ]
  },
  {
   "cell_type": "markdown",
   "metadata": {},
   "source": [
    "## Origin of food"
   ]
  },
  {
   "cell_type": "code",
   "execution_count": 47,
   "metadata": {},
   "outputs": [
    {
     "data": {
      "text/html": [
       "<div>\n",
       "<style scoped>\n",
       "    .dataframe tbody tr th:only-of-type {\n",
       "        vertical-align: middle;\n",
       "    }\n",
       "\n",
       "    .dataframe tbody tr th {\n",
       "        vertical-align: top;\n",
       "    }\n",
       "\n",
       "    .dataframe thead th {\n",
       "        text-align: right;\n",
       "    }\n",
       "</style>\n",
       "<table border=\"1\" class=\"dataframe\">\n",
       "  <thead>\n",
       "    <tr style=\"text-align: right;\">\n",
       "      <th></th>\n",
       "      <th>origins_tags</th>\n",
       "      <th>origins_tags.1</th>\n",
       "      <th>manufacturing_places_tags</th>\n",
       "    </tr>\n",
       "    <tr>\n",
       "      <th>code</th>\n",
       "      <th></th>\n",
       "      <th></th>\n",
       "      <th></th>\n",
       "    </tr>\n",
       "  </thead>\n",
       "  <tbody>\n",
       "    <tr>\n",
       "      <th>0000000020114</th>\n",
       "      <td>NaN</td>\n",
       "      <td>NaN</td>\n",
       "      <td>france</td>\n",
       "    </tr>\n",
       "    <tr>\n",
       "      <th>0000000274722</th>\n",
       "      <td>france</td>\n",
       "      <td>france</td>\n",
       "      <td>france</td>\n",
       "    </tr>\n",
       "    <tr>\n",
       "      <th>0000000290616</th>\n",
       "      <td>quebec</td>\n",
       "      <td>quebec</td>\n",
       "      <td>brossard-quebec</td>\n",
       "    </tr>\n",
       "    <tr>\n",
       "      <th>0000000394710</th>\n",
       "      <td>quebec</td>\n",
       "      <td>quebec</td>\n",
       "      <td>brossard-quebec</td>\n",
       "    </tr>\n",
       "    <tr>\n",
       "      <th>0000001071894</th>\n",
       "      <td>france</td>\n",
       "      <td>france</td>\n",
       "      <td>united-kingdom</td>\n",
       "    </tr>\n",
       "  </tbody>\n",
       "</table>\n",
       "</div>"
      ],
      "text/plain": [
       "              origins_tags origins_tags.1 manufacturing_places_tags\n",
       "code                                                               \n",
       "0000000020114          NaN            NaN                    france\n",
       "0000000274722       france         france                    france\n",
       "0000000290616       quebec         quebec           brossard-quebec\n",
       "0000000394710       quebec         quebec           brossard-quebec\n",
       "0000001071894       france         france            united-kingdom"
      ]
     },
     "execution_count": 47,
     "metadata": {},
     "output_type": "execute_result"
    }
   ],
   "source": [
    "food_origin = pd.read_csv(DATAPATH+\"food_origins.csv\")\n",
    "food_origin.set_index(\"code\", inplace=True)\n",
    "food_origin.head()"
   ]
  },
  {
   "cell_type": "code",
   "execution_count": 48,
   "metadata": {},
   "outputs": [
    {
     "data": {
      "text/plain": [
       "(11768, 11768, 86142)"
      ]
     },
     "execution_count": 48,
     "metadata": {},
     "output_type": "execute_result"
    }
   ],
   "source": [
    "# Let us see first how much data we have available..\n",
    "contains_palm.join(food_origin).shape[0], contains_palm.shape[0],food_origin.shape[0]"
   ]
  },
  {
   "cell_type": "code",
   "execution_count": 50,
   "metadata": {},
   "outputs": [],
   "source": [
    "## these operations are done to map the origin and do a value count on the origin..\n",
    "joined = contains_palm.join(data[\"origins\"],how='inner').dropna(subset=[\"origins\"])\n",
    "# this simulates flatmap ( explode from spark ) \n",
    "flatmap = joined[\"origins\"].str.split(',').apply(pd.Series).unstack().dropna().to_frame()\n",
    "\n",
    "flatmap.columns = [\"origins\"]\n",
    "flatmap = flatmap.reset_index().set_index(\"code\")\n",
    "flatmap = flatmap[[\"origins\"]]\n",
    "flatmap = flatmap[\"origins\"].value_counts()\n",
    "# only take the ten most significant. \n",
    "top_ten = flatmap[flatmap > 5]"
   ]
  },
  {
   "cell_type": "markdown",
   "metadata": {},
   "source": [
    "- We notice that a lot of places seem to be from france. But we cant really see the trend as it is often in a bad format."
   ]
  },
  {
   "cell_type": "code",
   "execution_count": 53,
   "metadata": {},
   "outputs": [
    {
     "data": {
      "text/plain": [
       "<matplotlib.axes._subplots.AxesSubplot at 0x17489046d68>"
      ]
     },
     "execution_count": 53,
     "metadata": {},
     "output_type": "execute_result"
    },
    {
     "data": {
      "image/png": "[encoded data removed]",
      "text/plain": [
       "<Figure size 432x288 with 1 Axes>"
      ]
     },
     "metadata": {
      "needs_background": "light"
     },
     "output_type": "display_data"
    }
   ],
   "source": [
    "top_ten.plot.bar(color='b')"
   ]
  },
  {
   "cell_type": "markdown",
   "metadata": {},
   "source": [
    "- Note that this is not 100% representative as the database is french so there are more products that come from France that are logged. \n",
    "- Todo : check by standardization of values.."
   ]
  },
  {
   "cell_type": "markdown",
   "metadata": {},
   "source": [
    "## Categories of aliment. "
   ]
  },
  {
   "cell_type": "markdown",
   "metadata": {},
   "source": [
    "we now investigate what time of aliments are more likely to contain palm oil. This can help future shoppers to be more wary around these type of articles and also helps us understand where the need for palm oil is the biggest."
   ]
  },
  {
   "cell_type": "code",
   "execution_count": 55,
   "metadata": {},
   "outputs": [
    {
     "data": {
      "text/html": [
       "<div>\n",
       "<style scoped>\n",
       "    .dataframe tbody tr th:only-of-type {\n",
       "        vertical-align: middle;\n",
       "    }\n",
       "\n",
       "    .dataframe tbody tr th {\n",
       "        vertical-align: top;\n",
       "    }\n",
       "\n",
       "    .dataframe thead th {\n",
       "        text-align: right;\n",
       "    }\n",
       "</style>\n",
       "<table border=\"1\" class=\"dataframe\">\n",
       "  <thead>\n",
       "    <tr style=\"text-align: right;\">\n",
       "      <th></th>\n",
       "      <th>ingredients_from_palm_oil_n</th>\n",
       "      <th>ingredients_from_palm_oil</th>\n",
       "      <th>ingredients_from_palm_oil_tags</th>\n",
       "      <th>ingredients_that_may_be_from_palm_oil_n</th>\n",
       "      <th>ingredients_that_may_be_from_palm_oil</th>\n",
       "      <th>ingredients_that_may_be_from_palm_oil_tags</th>\n",
       "      <th>main_category_en</th>\n",
       "    </tr>\n",
       "    <tr>\n",
       "      <th>code</th>\n",
       "      <th></th>\n",
       "      <th></th>\n",
       "      <th></th>\n",
       "      <th></th>\n",
       "      <th></th>\n",
       "      <th></th>\n",
       "      <th></th>\n",
       "    </tr>\n",
       "  </thead>\n",
       "  <tbody>\n",
       "    <tr>\n",
       "      <th>0000000005470</th>\n",
       "      <td>0.0</td>\n",
       "      <td>NaN</td>\n",
       "      <td>NaN</td>\n",
       "      <td>0.0</td>\n",
       "      <td>NaN</td>\n",
       "      <td>NaN</td>\n",
       "      <td>Plant-based foods and beverages</td>\n",
       "    </tr>\n",
       "    <tr>\n",
       "      <th>0000000020114</th>\n",
       "      <td>0.0</td>\n",
       "      <td>NaN</td>\n",
       "      <td>NaN</td>\n",
       "      <td>0.0</td>\n",
       "      <td>NaN</td>\n",
       "      <td>NaN</td>\n",
       "      <td>Dietary supplements</td>\n",
       "    </tr>\n",
       "    <tr>\n",
       "      <th>0000000274722</th>\n",
       "      <td>0.0</td>\n",
       "      <td>NaN</td>\n",
       "      <td>NaN</td>\n",
       "      <td>0.0</td>\n",
       "      <td>NaN</td>\n",
       "      <td>NaN</td>\n",
       "      <td>Meals</td>\n",
       "    </tr>\n",
       "    <tr>\n",
       "      <th>0000000290616</th>\n",
       "      <td>1.0</td>\n",
       "      <td>NaN</td>\n",
       "      <td>huile-de-palme</td>\n",
       "      <td>0.0</td>\n",
       "      <td>NaN</td>\n",
       "      <td>NaN</td>\n",
       "      <td>Plant-based foods and beverages</td>\n",
       "    </tr>\n",
       "    <tr>\n",
       "      <th>0000000394710</th>\n",
       "      <td>0.0</td>\n",
       "      <td>NaN</td>\n",
       "      <td>NaN</td>\n",
       "      <td>1.0</td>\n",
       "      <td>NaN</td>\n",
       "      <td>huile-vegetale</td>\n",
       "      <td>Sugary snacks</td>\n",
       "    </tr>\n",
       "  </tbody>\n",
       "</table>\n",
       "</div>"
      ],
      "text/plain": [
       "               ingredients_from_palm_oil_n  ingredients_from_palm_oil  \\\n",
       "code                                                                    \n",
       "0000000005470                          0.0                        NaN   \n",
       "0000000020114                          0.0                        NaN   \n",
       "0000000274722                          0.0                        NaN   \n",
       "0000000290616                          1.0                        NaN   \n",
       "0000000394710                          0.0                        NaN   \n",
       "\n",
       "              ingredients_from_palm_oil_tags  \\\n",
       "code                                           \n",
       "0000000005470                            NaN   \n",
       "0000000020114                            NaN   \n",
       "0000000274722                            NaN   \n",
       "0000000290616                 huile-de-palme   \n",
       "0000000394710                            NaN   \n",
       "\n",
       "               ingredients_that_may_be_from_palm_oil_n  \\\n",
       "code                                                     \n",
       "0000000005470                                      0.0   \n",
       "0000000020114                                      0.0   \n",
       "0000000274722                                      0.0   \n",
       "0000000290616                                      0.0   \n",
       "0000000394710                                      1.0   \n",
       "\n",
       "               ingredients_that_may_be_from_palm_oil  \\\n",
       "code                                                   \n",
       "0000000005470                                    NaN   \n",
       "0000000020114                                    NaN   \n",
       "0000000274722                                    NaN   \n",
       "0000000290616                                    NaN   \n",
       "0000000394710                                    NaN   \n",
       "\n",
       "              ingredients_that_may_be_from_palm_oil_tags  \\\n",
       "code                                                       \n",
       "0000000005470                                        NaN   \n",
       "0000000020114                                        NaN   \n",
       "0000000274722                                        NaN   \n",
       "0000000290616                                        NaN   \n",
       "0000000394710                             huile-vegetale   \n",
       "\n",
       "                              main_category_en  \n",
       "code                                            \n",
       "0000000005470  Plant-based foods and beverages  \n",
       "0000000020114              Dietary supplements  \n",
       "0000000274722                            Meals  \n",
       "0000000290616  Plant-based foods and beverages  \n",
       "0000000394710                    Sugary snacks  "
      ]
     },
     "execution_count": 55,
     "metadata": {},
     "output_type": "execute_result"
    }
   ],
   "source": [
    "join_categories = palm_oil_data.join(data[\"main_category_en\"],how=\"inner\").dropna(subset=[\"main_category_en\"])\n",
    "join_categories.head()"
   ]
  },
  {
   "cell_type": "markdown",
   "metadata": {},
   "source": [
    "- Unfortunately this subset is a bit to small to work with.. let us try to expand to all categories. "
   ]
  },
  {
   "cell_type": "code",
   "execution_count": 56,
   "metadata": {},
   "outputs": [],
   "source": [
    "categories_contains = contains_palm.join(data[\"categories\"],how=\"inner\").dropna(subset=[\"categories\"])\n",
    "categories_may_contain = may_contain_palm.join(data[\"categories\"],how=\"inner\").dropna(subset=[\"categories\"])"
   ]
  },
  {
   "cell_type": "code",
   "execution_count": 57,
   "metadata": {},
   "outputs": [
    {
     "data": {
      "text/html": [
       "<div>\n",
       "<style scoped>\n",
       "    .dataframe tbody tr th:only-of-type {\n",
       "        vertical-align: middle;\n",
       "    }\n",
       "\n",
       "    .dataframe tbody tr th {\n",
       "        vertical-align: top;\n",
       "    }\n",
       "\n",
       "    .dataframe thead th {\n",
       "        text-align: right;\n",
       "    }\n",
       "</style>\n",
       "<table border=\"1\" class=\"dataframe\">\n",
       "  <thead>\n",
       "    <tr style=\"text-align: right;\">\n",
       "      <th></th>\n",
       "      <th>ingredients_from_palm_oil_n</th>\n",
       "      <th>ingredients_from_palm_oil</th>\n",
       "      <th>ingredients_from_palm_oil_tags</th>\n",
       "      <th>ingredients_that_may_be_from_palm_oil_n</th>\n",
       "      <th>ingredients_that_may_be_from_palm_oil</th>\n",
       "      <th>ingredients_that_may_be_from_palm_oil_tags</th>\n",
       "      <th>count</th>\n",
       "      <th>categories</th>\n",
       "    </tr>\n",
       "    <tr>\n",
       "      <th>code</th>\n",
       "      <th></th>\n",
       "      <th></th>\n",
       "      <th></th>\n",
       "      <th></th>\n",
       "      <th></th>\n",
       "      <th></th>\n",
       "      <th></th>\n",
       "      <th></th>\n",
       "    </tr>\n",
       "  </thead>\n",
       "  <tbody>\n",
       "    <tr>\n",
       "      <th>0000000394710</th>\n",
       "      <td>0.0</td>\n",
       "      <td>NaN</td>\n",
       "      <td>NaN</td>\n",
       "      <td>1.0</td>\n",
       "      <td>NaN</td>\n",
       "      <td>huile-vegetale</td>\n",
       "      <td>1</td>\n",
       "      <td>Snacks sucrés,Biscuits et gâteaux,Pâtisseries</td>\n",
       "    </tr>\n",
       "    <tr>\n",
       "      <th>0000008237798</th>\n",
       "      <td>0.0</td>\n",
       "      <td>NaN</td>\n",
       "      <td>NaN</td>\n",
       "      <td>1.0</td>\n",
       "      <td>NaN</td>\n",
       "      <td>huile-vegetale</td>\n",
       "      <td>1</td>\n",
       "      <td>Quiches lorraines</td>\n",
       "    </tr>\n",
       "    <tr>\n",
       "      <th>0000010206515</th>\n",
       "      <td>1.0</td>\n",
       "      <td>NaN</td>\n",
       "      <td>huile-de-palme</td>\n",
       "      <td>1.0</td>\n",
       "      <td>NaN</td>\n",
       "      <td>e471-mono-et-diglycerides-d-acides-gras-alimen...</td>\n",
       "      <td>1</td>\n",
       "      <td>Pâtes à sucre,Décorations,fr:Confiseries</td>\n",
       "    </tr>\n",
       "    <tr>\n",
       "      <th>0000040144078</th>\n",
       "      <td>0.0</td>\n",
       "      <td>NaN</td>\n",
       "      <td>NaN</td>\n",
       "      <td>1.0</td>\n",
       "      <td>NaN</td>\n",
       "      <td>huile-vegetale</td>\n",
       "      <td>1</td>\n",
       "      <td>Snacks sucrés,Confiseries,Confiseries chocolat...</td>\n",
       "    </tr>\n",
       "    <tr>\n",
       "      <th>0000069160028</th>\n",
       "      <td>0.0</td>\n",
       "      <td>NaN</td>\n",
       "      <td>NaN</td>\n",
       "      <td>1.0</td>\n",
       "      <td>NaN</td>\n",
       "      <td>e471-mono-et-diglycerides-d-acides-gras-alimen...</td>\n",
       "      <td>1</td>\n",
       "      <td>Desserts glacés</td>\n",
       "    </tr>\n",
       "  </tbody>\n",
       "</table>\n",
       "</div>"
      ],
      "text/plain": [
       "               ingredients_from_palm_oil_n  ingredients_from_palm_oil  \\\n",
       "code                                                                    \n",
       "0000000394710                          0.0                        NaN   \n",
       "0000008237798                          0.0                        NaN   \n",
       "0000010206515                          1.0                        NaN   \n",
       "0000040144078                          0.0                        NaN   \n",
       "0000069160028                          0.0                        NaN   \n",
       "\n",
       "              ingredients_from_palm_oil_tags  \\\n",
       "code                                           \n",
       "0000000394710                            NaN   \n",
       "0000008237798                            NaN   \n",
       "0000010206515                 huile-de-palme   \n",
       "0000040144078                            NaN   \n",
       "0000069160028                            NaN   \n",
       "\n",
       "               ingredients_that_may_be_from_palm_oil_n  \\\n",
       "code                                                     \n",
       "0000000394710                                      1.0   \n",
       "0000008237798                                      1.0   \n",
       "0000010206515                                      1.0   \n",
       "0000040144078                                      1.0   \n",
       "0000069160028                                      1.0   \n",
       "\n",
       "               ingredients_that_may_be_from_palm_oil  \\\n",
       "code                                                   \n",
       "0000000394710                                    NaN   \n",
       "0000008237798                                    NaN   \n",
       "0000010206515                                    NaN   \n",
       "0000040144078                                    NaN   \n",
       "0000069160028                                    NaN   \n",
       "\n",
       "                      ingredients_that_may_be_from_palm_oil_tags  count  \\\n",
       "code                                                                      \n",
       "0000000394710                                     huile-vegetale      1   \n",
       "0000008237798                                     huile-vegetale      1   \n",
       "0000010206515  e471-mono-et-diglycerides-d-acides-gras-alimen...      1   \n",
       "0000040144078                                     huile-vegetale      1   \n",
       "0000069160028  e471-mono-et-diglycerides-d-acides-gras-alimen...      1   \n",
       "\n",
       "                                                      categories  \n",
       "code                                                              \n",
       "0000000394710      Snacks sucrés,Biscuits et gâteaux,Pâtisseries  \n",
       "0000008237798                                  Quiches lorraines  \n",
       "0000010206515           Pâtes à sucre,Décorations,fr:Confiseries  \n",
       "0000040144078  Snacks sucrés,Confiseries,Confiseries chocolat...  \n",
       "0000069160028                                    Desserts glacés  "
      ]
     },
     "execution_count": 57,
     "metadata": {},
     "output_type": "execute_result"
    }
   ],
   "source": [
    "categories_may_contain.head()"
   ]
  },
  {
   "cell_type": "code",
   "execution_count": 58,
   "metadata": {},
   "outputs": [
    {
     "data": {
      "text/html": [
       "<div>\n",
       "<style scoped>\n",
       "    .dataframe tbody tr th:only-of-type {\n",
       "        vertical-align: middle;\n",
       "    }\n",
       "\n",
       "    .dataframe tbody tr th {\n",
       "        vertical-align: top;\n",
       "    }\n",
       "\n",
       "    .dataframe thead th {\n",
       "        text-align: right;\n",
       "    }\n",
       "</style>\n",
       "<table border=\"1\" class=\"dataframe\">\n",
       "  <thead>\n",
       "    <tr style=\"text-align: right;\">\n",
       "      <th></th>\n",
       "      <th>ingredients_from_palm_oil_n</th>\n",
       "      <th>ingredients_from_palm_oil</th>\n",
       "      <th>ingredients_from_palm_oil_tags</th>\n",
       "      <th>ingredients_that_may_be_from_palm_oil_n</th>\n",
       "      <th>ingredients_that_may_be_from_palm_oil</th>\n",
       "      <th>ingredients_that_may_be_from_palm_oil_tags</th>\n",
       "      <th>count</th>\n",
       "      <th>categories</th>\n",
       "    </tr>\n",
       "    <tr>\n",
       "      <th>code</th>\n",
       "      <th></th>\n",
       "      <th></th>\n",
       "      <th></th>\n",
       "      <th></th>\n",
       "      <th></th>\n",
       "      <th></th>\n",
       "      <th></th>\n",
       "      <th></th>\n",
       "    </tr>\n",
       "  </thead>\n",
       "  <tbody>\n",
       "    <tr>\n",
       "      <th>0000000290616</th>\n",
       "      <td>1.0</td>\n",
       "      <td>NaN</td>\n",
       "      <td>huile-de-palme</td>\n",
       "      <td>0.0</td>\n",
       "      <td>NaN</td>\n",
       "      <td>NaN</td>\n",
       "      <td>1</td>\n",
       "      <td>Légumes-feuilles</td>\n",
       "    </tr>\n",
       "    <tr>\n",
       "      <th>0000010206515</th>\n",
       "      <td>1.0</td>\n",
       "      <td>NaN</td>\n",
       "      <td>huile-de-palme</td>\n",
       "      <td>1.0</td>\n",
       "      <td>NaN</td>\n",
       "      <td>e471-mono-et-diglycerides-d-acides-gras-alimen...</td>\n",
       "      <td>1</td>\n",
       "      <td>Pâtes à sucre,Décorations,fr:Confiseries</td>\n",
       "    </tr>\n",
       "    <tr>\n",
       "      <th>0000069006562</th>\n",
       "      <td>1.0</td>\n",
       "      <td>NaN</td>\n",
       "      <td>huile-de-palme</td>\n",
       "      <td>0.0</td>\n",
       "      <td>NaN</td>\n",
       "      <td>NaN</td>\n",
       "      <td>1</td>\n",
       "      <td>Surgelés,Rostis,Plats préparés surgelés</td>\n",
       "    </tr>\n",
       "    <tr>\n",
       "      <th>00023092</th>\n",
       "      <td>1.0</td>\n",
       "      <td>NaN</td>\n",
       "      <td>huile-de-palme</td>\n",
       "      <td>0.0</td>\n",
       "      <td>NaN</td>\n",
       "      <td>NaN</td>\n",
       "      <td>1</td>\n",
       "      <td>Cookies,Cookies aux noix de pécan</td>\n",
       "    </tr>\n",
       "    <tr>\n",
       "      <th>00027083</th>\n",
       "      <td>1.0</td>\n",
       "      <td>NaN</td>\n",
       "      <td>huile-de-palme</td>\n",
       "      <td>3.0</td>\n",
       "      <td>NaN</td>\n",
       "      <td>e481-stearoyl-2-lactylate-de-sodium,e472e-este...</td>\n",
       "      <td>1</td>\n",
       "      <td>Muffins à la myrtille</td>\n",
       "    </tr>\n",
       "  </tbody>\n",
       "</table>\n",
       "</div>"
      ],
      "text/plain": [
       "               ingredients_from_palm_oil_n  ingredients_from_palm_oil  \\\n",
       "code                                                                    \n",
       "0000000290616                          1.0                        NaN   \n",
       "0000010206515                          1.0                        NaN   \n",
       "0000069006562                          1.0                        NaN   \n",
       "00023092                               1.0                        NaN   \n",
       "00027083                               1.0                        NaN   \n",
       "\n",
       "              ingredients_from_palm_oil_tags  \\\n",
       "code                                           \n",
       "0000000290616                 huile-de-palme   \n",
       "0000010206515                 huile-de-palme   \n",
       "0000069006562                 huile-de-palme   \n",
       "00023092                      huile-de-palme   \n",
       "00027083                      huile-de-palme   \n",
       "\n",
       "               ingredients_that_may_be_from_palm_oil_n  \\\n",
       "code                                                     \n",
       "0000000290616                                      0.0   \n",
       "0000010206515                                      1.0   \n",
       "0000069006562                                      0.0   \n",
       "00023092                                           0.0   \n",
       "00027083                                           3.0   \n",
       "\n",
       "               ingredients_that_may_be_from_palm_oil  \\\n",
       "code                                                   \n",
       "0000000290616                                    NaN   \n",
       "0000010206515                                    NaN   \n",
       "0000069006562                                    NaN   \n",
       "00023092                                         NaN   \n",
       "00027083                                         NaN   \n",
       "\n",
       "                      ingredients_that_may_be_from_palm_oil_tags  count  \\\n",
       "code                                                                      \n",
       "0000000290616                                                NaN      1   \n",
       "0000010206515  e471-mono-et-diglycerides-d-acides-gras-alimen...      1   \n",
       "0000069006562                                                NaN      1   \n",
       "00023092                                                     NaN      1   \n",
       "00027083       e481-stearoyl-2-lactylate-de-sodium,e472e-este...      1   \n",
       "\n",
       "                                             categories  \n",
       "code                                                     \n",
       "0000000290616                          Légumes-feuilles  \n",
       "0000010206515  Pâtes à sucre,Décorations,fr:Confiseries  \n",
       "0000069006562   Surgelés,Rostis,Plats préparés surgelés  \n",
       "00023092              Cookies,Cookies aux noix de pécan  \n",
       "00027083                          Muffins à la myrtille  "
      ]
     },
     "execution_count": 58,
     "metadata": {},
     "output_type": "execute_result"
    }
   ],
   "source": [
    "categories_contains.head()"
   ]
  },
  {
   "cell_type": "code",
   "execution_count": 59,
   "metadata": {},
   "outputs": [
    {
     "data": {
      "image/png": "[encoded data removed]",
      "text/plain": [
       "<Figure size 432x288 with 1 Axes>"
      ]
     },
     "metadata": {
      "needs_background": "light"
     },
     "output_type": "display_data"
    }
   ],
   "source": [
    "abc = categories_contains[\"categories\"].str.split(',').apply(pd.Series).unstack().dropna().to_frame()#.reset_index().set_index(\"code\").groupby(\"0\")\n",
    "abc.columns = [\"categories\"]\n",
    "hi = abc.reset_index().set_index(\"code\")[\"categories\"].value_counts()\n",
    "hi.plot.hist(bins=50,logy=True,title=\"Frequency plot of categories by the amount of palm oil\")\n",
    "plt.xlabel(\"Amount\")\n",
    "plt.show()"
   ]
  },
  {
   "cell_type": "markdown",
   "metadata": {},
   "source": [
    "- One might wonder what are the biggest categories in term of palm oil consumption !"
   ]
  },
  {
   "cell_type": "code",
   "execution_count": 60,
   "metadata": {},
   "outputs": [
    {
     "data": {
      "image/png": "[encoded data removed]",
      "text/plain": [
       "<Figure size 1008x864 with 1 Axes>"
      ]
     },
     "metadata": {
      "needs_background": "light"
     },
     "output_type": "display_data"
    }
   ],
   "source": [
    "hi.nlargest(25).plot.barh(figsize=(14,12),color='b',title=\"Top 25 categories with most palm oil\")\n",
    "plt.xlabel(\"Amount\")\n",
    "plt.show()"
   ]
  },
  {
   "cell_type": "markdown",
   "metadata": {},
   "source": [
    "- From this analysis we can see that most products that contain palm oil seem to be sweets and cookie derivated products. So if you want to help the Amazon you should be extra careful around sweet snacks. "
   ]
  },
  {
   "cell_type": "markdown",
   "metadata": {},
   "source": [
    "## Timeline of palm oil\n",
    "\n",
    "- Now we want to investigate the tendency over time of products containing palm oil. If there is more or less of them over time. To do this we will refer to the first time they were added to the database, and see if more products that contain palm oil have been added lately. "
   ]
  },
  {
   "cell_type": "code",
   "execution_count": 64,
   "metadata": {},
   "outputs": [],
   "source": [
    "data[\"created_datetime\"] = pd.to_datetime(data[\"created_datetime\"],errors=\"coerce\")\n",
    "dateparsed = data[data[\"created_datetime\"].notnull()]"
   ]
  },
  {
   "cell_type": "code",
   "execution_count": 65,
   "metadata": {},
   "outputs": [
    {
     "data": {
      "image/png": "[encoded data removed]",
      "text/plain": [
       "<Figure size 432x288 with 1 Axes>"
      ]
     },
     "metadata": {
      "needs_background": "light"
     },
     "output_type": "display_data"
    }
   ],
   "source": [
    "palm_dated = contains_palm.join(dateparsed[\"created_datetime\"],how='inner')\n",
    "palm_dated = palm_dated[[\"created_datetime\"]].reset_index().set_index(\"created_datetime\")#[\"code\"].value_counts().to_frame()\n",
    "\n",
    "palm_dated[\"count\"] = 1\n",
    "palm_dated = palm_dated[\"count\"].resample(\"30D\").sum()\n",
    "palm_dated.plot.line(title=\"Trend of articles containing palm oil over time\",logy=True)\n",
    "\n",
    "\n",
    "\n",
    "total_dated = dateparsed[[\"created_datetime\"]].reset_index().set_index(\"created_datetime\")\n",
    "total_dated[\"count\"] = 1\n",
    "total_dated = total_dated[\"count\"].resample(\"30D\").sum()\n",
    "total_dated.plot.line(logy=True)\n",
    "\n",
    "plt.legend([\"All articles\",\"Palm oil articles\"])\n",
    "plt.xlabel(\"Date\")\n",
    "plt.ylabel(\"Count\")\n",
    "plt.show()"
   ]
  },
  {
   "cell_type": "markdown",
   "metadata": {},
   "source": [
    "<p> We can see there are a few spikes that are explained as a user entering many different types of articles. Therefore there are not very statistically interesting. </p>"
   ]
  },
  {
   "cell_type": "code",
   "execution_count": 66,
   "metadata": {},
   "outputs": [
    {
     "data": {
      "text/plain": [
       "<matplotlib.axes._subplots.AxesSubplot at 0x1742f70bcf8>"
      ]
     },
     "execution_count": 66,
     "metadata": {},
     "output_type": "execute_result"
    },
    {
     "data": {
      "image/png": "[encoded data removed]",
      "text/plain": [
       "<Figure size 432x288 with 1 Axes>"
      ]
     },
     "metadata": {
      "needs_background": "light"
     },
     "output_type": "display_data"
    }
   ],
   "source": [
    "palm_dated.cumsum().plot.line()"
   ]
  },
  {
   "cell_type": "markdown",
   "metadata": {},
   "source": [
    "<p> Here we notice a trend that is quadratic. So there seems to be more and more articles containing palm oil. </p>"
   ]
  },
  {
   "cell_type": "markdown",
   "metadata": {},
   "source": [
    "# Vegan"
   ]
  },
  {
   "cell_type": "code",
   "execution_count": 28,
   "metadata": {},
   "outputs": [],
   "source": [
    "vegan_data.head()\n",
    "origin_lists=vegan_data.origins_tags.dropna().str.split(',')\n",
    "origin_exploded=origin_lists.apply(pd.Series).unstack()\n",
    "del origin_lists"
   ]
  },
  {
   "cell_type": "code",
   "execution_count": 61,
   "metadata": {},
   "outputs": [
    {
     "data": {
      "image/png": "[encoded data removed]",
      "text/plain": [
       "<Figure size 432x288 with 1 Axes>"
      ]
     },
     "metadata": {
      "needs_background": "light"
     },
     "output_type": "display_data"
    }
   ],
   "source": [
    "origin_exploded.value_counts().head(15).plot.barh(color='b')\n",
    "plt.title('Number of vegan-labelled products')\n",
    "plt.show()"
   ]
  },
  {
   "cell_type": "code",
   "execution_count": 35,
   "metadata": {},
   "outputs": [],
   "source": [
    "total_origins=data.origins_tags.dropna().str.split(',')\n",
    "total_origins_exploded=total_origins.apply(pd.Series).unstack()\n"
   ]
  },
  {
   "cell_type": "code",
   "execution_count": 62,
   "metadata": {},
   "outputs": [
    {
     "data": {
      "image/png": "[encoded data removed]",
      "text/plain": [
       "<Figure size 432x288 with 1 Axes>"
      ]
     },
     "metadata": {
      "needs_background": "light"
     },
     "output_type": "display_data"
    }
   ],
   "source": [
    "total_origins_exploded.value_counts().head()\n",
    "total_origins_exploded.value_counts().head(15).plot.barh(color='b')\n",
    "plt.title('total number products in DB')\n",
    "plt.show()\n"
   ]
  },
  {
   "cell_type": "code",
   "execution_count": 38,
   "metadata": {},
   "outputs": [],
   "source": [
    "vegan_origin_df=origin_exploded.to_frame().reset_index().drop(labels=['level_0'],axis=1)\n",
    "total_origin_df=total_origins_exploded.to_frame().reset_index().drop(labels=['level_0'],axis=1)"
   ]
  },
  {
   "cell_type": "code",
   "execution_count": 39,
   "metadata": {},
   "outputs": [],
   "source": [
    "total_origin_df.columns=['level_1','origin']\n",
    "total_origin_df=total_origin_df.dropna()\n",
    "total_count=total_origin_df.groupby(by=['origin']).size().sort_values(ascending=False).to_frame()\n",
    "vegan_origin_df.columns=['level_1', 'vegan_loc']\n",
    "vegan_count=vegan_origin_df.groupby(by=['vegan_loc']).size().to_frame()\n",
    "comparison=pd.merge(total_count,vegan_count,right_index=True,left_index=True,how='inner')\n"
   ]
  },
  {
   "cell_type": "markdown",
   "metadata": {},
   "source": [
    "## Comment on data\n",
    "\n",
    "The origins_tags series is messy.\n",
    "\n",
    "First of all, same country entries are in different languange. The first approach is to deal with similar strings clustering: put together italy, italia and italien, but it would not work for austria osterreich as well as Germany Allemagne and Republica Federale Tedesca.\n",
    "\n",
    "Another problem is the bias of the data base: it is a french data base, so will have more entries and more details for product from France, and frome Europe in a lower extend. To overcome that problem, we want to compare countries by their relative vegan production (vegan labelled production from one origin_tag over total production from the same).\n",
    "\n",
    "But this solution shows a third problem: irrelevent tags. Some tags are to precise: regions or province, or even wrong ('soja' is not a country). For these tags are very rare, it is possible to have a confidence (the ratio that we talked about) of 100%: for instance, there is only one product tagged 'zamora-provincia' and this product is also tagged vegan, then 'zamora-provincia' will be the \"vegan champion\", but this is irrelevant to compare a precise province with entire country.\n",
    "\n",
    "We addressed that last problem by thresholding the support (at 100 labbeled products), so we are sure to retrieve frequent countriews in the DB. Also we manually removed too general labelled because those can have a high support as well ('eu')."
   ]
  },
  {
   "cell_type": "code",
   "execution_count": 40,
   "metadata": {},
   "outputs": [],
   "source": [
    "relevent_index=['aceitunas', 'afrique', 'agadir', 'agypten', 'alava', 'albacete-provincia', 'albatera', 'alemania', 'alicante', 'alicante-provincia', 'allemagne', 'almendras', 'almeria-provincia', 'almunecar', 'alps', 'amandes-d-italie', 'amazonas', 'amazonie', 'america-del-sur', 'amerique', 'amerique-centrale', 'amerique-du-nord', 'amerique-du-sud', 'andalucia', 'andes', 'angleterre', 'angleterre-betterave', 'aragon', 'aranjuez', 'argelia', 'argentina', 'argentinien', 'arroz', 'asie', 'asie-pour-le-fruit-de-moines', 'asturias', 'atlantico-suroeste', 'australia', 'austria', 'autol', 'autriche', 'avoine-francaise', 'azucar', 'azur-quelle', 'bajo-aragon', 'bali', 'batata', 'belgica', 'belgien', 'belgium', 'bolivia', 'bolivie', 'bolivien', 'bosnien-herzegowina', 'brazil', 'bresil', 'bretagne', 'burkina-faso', 'cacahuetes', 'cacao', 'caceres-provincia', 'cadiz-provincia', 'caldes-de-malavella', 'calera-y-chozas', 'california', 'californie', 'camargue', 'cambrils', 'cana-de-azucar', 'canada', 'casas-de-haro', 'castilla-la-mancha', 'castilla-y-leon', 'cataluna', 'cevennes', 'chile', 'china', 'chine', 'chufa', 'ciego-montero', 'cienfuegos', 'ciruelas', 'ciudad-real-provincia', 'col', 'col-lombarda', 'colombia', 'columbia', 'commerce-equitable', 'comunidad-valenciana', 'conil-de-la-frontera', 'cordoba-provincia', 'corea', 'costa-de-galicia', 'costa-de-marfil', 'costa-rica', 'cuba', 'cuenca-provincia', 'desconocido', 'deutschland', 'dominikanische-republik', 'e-u-a', 'ecuador', 'egipto', 'egnil', 'egypte', 'el-bolson', 'el-mirador', 'equateur', 'esmeraldas', 'espagne', 'espana', 'estados-unidos', 'etats-unis','eutschland', 'extremadura', 'filderstadt', 'filipinas', 'fontanilles', 'fougerolles', 'france', 'francia', 'frankreich', 'fresas', 'fuera-de-espana', 'galicia', 'gard', 'garray', 'germany', 'gerona-provincia', 'gers', 'gers-en-france-pour-le-ble', 'ghana', 'girona', 'golfo-de-vizcaya', 'granada-provincia', 'grece', 'grecia', 'greece', 'griechenland', 'guadalajara-provincia', 'haiti', 'haute-provence', 'herefordshire', 'holanda', 'hongrie','huelva-provincia', 'inde', 'india', 'indien', 'indien-landwirtschaft', 'indonesia', 'indonesie', 'indonesien', 'industria-argentina', 'ingrediente-s', 'iran', 'ireland', 'islas-canarias', 'israel', 'italia', 'italie', 'italien', 'italy', 'jaen', 'japon', 'jativa', 'kanada', 'kenia', 'kirgistan', 'kolumbien', 'la-coruna-provincia', 'la-mancha-comarca', 'la-manchuela-comarca', 'la-montiela-pedania', 'la-orotava', 'la-rioja', 'leimuiden', 'leinfelden-echterdingen', 'lerida-provincia', 'lombardia', 'lomellina', 'madagascar', 'madrid-comunidad-autonoma', 'malaga-provincia', 'malaui', 'manantial-amer-palatin', 'manantial-bezoya-de-trescasas', 'manantial-font-sacalm', 'manantial-fuente-primavera', 'manantial-fuentevera', 'manantial-siguenza', 'manantial-vichy-catalan', 'marinaleda', 'marruecos', 'mazarron', 'melocotones', 'mexico', 'mexiko', 'mexique', 'midlands-de-l-ouest', 'milano', 'minglanilla', 'minho-lima', 'modena', 'montricoux', 'montseny', 'moratilla-de-henares', 'motril', 'munchsteinach', 'murcia', 'murcia-comunidad-autonoma', 'mures-des-pays-bas', 'myrtilles-du-maroc', 'nao-ue', 'nardo', 'navarra', 'niederosterreich', 'niger', 'nijar','nueva-zelanda', 'osterreich', 'pais-vasco', 'pakistan', 'palmira', 'papua-neuguinea', 'paraguay', 'pavia-provincia', 'pays-bas', 'pepinillos', 'perou', 'peru', 'philippinen', 'philippines', 'pichincha-provincia', 'piemont', 'pioz', 'plano-tx', 'poland', 'polonia', 'portugal', 'quintanar-del-rey', 'regiao-do-norte', 'region-centro-norte', 'reino-unido', 'remolacha-y-zanahoria', 'republica-dominicana', 'republique-dominicaine', 'requena', 'requena-utiel-comarca', 'rheinland', 'ribera-del-jalon-comarca', 'rice', 'rio-negro', 'riz', 'romania', 'roumanie', 'royaume-uni', 'rugen', 'rumanien', 'salamanca-provincia', 'san-antonio-requena', 'sant-hilari-sacalm', 'santa-cruz-de-tenerife-provincia', 'santaella', 'santo-domingo', 'santo-tome-y-principe', 'sao-tome', 'sao-tome-und-principe', 'schweden', 'segovia-provincia', 'selva-comarca', 'serbia', 'sevilla-provincia', 'sicile', 'sierra-de-gredos', 'siguenza', 'slowakei', 'soja', 'soja-bio', 'soja-de-france', 'soja-de-francia', 'soja-europeen', 'soja-origine-france', 'soja-sud-est', 'soria-provincia', 'south-africa', 'south-africa-local-and-imported', 'spain', 'spanien', 'sri-lanka', 'sud-est-de-la-france', 'sud-ouest', 'sud-ouest-de-la-france', 'sudafrica', 'sudafrika', 'sudamerica', 'sudamerika', 'suisse', 'switzerland', 'tailandia', 'tanzania', 'tanzanie', 'tarn-et-garonne', 'tarragona-provincia', 'thailand', 'thailande', 'toledo-provincia', 'tomates', 'tozeur', 'trentino-alto-adigio', 'trescasas', 'trinidad', 'trinidad-und-tobago', 'tunesien', 'tunez', 'tunisia', 'tunisie', 'turkei', 'turquia', 'turquie', 'uca', 'ucrania', 'ue', 'ue-non-ue', 'uganda', 'ukraine',  'united-kingdom', 'united-states', 'united-states-of-america', 'usa', 'usa-and-other-unspecified-countries', 'val-venosta', 'valencia', 'valencia-provincia', 'valladolid-provincia', 'vancouver-bc', 'various', 'venezie', 'venezuela', 'verin', 'viana-do-castelo', 'viana-do-castelo-distrito', 'vietnam', 'villa-del-prado', 'villalgordo-del-jucar', 'villamalea', 'villanueva-de-la-jara', 'waldviertel', 'west-indies', 'wiesbaum', 'yuca', 'zamora-provincia', 'zaragoza-provincia' ] \n",
    "relevent_comparison=comparison.loc[relevent_index]\n",
    "relevent_comparison=relevent_comparison[relevent_comparison['0_x']>100]\n",
    "del relevent_index"
   ]
  },
  {
   "cell_type": "code",
   "execution_count": 63,
   "metadata": {},
   "outputs": [
    {
     "data": {
      "image/png": "[encoded data removed]",
      "text/plain": [
       "<Figure size 432x288 with 1 Axes>"
      ]
     },
     "metadata": {
      "needs_background": "light"
     },
     "output_type": "display_data"
    }
   ],
   "source": [
    "relevent_comparison['ratio']=relevent_comparison['0_y']/relevent_comparison['0_x']\n",
    "relevent_comparison.ratio.sort_values(ascending=False).head(15).plot.barh(color='b')\n",
    "plt.title('Relative production of vegan-labelled products')\n",
    "plt.show()"
   ]
  },
  {
   "cell_type": "markdown",
   "metadata": {},
   "source": [
    "## Comment on observations\n",
    "\n",
    "Spain is the country that produce the higher part of vegan product relatively to its total production.\n",
    "A solution is to check the categories"
   ]
  },
  {
   "cell_type": "code",
   "execution_count": 44,
   "metadata": {},
   "outputs": [],
   "source": [
    "vegan_data[\"created_datetime\"] = pd.to_datetime(vegan_data[\"created_datetime\"],errors=\"coerce\")\n",
    "dateparsed = vegan_data[vegan_data[\"created_datetime\"].notnull()]\n",
    "vegan_date=dateparsed.reset_index().set_index('created_datetime')"
   ]
  },
  {
   "cell_type": "code",
   "execution_count": 45,
   "metadata": {},
   "outputs": [
    {
     "data": {
      "image/png": "[encoded data removed]",
      "text/plain": [
       "<Figure size 432x288 with 1 Axes>"
      ]
     },
     "metadata": {
      "needs_background": "light"
     },
     "output_type": "display_data"
    }
   ],
   "source": [
    "vegan_date[\"count\"] = 1\n",
    "vegan_date = vegan_date[\"count\"].resample(\"30D\").sum()\n",
    "vegan_date.plot.line(title=\"Trend of articles containing palm oil over time\")\n",
    "plt.xlabel(\"Date\")\n",
    "plt.ylabel(\"Count\")\n",
    "plt.show()"
   ]
  },
  {
   "cell_type": "code",
   "execution_count": 46,
   "metadata": {},
   "outputs": [
    {
     "data": {
      "image/png": "[encoded data removed]",
      "text/plain": [
       "<Figure size 432x288 with 1 Axes>"
      ]
     },
     "metadata": {
      "needs_background": "light"
     },
     "output_type": "display_data"
    }
   ],
   "source": [
    "vegan_date.cumsum().plot.line()\n",
    "plt.show()"
   ]
  },
  {
   "cell_type": "markdown",
   "metadata": {},
   "source": [
    "The total ammount of vegan products increases in a linear was, suggesting that the rate of vegan produced food is consant."
   ]
  },
  {
   "cell_type": "markdown",
   "metadata": {
    "collapsed": true
   },
   "source": [
    "# EcoLabels"
   ]
  },
  {
   "cell_type": "code",
   "execution_count": 68,
   "metadata": {},
   "outputs": [
    {
     "data": {
      "text/plain": [
       "(99655, 3)"
      ]
     },
     "execution_count": 68,
     "metadata": {},
     "output_type": "execute_result"
    }
   ],
   "source": [
    "data = pd.read_csv(DATAPATH+'labels.csv',delimiter=',',low_memory=False)\n",
    "data.set_index('code',inplace=True)\n",
    "data.shape"
   ]
  },
  {
   "cell_type": "code",
   "execution_count": 70,
   "metadata": {},
   "outputs": [],
   "source": [
    "data_total = pd.read_csv(DATAPATH+'cleaned_unique_index.csv',delimiter=',',low_memory=False)\n",
    "data_total.set_index('code',inplace=True)"
   ]
  },
  {
   "cell_type": "code",
   "execution_count": 71,
   "metadata": {},
   "outputs": [
    {
     "data": {
      "text/html": [
       "<div>\n",
       "<style scoped>\n",
       "    .dataframe tbody tr th:only-of-type {\n",
       "        vertical-align: middle;\n",
       "    }\n",
       "\n",
       "    .dataframe tbody tr th {\n",
       "        vertical-align: top;\n",
       "    }\n",
       "\n",
       "    .dataframe thead th {\n",
       "        text-align: right;\n",
       "    }\n",
       "</style>\n",
       "<table border=\"1\" class=\"dataframe\">\n",
       "  <thead>\n",
       "    <tr style=\"text-align: right;\">\n",
       "      <th></th>\n",
       "      <th>labels</th>\n",
       "      <th>labels_tags</th>\n",
       "      <th>labels_en</th>\n",
       "    </tr>\n",
       "    <tr>\n",
       "      <th>code</th>\n",
       "      <th></th>\n",
       "      <th></th>\n",
       "      <th></th>\n",
       "    </tr>\n",
       "  </thead>\n",
       "  <tbody>\n",
       "    <tr>\n",
       "      <th>0000000020114</th>\n",
       "      <td>Fabriqué en France</td>\n",
       "      <td>en:made-in-france</td>\n",
       "      <td>Made in France</td>\n",
       "    </tr>\n",
       "    <tr>\n",
       "      <th>0000000274722</th>\n",
       "      <td>Viande Française,Fabriqué en France</td>\n",
       "      <td>fr:viande-francaise,en:made-in-france</td>\n",
       "      <td>fr:Viande Française,Made in France</td>\n",
       "    </tr>\n",
       "    <tr>\n",
       "      <th>0000003444009</th>\n",
       "      <td>Contient des OGM</td>\n",
       "      <td>en:contains-gmos</td>\n",
       "      <td>Contains GMOs</td>\n",
       "    </tr>\n",
       "    <tr>\n",
       "      <th>0000005200016</th>\n",
       "      <td>AB</td>\n",
       "      <td>en:organic,en:eu-organic,fr:ab-agriculture-bio...</td>\n",
       "      <td>Organic,EU Organic,fr:AB Agriculture Biologique</td>\n",
       "    </tr>\n",
       "    <tr>\n",
       "      <th>0000007020254</th>\n",
       "      <td>Kascher,Contient des OGM</td>\n",
       "      <td>en:kosher,en:contains-gmos</td>\n",
       "      <td>Kosher,Contains GMOs</td>\n",
       "    </tr>\n",
       "  </tbody>\n",
       "</table>\n",
       "</div>"
      ],
      "text/plain": [
       "                                            labels  \\\n",
       "code                                                 \n",
       "0000000020114                   Fabriqué en France   \n",
       "0000000274722  Viande Française,Fabriqué en France   \n",
       "0000003444009                     Contient des OGM   \n",
       "0000005200016                                   AB   \n",
       "0000007020254             Kascher,Contient des OGM   \n",
       "\n",
       "                                                     labels_tags  \\\n",
       "code                                                               \n",
       "0000000020114                                  en:made-in-france   \n",
       "0000000274722              fr:viande-francaise,en:made-in-france   \n",
       "0000003444009                                   en:contains-gmos   \n",
       "0000005200016  en:organic,en:eu-organic,fr:ab-agriculture-bio...   \n",
       "0000007020254                         en:kosher,en:contains-gmos   \n",
       "\n",
       "                                                     labels_en  \n",
       "code                                                            \n",
       "0000000020114                                   Made in France  \n",
       "0000000274722               fr:Viande Française,Made in France  \n",
       "0000003444009                                    Contains GMOs  \n",
       "0000005200016  Organic,EU Organic,fr:AB Agriculture Biologique  \n",
       "0000007020254                             Kosher,Contains GMOs  "
      ]
     },
     "execution_count": 71,
     "metadata": {},
     "output_type": "execute_result"
    }
   ],
   "source": [
    "data.head()"
   ]
  },
  {
   "cell_type": "code",
   "execution_count": 72,
   "metadata": {},
   "outputs": [
    {
     "data": {
      "text/html": [
       "<div>\n",
       "<style scoped>\n",
       "    .dataframe tbody tr th:only-of-type {\n",
       "        vertical-align: middle;\n",
       "    }\n",
       "\n",
       "    .dataframe tbody tr th {\n",
       "        vertical-align: top;\n",
       "    }\n",
       "\n",
       "    .dataframe thead th {\n",
       "        text-align: right;\n",
       "    }\n",
       "</style>\n",
       "<table border=\"1\" class=\"dataframe\">\n",
       "  <thead>\n",
       "    <tr style=\"text-align: right;\">\n",
       "      <th></th>\n",
       "      <th></th>\n",
       "      <th>0</th>\n",
       "    </tr>\n",
       "    <tr>\n",
       "      <th></th>\n",
       "      <th>code</th>\n",
       "      <th></th>\n",
       "    </tr>\n",
       "  </thead>\n",
       "  <tbody>\n",
       "    <tr>\n",
       "      <th rowspan=\"30\" valign=\"top\">0</th>\n",
       "      <th>0000000020114</th>\n",
       "      <td>Made in France</td>\n",
       "    </tr>\n",
       "    <tr>\n",
       "      <th>0000000274722</th>\n",
       "      <td>fr:Viande Française</td>\n",
       "    </tr>\n",
       "    <tr>\n",
       "      <th>0000003444009</th>\n",
       "      <td>Contains GMOs</td>\n",
       "    </tr>\n",
       "    <tr>\n",
       "      <th>0000005200016</th>\n",
       "      <td>Organic</td>\n",
       "    </tr>\n",
       "    <tr>\n",
       "      <th>0000007020254</th>\n",
       "      <td>Kosher</td>\n",
       "    </tr>\n",
       "    <tr>\n",
       "      <th>0000007730009</th>\n",
       "      <td>Green Dot</td>\n",
       "    </tr>\n",
       "    <tr>\n",
       "      <th>0000007933929</th>\n",
       "      <td>Contains GMOs</td>\n",
       "    </tr>\n",
       "    <tr>\n",
       "      <th>0000009125124</th>\n",
       "      <td>Green Dot</td>\n",
       "    </tr>\n",
       "    <tr>\n",
       "      <th>0000009336247</th>\n",
       "      <td>No artificial flavors</td>\n",
       "    </tr>\n",
       "    <tr>\n",
       "      <th>0000010206515</th>\n",
       "      <td>Gluten-free</td>\n",
       "    </tr>\n",
       "    <tr>\n",
       "      <th>0000012345878</th>\n",
       "      <td>Incorrect data on label</td>\n",
       "    </tr>\n",
       "    <tr>\n",
       "      <th>0000020004552</th>\n",
       "      <td>Not advised for specific people</td>\n",
       "    </tr>\n",
       "    <tr>\n",
       "      <th>0000020424640</th>\n",
       "      <td>Sustainable farming</td>\n",
       "    </tr>\n",
       "    <tr>\n",
       "      <th>0000030053014</th>\n",
       "      <td>Low or no sugar</td>\n",
       "    </tr>\n",
       "    <tr>\n",
       "      <th>0000034054086</th>\n",
       "      <td>Contains GMOs</td>\n",
       "    </tr>\n",
       "    <tr>\n",
       "      <th>0000040144078</th>\n",
       "      <td>Contains GMOs</td>\n",
       "    </tr>\n",
       "    <tr>\n",
       "      <th>0000050157846</th>\n",
       "      <td>Vegetarian</td>\n",
       "    </tr>\n",
       "    <tr>\n",
       "      <th>0000084154071</th>\n",
       "      <td>Vegetarian</td>\n",
       "    </tr>\n",
       "    <tr>\n",
       "      <th>0000087157635</th>\n",
       "      <td>No preservatives</td>\n",
       "    </tr>\n",
       "    <tr>\n",
       "      <th>0000101209159</th>\n",
       "      <td>Palm oil free</td>\n",
       "    </tr>\n",
       "    <tr>\n",
       "      <th>000030</th>\n",
       "      <td>Green Dot</td>\n",
       "    </tr>\n",
       "    <tr>\n",
       "      <th>000031</th>\n",
       "      <td>Green Dot</td>\n",
       "    </tr>\n",
       "    <tr>\n",
       "      <th>000039365</th>\n",
       "      <td>Vegetarian</td>\n",
       "    </tr>\n",
       "    <tr>\n",
       "      <th>000039681</th>\n",
       "      <td>Vegetarian</td>\n",
       "    </tr>\n",
       "    <tr>\n",
       "      <th>0000460938714</th>\n",
       "      <td>Vegetarian</td>\n",
       "    </tr>\n",
       "    <tr>\n",
       "      <th>000050</th>\n",
       "      <td>Green Dot</td>\n",
       "    </tr>\n",
       "    <tr>\n",
       "      <th>000051</th>\n",
       "      <td>Green Dot</td>\n",
       "    </tr>\n",
       "    <tr>\n",
       "      <th>00005401</th>\n",
       "      <td>Organic</td>\n",
       "    </tr>\n",
       "    <tr>\n",
       "      <th>0001126220</th>\n",
       "      <td>Green Dot</td>\n",
       "    </tr>\n",
       "    <tr>\n",
       "      <th>00011501</th>\n",
       "      <td>Point-vert</td>\n",
       "    </tr>\n",
       "    <tr>\n",
       "      <th>...</th>\n",
       "      <th>...</th>\n",
       "      <td>...</td>\n",
       "    </tr>\n",
       "    <tr>\n",
       "      <th rowspan=\"9\" valign=\"top\">20</th>\n",
       "      <th>3392780007001</th>\n",
       "      <td>Carbon footprint</td>\n",
       "    </tr>\n",
       "    <tr>\n",
       "      <th>3664037000012</th>\n",
       "      <td>No lactose</td>\n",
       "    </tr>\n",
       "    <tr>\n",
       "      <th>3664037000029</th>\n",
       "      <td>No GMOs</td>\n",
       "    </tr>\n",
       "    <tr>\n",
       "      <th>3700067371248</th>\n",
       "      <td>fr:Triman</td>\n",
       "    </tr>\n",
       "    <tr>\n",
       "      <th>3700214610046</th>\n",
       "      <td>Carbon footprint</td>\n",
       "    </tr>\n",
       "    <tr>\n",
       "      <th>5054269137583</th>\n",
       "      <td>Salt</td>\n",
       "    </tr>\n",
       "    <tr>\n",
       "      <th>8412800005888</th>\n",
       "      <td>Vitamin D source</td>\n",
       "    </tr>\n",
       "    <tr>\n",
       "      <th>8412800005895</th>\n",
       "      <td>Vitamin D source</td>\n",
       "    </tr>\n",
       "    <tr>\n",
       "      <th>8412800005901</th>\n",
       "      <td>es:Bajo-en-grasas-saturadas</td>\n",
       "    </tr>\n",
       "    <tr>\n",
       "      <th rowspan=\"8\" valign=\"top\">21</th>\n",
       "      <th>3392780002648</th>\n",
       "      <td>Carbon footprint</td>\n",
       "    </tr>\n",
       "    <tr>\n",
       "      <th>3392780007001</th>\n",
       "      <td>Carbon footprint</td>\n",
       "    </tr>\n",
       "    <tr>\n",
       "      <th>3664037000012</th>\n",
       "      <td>No milk</td>\n",
       "    </tr>\n",
       "    <tr>\n",
       "      <th>3664037000029</th>\n",
       "      <td>No lactose</td>\n",
       "    </tr>\n",
       "    <tr>\n",
       "      <th>3700214610046</th>\n",
       "      <td>Carbon footprint</td>\n",
       "    </tr>\n",
       "    <tr>\n",
       "      <th>5054269137583</th>\n",
       "      <td>Tartaric-acid-l</td>\n",
       "    </tr>\n",
       "    <tr>\n",
       "      <th>8412800005888</th>\n",
       "      <td>es:Bajo-en-grasas-saturadas</td>\n",
       "    </tr>\n",
       "    <tr>\n",
       "      <th>8412800005895</th>\n",
       "      <td>es:Bajo-en-grasas-saturadas</td>\n",
       "    </tr>\n",
       "    <tr>\n",
       "      <th rowspan=\"6\" valign=\"top\">22</th>\n",
       "      <th>3392780002648</th>\n",
       "      <td>Carbon footprint</td>\n",
       "    </tr>\n",
       "    <tr>\n",
       "      <th>3392780007001</th>\n",
       "      <td>Carbon footprint</td>\n",
       "    </tr>\n",
       "    <tr>\n",
       "      <th>3664037000012</th>\n",
       "      <td>fr:AB Agriculture Biologique</td>\n",
       "    </tr>\n",
       "    <tr>\n",
       "      <th>3664037000029</th>\n",
       "      <td>The Vegan Society</td>\n",
       "    </tr>\n",
       "    <tr>\n",
       "      <th>3700214610046</th>\n",
       "      <td>Carbon footprint</td>\n",
       "    </tr>\n",
       "    <tr>\n",
       "      <th>5054269137583</th>\n",
       "      <td>Thiamin</td>\n",
       "    </tr>\n",
       "    <tr>\n",
       "      <th rowspan=\"4\" valign=\"top\">23</th>\n",
       "      <th>3392780002648</th>\n",
       "      <td>Carbon footprint</td>\n",
       "    </tr>\n",
       "    <tr>\n",
       "      <th>3392780007001</th>\n",
       "      <td>Carbon footprint</td>\n",
       "    </tr>\n",
       "    <tr>\n",
       "      <th>3664037000029</th>\n",
       "      <td>fr:AB Agriculture Biologique</td>\n",
       "    </tr>\n",
       "    <tr>\n",
       "      <th>5054269137583</th>\n",
       "      <td>Thickener-xanthan-gum</td>\n",
       "    </tr>\n",
       "    <tr>\n",
       "      <th>24</th>\n",
       "      <th>5054269137583</th>\n",
       "      <td>Water</td>\n",
       "    </tr>\n",
       "    <tr>\n",
       "      <th>25</th>\n",
       "      <th>5054269137583</th>\n",
       "      <td>Wheat-flour-wheat-flour</td>\n",
       "    </tr>\n",
       "    <tr>\n",
       "      <th>26</th>\n",
       "      <th>5054269137583</th>\n",
       "      <td>Yeast</td>\n",
       "    </tr>\n",
       "  </tbody>\n",
       "</table>\n",
       "<p>261459 rows × 1 columns</p>\n",
       "</div>"
      ],
      "text/plain": [
       "                                                0\n",
       "   code                                          \n",
       "0  0000000020114                   Made in France\n",
       "   0000000274722              fr:Viande Française\n",
       "   0000003444009                    Contains GMOs\n",
       "   0000005200016                          Organic\n",
       "   0000007020254                           Kosher\n",
       "   0000007730009                        Green Dot\n",
       "   0000007933929                    Contains GMOs\n",
       "   0000009125124                        Green Dot\n",
       "   0000009336247            No artificial flavors\n",
       "   0000010206515                      Gluten-free\n",
       "   0000012345878          Incorrect data on label\n",
       "   0000020004552  Not advised for specific people\n",
       "   0000020424640              Sustainable farming\n",
       "   0000030053014                  Low or no sugar\n",
       "   0000034054086                    Contains GMOs\n",
       "   0000040144078                    Contains GMOs\n",
       "   0000050157846                       Vegetarian\n",
       "   0000084154071                       Vegetarian\n",
       "   0000087157635                 No preservatives\n",
       "   0000101209159                    Palm oil free\n",
       "   000030                               Green Dot\n",
       "   000031                               Green Dot\n",
       "   000039365                           Vegetarian\n",
       "   000039681                           Vegetarian\n",
       "   0000460938714                       Vegetarian\n",
       "   000050                               Green Dot\n",
       "   000051                               Green Dot\n",
       "   00005401                               Organic\n",
       "   0001126220                           Green Dot\n",
       "   00011501                            Point-vert\n",
       "...                                           ...\n",
       "20 3392780007001                 Carbon footprint\n",
       "   3664037000012                       No lactose\n",
       "   3664037000029                          No GMOs\n",
       "   3700067371248                        fr:Triman\n",
       "   3700214610046                 Carbon footprint\n",
       "   5054269137583                             Salt\n",
       "   8412800005888                 Vitamin D source\n",
       "   8412800005895                 Vitamin D source\n",
       "   8412800005901      es:Bajo-en-grasas-saturadas\n",
       "21 3392780002648                 Carbon footprint\n",
       "   3392780007001                 Carbon footprint\n",
       "   3664037000012                          No milk\n",
       "   3664037000029                       No lactose\n",
       "   3700214610046                 Carbon footprint\n",
       "   5054269137583                  Tartaric-acid-l\n",
       "   8412800005888      es:Bajo-en-grasas-saturadas\n",
       "   8412800005895      es:Bajo-en-grasas-saturadas\n",
       "22 3392780002648                 Carbon footprint\n",
       "   3392780007001                 Carbon footprint\n",
       "   3664037000012     fr:AB Agriculture Biologique\n",
       "   3664037000029                The Vegan Society\n",
       "   3700214610046                 Carbon footprint\n",
       "   5054269137583                          Thiamin\n",
       "23 3392780002648                 Carbon footprint\n",
       "   3392780007001                 Carbon footprint\n",
       "   3664037000029     fr:AB Agriculture Biologique\n",
       "   5054269137583            Thickener-xanthan-gum\n",
       "24 5054269137583                            Water\n",
       "25 5054269137583          Wheat-flour-wheat-flour\n",
       "26 5054269137583                            Yeast\n",
       "\n",
       "[261459 rows x 1 columns]"
      ]
     },
     "execution_count": 72,
     "metadata": {},
     "output_type": "execute_result"
    }
   ],
   "source": [
    "# We do a 'flatmap' trick...\n",
    "label_flatted = data[\"labels_en\"].str.split(',').apply(pd.Series).unstack().dropna().to_frame()\n",
    "label_flatted"
   ]
  },
  {
   "cell_type": "code",
   "execution_count": 73,
   "metadata": {},
   "outputs": [],
   "source": [
    "label_flatted.columns = [\"labels\"]\n",
    "label_flatted = label_flatted.reset_index().set_index(\"code\")\n",
    "label_flatted = label_flatted[[\"labels\"]]"
   ]
  },
  {
   "cell_type": "code",
   "execution_count": 74,
   "metadata": {},
   "outputs": [
    {
     "data": {
      "text/html": [
       "<div>\n",
       "<style scoped>\n",
       "    .dataframe tbody tr th:only-of-type {\n",
       "        vertical-align: middle;\n",
       "    }\n",
       "\n",
       "    .dataframe tbody tr th {\n",
       "        vertical-align: top;\n",
       "    }\n",
       "\n",
       "    .dataframe thead th {\n",
       "        text-align: right;\n",
       "    }\n",
       "</style>\n",
       "<table border=\"1\" class=\"dataframe\">\n",
       "  <thead>\n",
       "    <tr style=\"text-align: right;\">\n",
       "      <th></th>\n",
       "      <th>labels</th>\n",
       "    </tr>\n",
       "    <tr>\n",
       "      <th>code</th>\n",
       "      <th></th>\n",
       "    </tr>\n",
       "  </thead>\n",
       "  <tbody>\n",
       "    <tr>\n",
       "      <th>0000000020114</th>\n",
       "      <td>Made in France</td>\n",
       "    </tr>\n",
       "    <tr>\n",
       "      <th>0000000274722</th>\n",
       "      <td>fr:Viande Française</td>\n",
       "    </tr>\n",
       "    <tr>\n",
       "      <th>0000003444009</th>\n",
       "      <td>Contains GMOs</td>\n",
       "    </tr>\n",
       "    <tr>\n",
       "      <th>0000005200016</th>\n",
       "      <td>Organic</td>\n",
       "    </tr>\n",
       "    <tr>\n",
       "      <th>0000007020254</th>\n",
       "      <td>Kosher</td>\n",
       "    </tr>\n",
       "  </tbody>\n",
       "</table>\n",
       "</div>"
      ],
      "text/plain": [
       "                            labels\n",
       "code                              \n",
       "0000000020114       Made in France\n",
       "0000000274722  fr:Viande Française\n",
       "0000003444009        Contains GMOs\n",
       "0000005200016              Organic\n",
       "0000007020254               Kosher"
      ]
     },
     "execution_count": 74,
     "metadata": {},
     "output_type": "execute_result"
    }
   ],
   "source": [
    "label_flatted = label_flatted[[\"labels\"]]\n",
    "label_flatted.head()"
   ]
  },
  {
   "cell_type": "code",
   "execution_count": 75,
   "metadata": {},
   "outputs": [],
   "source": [
    "organic = label_flatted[label_flatted[\"labels\"].str.contains(\"Organic\")]\n",
    "organic = organic[~organic.index.duplicated()] ## We don't want to many. "
   ]
  },
  {
   "cell_type": "code",
   "execution_count": 76,
   "metadata": {},
   "outputs": [
    {
     "name": "stdout",
     "output_type": "stream",
     "text": [
      "There are 37395 articles with label organic\n",
      "This represents 0.056175 % of articles \n"
     ]
    }
   ],
   "source": [
    "cnt_organic = organic.shape[0]\n",
    "total_cnt = data_total.shape[0]\n",
    "percentage = cnt_organic / total_cnt\n",
    "print(\"There are %d articles with label organic\" % cnt_organic)\n",
    "print(\"This represents %f %% of articles \" % percentage)"
   ]
  },
  {
   "cell_type": "code",
   "execution_count": 77,
   "metadata": {},
   "outputs": [
    {
     "data": {
      "text/html": [
       "<div>\n",
       "<style scoped>\n",
       "    .dataframe tbody tr th:only-of-type {\n",
       "        vertical-align: middle;\n",
       "    }\n",
       "\n",
       "    .dataframe tbody tr th {\n",
       "        vertical-align: top;\n",
       "    }\n",
       "\n",
       "    .dataframe thead th {\n",
       "        text-align: right;\n",
       "    }\n",
       "</style>\n",
       "<table border=\"1\" class=\"dataframe\">\n",
       "  <thead>\n",
       "    <tr style=\"text-align: right;\">\n",
       "      <th></th>\n",
       "      <th>labels</th>\n",
       "    </tr>\n",
       "    <tr>\n",
       "      <th>code</th>\n",
       "      <th></th>\n",
       "    </tr>\n",
       "  </thead>\n",
       "  <tbody>\n",
       "    <tr>\n",
       "      <th>0018627740001</th>\n",
       "      <td>Bio</td>\n",
       "    </tr>\n",
       "    <tr>\n",
       "      <th>0221109418736</th>\n",
       "      <td>it:Bio</td>\n",
       "    </tr>\n",
       "    <tr>\n",
       "      <th>02516101</th>\n",
       "      <td>fr:Biogroupe</td>\n",
       "    </tr>\n",
       "    <tr>\n",
       "      <th>0621456277183</th>\n",
       "      <td>fr:Biologique-avec-legumes</td>\n",
       "    </tr>\n",
       "    <tr>\n",
       "      <th>11044204</th>\n",
       "      <td>fr:Bio7</td>\n",
       "    </tr>\n",
       "    <tr>\n",
       "      <th>11304915</th>\n",
       "      <td>Bio</td>\n",
       "    </tr>\n",
       "    <tr>\n",
       "      <th>13294803</th>\n",
       "      <td>Bio</td>\n",
       "    </tr>\n",
       "    <tr>\n",
       "      <th>15667496</th>\n",
       "      <td>fr:Bio-organic</td>\n",
       "    </tr>\n",
       "    <tr>\n",
       "      <th>2000000020926</th>\n",
       "      <td>Bio</td>\n",
       "    </tr>\n",
       "    <tr>\n",
       "      <th>2000000020927</th>\n",
       "      <td>Bio</td>\n",
       "    </tr>\n",
       "    <tr>\n",
       "      <th>2000000020928</th>\n",
       "      <td>Bio</td>\n",
       "    </tr>\n",
       "    <tr>\n",
       "      <th>2000000020934</th>\n",
       "      <td>Bio</td>\n",
       "    </tr>\n",
       "    <tr>\n",
       "      <th>2000000021146</th>\n",
       "      <td>Bio</td>\n",
       "    </tr>\n",
       "    <tr>\n",
       "      <th>2000000021149</th>\n",
       "      <td>Bio</td>\n",
       "    </tr>\n",
       "    <tr>\n",
       "      <th>2000000021150</th>\n",
       "      <td>Bio</td>\n",
       "    </tr>\n",
       "    <tr>\n",
       "      <th>2000000021151</th>\n",
       "      <td>Bio</td>\n",
       "    </tr>\n",
       "    <tr>\n",
       "      <th>2000000021152</th>\n",
       "      <td>Bio</td>\n",
       "    </tr>\n",
       "    <tr>\n",
       "      <th>2000000021191</th>\n",
       "      <td>Bio</td>\n",
       "    </tr>\n",
       "    <tr>\n",
       "      <th>2000000021192</th>\n",
       "      <td>Bio</td>\n",
       "    </tr>\n",
       "    <tr>\n",
       "      <th>2000000021201</th>\n",
       "      <td>Bio</td>\n",
       "    </tr>\n",
       "    <tr>\n",
       "      <th>2000000021202</th>\n",
       "      <td>Bio</td>\n",
       "    </tr>\n",
       "    <tr>\n",
       "      <th>2000000021203</th>\n",
       "      <td>Bio</td>\n",
       "    </tr>\n",
       "    <tr>\n",
       "      <th>2000000021204</th>\n",
       "      <td>Bio</td>\n",
       "    </tr>\n",
       "    <tr>\n",
       "      <th>2000000021212</th>\n",
       "      <td>Bio</td>\n",
       "    </tr>\n",
       "    <tr>\n",
       "      <th>2000000049024</th>\n",
       "      <td>it:Bio</td>\n",
       "    </tr>\n",
       "    <tr>\n",
       "      <th>2000000051834</th>\n",
       "      <td>fr:Bio-europeen-et-bio-ab</td>\n",
       "    </tr>\n",
       "    <tr>\n",
       "      <th>2000000053204</th>\n",
       "      <td>it:Bio</td>\n",
       "    </tr>\n",
       "    <tr>\n",
       "      <th>2000000072734</th>\n",
       "      <td>Bio</td>\n",
       "    </tr>\n",
       "    <tr>\n",
       "      <th>20141615</th>\n",
       "      <td>de:Bio-europeen</td>\n",
       "    </tr>\n",
       "    <tr>\n",
       "      <th>20555863</th>\n",
       "      <td>Bio</td>\n",
       "    </tr>\n",
       "    <tr>\n",
       "      <th>...</th>\n",
       "      <td>...</td>\n",
       "    </tr>\n",
       "    <tr>\n",
       "      <th>3258590000079</th>\n",
       "      <td>fr:AB Agriculture Biologique</td>\n",
       "    </tr>\n",
       "    <tr>\n",
       "      <th>3268350120114</th>\n",
       "      <td>fr:AB Agriculture Biologique</td>\n",
       "    </tr>\n",
       "    <tr>\n",
       "      <th>3370077586002</th>\n",
       "      <td>fr:AB Agriculture Biologique</td>\n",
       "    </tr>\n",
       "    <tr>\n",
       "      <th>3396413715929</th>\n",
       "      <td>fr:AB Agriculture Biologique</td>\n",
       "    </tr>\n",
       "    <tr>\n",
       "      <th>3421331514023</th>\n",
       "      <td>fr:AB Agriculture Biologique</td>\n",
       "    </tr>\n",
       "    <tr>\n",
       "      <th>3456300003789</th>\n",
       "      <td>fr:AB Agriculture Biologique</td>\n",
       "    </tr>\n",
       "    <tr>\n",
       "      <th>3760224570464</th>\n",
       "      <td>fr:AB Agriculture Biologique</td>\n",
       "    </tr>\n",
       "    <tr>\n",
       "      <th>3770006385001</th>\n",
       "      <td>fr:AB Agriculture Biologique</td>\n",
       "    </tr>\n",
       "    <tr>\n",
       "      <th>4062300126602</th>\n",
       "      <td>fr:AB Agriculture Biologique</td>\n",
       "    </tr>\n",
       "    <tr>\n",
       "      <th>4062300128354</th>\n",
       "      <td>fr:AB Agriculture Biologique</td>\n",
       "    </tr>\n",
       "    <tr>\n",
       "      <th>4062300220386</th>\n",
       "      <td>fr:AB Agriculture Biologique</td>\n",
       "    </tr>\n",
       "    <tr>\n",
       "      <th>4062300284920</th>\n",
       "      <td>fr:AB Agriculture Biologique</td>\n",
       "    </tr>\n",
       "    <tr>\n",
       "      <th>5411188513452</th>\n",
       "      <td>fr:AB Agriculture Biologique</td>\n",
       "    </tr>\n",
       "    <tr>\n",
       "      <th>8019428006015</th>\n",
       "      <td>fr:AB Agriculture Biologique</td>\n",
       "    </tr>\n",
       "    <tr>\n",
       "      <th>8019428008071</th>\n",
       "      <td>fr:AB Agriculture Biologique</td>\n",
       "    </tr>\n",
       "    <tr>\n",
       "      <th>8023678425106</th>\n",
       "      <td>fr:AB Agriculture Biologique</td>\n",
       "    </tr>\n",
       "    <tr>\n",
       "      <th>3250392243517</th>\n",
       "      <td>fr:AB Agriculture Biologique</td>\n",
       "    </tr>\n",
       "    <tr>\n",
       "      <th>3258590000192</th>\n",
       "      <td>fr:AB Agriculture Biologique</td>\n",
       "    </tr>\n",
       "    <tr>\n",
       "      <th>3760020508012</th>\n",
       "      <td>fr:AB Agriculture Biologique</td>\n",
       "    </tr>\n",
       "    <tr>\n",
       "      <th>8023678162476</th>\n",
       "      <td>fr:AB Agriculture Biologique</td>\n",
       "    </tr>\n",
       "    <tr>\n",
       "      <th>8423352204322</th>\n",
       "      <td>fr:AB Agriculture Biologique</td>\n",
       "    </tr>\n",
       "    <tr>\n",
       "      <th>3273220180112</th>\n",
       "      <td>fr:AB Agriculture Biologique</td>\n",
       "    </tr>\n",
       "    <tr>\n",
       "      <th>4062300237087</th>\n",
       "      <td>fr:AB Agriculture Biologique</td>\n",
       "    </tr>\n",
       "    <tr>\n",
       "      <th>4062300241169</th>\n",
       "      <td>fr:AB Agriculture Biologique</td>\n",
       "    </tr>\n",
       "    <tr>\n",
       "      <th>8023678425304</th>\n",
       "      <td>fr:AB Agriculture Biologique</td>\n",
       "    </tr>\n",
       "    <tr>\n",
       "      <th>4062300066427</th>\n",
       "      <td>fr:AB Agriculture Biologique</td>\n",
       "    </tr>\n",
       "    <tr>\n",
       "      <th>3664037000036</th>\n",
       "      <td>fr:AB Agriculture Biologique</td>\n",
       "    </tr>\n",
       "    <tr>\n",
       "      <th>4062300250635</th>\n",
       "      <td>fr:AB Agriculture Biologique</td>\n",
       "    </tr>\n",
       "    <tr>\n",
       "      <th>3664037000012</th>\n",
       "      <td>fr:AB Agriculture Biologique</td>\n",
       "    </tr>\n",
       "    <tr>\n",
       "      <th>3664037000029</th>\n",
       "      <td>fr:AB Agriculture Biologique</td>\n",
       "    </tr>\n",
       "  </tbody>\n",
       "</table>\n",
       "<p>13886 rows × 1 columns</p>\n",
       "</div>"
      ],
      "text/plain": [
       "                                     labels\n",
       "code                                       \n",
       "0018627740001                           Bio\n",
       "0221109418736                        it:Bio\n",
       "02516101                       fr:Biogroupe\n",
       "0621456277183    fr:Biologique-avec-legumes\n",
       "11044204                            fr:Bio7\n",
       "11304915                                Bio\n",
       "13294803                                Bio\n",
       "15667496                     fr:Bio-organic\n",
       "2000000020926                           Bio\n",
       "2000000020927                           Bio\n",
       "2000000020928                           Bio\n",
       "2000000020934                           Bio\n",
       "2000000021146                           Bio\n",
       "2000000021149                           Bio\n",
       "2000000021150                           Bio\n",
       "2000000021151                           Bio\n",
       "2000000021152                           Bio\n",
       "2000000021191                           Bio\n",
       "2000000021192                           Bio\n",
       "2000000021201                           Bio\n",
       "2000000021202                           Bio\n",
       "2000000021203                           Bio\n",
       "2000000021204                           Bio\n",
       "2000000021212                           Bio\n",
       "2000000049024                        it:Bio\n",
       "2000000051834     fr:Bio-europeen-et-bio-ab\n",
       "2000000053204                        it:Bio\n",
       "2000000072734                           Bio\n",
       "20141615                    de:Bio-europeen\n",
       "20555863                                Bio\n",
       "...                                     ...\n",
       "3258590000079  fr:AB Agriculture Biologique\n",
       "3268350120114  fr:AB Agriculture Biologique\n",
       "3370077586002  fr:AB Agriculture Biologique\n",
       "3396413715929  fr:AB Agriculture Biologique\n",
       "3421331514023  fr:AB Agriculture Biologique\n",
       "3456300003789  fr:AB Agriculture Biologique\n",
       "3760224570464  fr:AB Agriculture Biologique\n",
       "3770006385001  fr:AB Agriculture Biologique\n",
       "4062300126602  fr:AB Agriculture Biologique\n",
       "4062300128354  fr:AB Agriculture Biologique\n",
       "4062300220386  fr:AB Agriculture Biologique\n",
       "4062300284920  fr:AB Agriculture Biologique\n",
       "5411188513452  fr:AB Agriculture Biologique\n",
       "8019428006015  fr:AB Agriculture Biologique\n",
       "8019428008071  fr:AB Agriculture Biologique\n",
       "8023678425106  fr:AB Agriculture Biologique\n",
       "3250392243517  fr:AB Agriculture Biologique\n",
       "3258590000192  fr:AB Agriculture Biologique\n",
       "3760020508012  fr:AB Agriculture Biologique\n",
       "8023678162476  fr:AB Agriculture Biologique\n",
       "8423352204322  fr:AB Agriculture Biologique\n",
       "3273220180112  fr:AB Agriculture Biologique\n",
       "4062300237087  fr:AB Agriculture Biologique\n",
       "4062300241169  fr:AB Agriculture Biologique\n",
       "8023678425304  fr:AB Agriculture Biologique\n",
       "4062300066427  fr:AB Agriculture Biologique\n",
       "3664037000036  fr:AB Agriculture Biologique\n",
       "4062300250635  fr:AB Agriculture Biologique\n",
       "3664037000012  fr:AB Agriculture Biologique\n",
       "3664037000029  fr:AB Agriculture Biologique\n",
       "\n",
       "[13886 rows x 1 columns]"
      ]
     },
     "execution_count": 77,
     "metadata": {},
     "output_type": "execute_result"
    }
   ],
   "source": [
    "bio = label_flatted[label_flatted[\"labels\"].str.contains(\"Bio\")]\n",
    "bio = bio[~bio.index.duplicated()] ## We don't want to many. \n",
    "bio"
   ]
  },
  {
   "cell_type": "code",
   "execution_count": 78,
   "metadata": {},
   "outputs": [
    {
     "name": "stdout",
     "output_type": "stream",
     "text": [
      "There are 37395 articles with label organic\n",
      "This represents 0.056175 % of articles \n",
      "There are 13886 articles with label bio\n",
      "This represents 0.020859 % of articles \n"
     ]
    }
   ],
   "source": [
    "cnt_organic = organic.shape[0]\n",
    "cnt_bio = bio.shape[0]\n",
    "total_cnt = data_total.shape[0]\n",
    "percentage_organic = cnt_organic / total_cnt\n",
    "percentage_bio = cnt_bio / total_cnt\n",
    "print(\"There are %d articles with label organic\" % cnt_organic)\n",
    "print(\"This represents %f %% of articles \" % percentage_organic)\n",
    "print(\"There are %d articles with label bio\" % cnt_bio)\n",
    "print(\"This represents %f %% of articles \" % percentage_bio)"
   ]
  },
  {
   "cell_type": "code",
   "execution_count": 79,
   "metadata": {},
   "outputs": [
    {
     "data": {
      "image/png": "[encoded data removed]",
      "text/plain": [
       "<Figure size 432x288 with 1 Axes>"
      ]
     },
     "metadata": {
      "needs_background": "light"
     },
     "output_type": "display_data"
    }
   ],
   "source": [
    "label_flatted[\"labels\"].value_counts().nlargest(10).plot.bar(color='b')\n",
    "plt.show()"
   ]
  },
  {
   "cell_type": "markdown",
   "metadata": {},
   "source": [
    "- We can see that the most popular label is organic, there are also a lot of articles having the green dot label which is depicted below for people who do not know what it is. \n",
    "- In order here are the most popular labels, unfortunately having an organic label is not a real label. It is a wide concept. Agriculture biologique is a french label. \n",
    "<img src=\"img/eu_organic.jpg\" alt=\"EU Organic\">\n",
    "<img src=\"img/green_dot.svg\" alt=\"Green Dot\">\n",
    "<img src=\"img/agri_bio.png\" alt=\"Agriculture biologique\">"
   ]
  },
  {
   "cell_type": "markdown",
   "metadata": {},
   "source": [
    "- We now focus on those three mentionned label to see where we can find them most. "
   ]
  },
  {
   "cell_type": "code",
   "execution_count": 80,
   "metadata": {},
   "outputs": [],
   "source": [
    "top_4 = label_flatted[\"labels\"].value_counts().nlargest(4)\n",
    "top_4 = list(top_4.index)\n",
    "top_4_articles = label_flatted[label_flatted[\"labels\"].apply(lambda r : r in top_4)]"
   ]
  },
  {
   "cell_type": "code",
   "execution_count": 81,
   "metadata": {},
   "outputs": [
    {
     "data": {
      "text/html": [
       "<div>\n",
       "<style scoped>\n",
       "    .dataframe tbody tr th:only-of-type {\n",
       "        vertical-align: middle;\n",
       "    }\n",
       "\n",
       "    .dataframe tbody tr th {\n",
       "        vertical-align: top;\n",
       "    }\n",
       "\n",
       "    .dataframe thead th {\n",
       "        text-align: right;\n",
       "    }\n",
       "</style>\n",
       "<table border=\"1\" class=\"dataframe\">\n",
       "  <thead>\n",
       "    <tr style=\"text-align: right;\">\n",
       "      <th></th>\n",
       "      <th>labels</th>\n",
       "      <th>origins</th>\n",
       "    </tr>\n",
       "    <tr>\n",
       "      <th>code</th>\n",
       "      <th></th>\n",
       "      <th></th>\n",
       "    </tr>\n",
       "  </thead>\n",
       "  <tbody>\n",
       "    <tr>\n",
       "      <th>00028202</th>\n",
       "      <td>Green Dot</td>\n",
       "      <td>Royaume-Uni</td>\n",
       "    </tr>\n",
       "    <tr>\n",
       "      <th>00035460</th>\n",
       "      <td>Green Dot</td>\n",
       "      <td>Vietnam</td>\n",
       "    </tr>\n",
       "    <tr>\n",
       "      <th>00042611</th>\n",
       "      <td>Organic</td>\n",
       "      <td>?</td>\n",
       "    </tr>\n",
       "    <tr>\n",
       "      <th>00042611</th>\n",
       "      <td>EU Organic</td>\n",
       "      <td>?</td>\n",
       "    </tr>\n",
       "    <tr>\n",
       "      <th>00042611</th>\n",
       "      <td>fr:AB Agriculture Biologique</td>\n",
       "      <td>?</td>\n",
       "    </tr>\n",
       "  </tbody>\n",
       "</table>\n",
       "</div>"
      ],
      "text/plain": [
       "                                labels      origins\n",
       "code                                               \n",
       "00028202                     Green Dot  Royaume-Uni\n",
       "00035460                     Green Dot      Vietnam\n",
       "00042611                       Organic            ?\n",
       "00042611                    EU Organic            ?\n",
       "00042611  fr:AB Agriculture Biologique            ?"
      ]
     },
     "execution_count": 81,
     "metadata": {},
     "output_type": "execute_result"
    }
   ],
   "source": [
    "top_4_all = top_4_articles.join(data_total[\"origins\"], how=\"inner\",lsuffix=\"l\",rsuffix=\"r\").dropna(subset=[\"origins\"])\n",
    "top_4_all.head()"
   ]
  },
  {
   "cell_type": "code",
   "execution_count": 82,
   "metadata": {},
   "outputs": [
    {
     "data": {
      "text/plain": [
       "<matplotlib.axes._subplots.AxesSubplot at 0x174b9e4c5c0>"
      ]
     },
     "execution_count": 82,
     "metadata": {},
     "output_type": "execute_result"
    },
    {
     "data": {
      "image/png": "[encoded data removed]",
      "text/plain": [
       "<Figure size 864x576 with 1 Axes>"
      ]
     },
     "metadata": {
      "needs_background": "light"
     },
     "output_type": "display_data"
    }
   ],
   "source": [
    "top_4_all[\"origins\"].value_counts().nlargest(25).plot.bar(figsize=(12,8),title=\"Origin of articles that come from the top 4 labels\",color='b')"
   ]
  },
  {
   "cell_type": "markdown",
   "metadata": {},
   "source": [
    "- We can see that most products come from France however there are a number of articles that come way further than france, it will be interesting to see to study where they are being sold, but this will be done in depth in an other study. "
   ]
  },
  {
   "cell_type": "code",
   "execution_count": null,
   "metadata": {},
   "outputs": [],
   "source": []
  }
 ],
 "metadata": {
  "kernelspec": {
   "display_name": "Python 3",
   "language": "python",
   "name": "python3"
  },
  "language_info": {
   "codemirror_mode": {
    "name": "ipython",
    "version": 3
   },
   "file_extension": ".py",
   "mimetype": "text/x-python",
   "name": "python",
   "nbconvert_exporter": "python",
   "pygments_lexer": "ipython3",
   "version": "3.7.1"
  }
 },
 "nbformat": 4,
 "nbformat_minor": 2
}
