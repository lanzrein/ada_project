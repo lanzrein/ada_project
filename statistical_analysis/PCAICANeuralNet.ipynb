{
 "cells": [
  {
   "cell_type": "markdown",
   "metadata": {},
   "source": [
    "# Local Rule Analysis\n",
    "\n",
    "Local rules are equivalent to compute the conditional probabilities.\n",
    "\n",
    "We aim on eco-friendly labels and categories.\n",
    "The local rule \"Label is Organic -> Beverage\" means computing the probability of an object to be a beverage.\n",
    "\n",
    "We then used those local rules to compare countries' behaviors regarding eco labels"
   ]
  },
  {
   "cell_type": "code",
   "execution_count": 1,
   "metadata": {},
   "outputs": [
    {
     "name": "stderr",
     "output_type": "stream",
     "text": [
      "Using TensorFlow backend.\n"
     ]
    }
   ],
   "source": [
    "import pandas as pd\n",
    "import numpy as np\n",
    "import scipy as scp\n",
    "import scipy.stats\n",
    "from sklearn.decomposition import PCA\n",
    "from sklearn.decomposition import FastICA\n",
    "from numpy.linalg import norm\n",
    "\n",
    "import keras\n",
    "from keras.layers import Input, Dense\n",
    "from keras.models import Model\n",
    "from keras import backend as K\n",
    "\n",
    "import matplotlib.pyplot as plt"
   ]
  },
  {
   "cell_type": "code",
   "execution_count": 4,
   "metadata": {},
   "outputs": [],
   "source": [
    "DATAPATH='../data/'"
   ]
  },
  {
   "cell_type": "code",
   "execution_count": 5,
   "metadata": {},
   "outputs": [],
   "source": [
    "data = pd.read_csv(DATAPATH+'cleaned_unique_index.csv',low_memory=False)"
   ]
  },
  {
   "cell_type": "code",
   "execution_count": 6,
   "metadata": {},
   "outputs": [],
   "source": [
    "data.set_index('code',inplace =True)"
   ]
  },
  {
   "cell_type": "code",
   "execution_count": 7,
   "metadata": {},
   "outputs": [],
   "source": [
    "# data=data.sample(int(len(data) * .1))"
   ]
  },
  {
   "cell_type": "code",
   "execution_count": 8,
   "metadata": {},
   "outputs": [],
   "source": [
    "data_labels=data.labels_en.dropna().str.split(',')\n",
    "data_labels_exploded=data_labels.apply(pd.Series).unstack().dropna()"
   ]
  },
  {
   "cell_type": "code",
   "execution_count": 9,
   "metadata": {},
   "outputs": [],
   "source": [
    "data_categories=data.categories_en.dropna().str.split(',')\n",
    "data_categories_exploded=data_categories.apply(pd.Series).unstack().dropna()"
   ]
  },
  {
   "cell_type": "code",
   "execution_count": 11,
   "metadata": {},
   "outputs": [
    {
     "data": {
      "text/plain": [
       "   code         \n",
       "0  0000000001281                               Pies\n",
       "   0000000001885    Plant-based foods and beverages\n",
       "   0000000005470    Plant-based foods and beverages\n",
       "   0000000005661                            Seafood\n",
       "   0000000020114                Dietary supplements\n",
       "dtype: object"
      ]
     },
     "execution_count": 11,
     "metadata": {},
     "output_type": "execute_result"
    }
   ],
   "source": [
    "data_categories_exploded.head()"
   ]
  },
  {
   "cell_type": "code",
   "execution_count": 12,
   "metadata": {},
   "outputs": [],
   "source": [
    "data_origins=data.origins.dropna().str.split(',')\n",
    "data_origins_exploded=data_origins.apply(pd.Series).unstack().dropna()"
   ]
  },
  {
   "cell_type": "code",
   "execution_count": 13,
   "metadata": {},
   "outputs": [],
   "source": [
    "data_origins_exploded=data_origins_exploded.map(lambda x: x.lstrip(' (').rstrip(' ).¨'))\n"
   ]
  },
  {
   "cell_type": "markdown",
   "metadata": {},
   "source": [
    "## Translation of European countries"
   ]
  },
  {
   "cell_type": "code",
   "execution_count": 14,
   "metadata": {},
   "outputs": [],
   "source": [
    "#origin translation\n",
    "data_origins_exploded[data_origins_exploded=='Deutschland']='Germany'\n",
    "data_origins_exploded[data_origins_exploded=='Allemagne']='Germany'\n",
    "data_origins_exploded[data_origins_exploded=='Alemania']='Germany'\n",
    "\n",
    "\n",
    "data_origins_exploded[data_origins_exploded=='Espagne']='Spain'\n",
    "data_origins_exploded[data_origins_exploded=='Spanien']='Spain'\n",
    "data_origins_exploded[data_origins_exploded=='España']='Spain'\n",
    "data_origins_exploded[data_origins_exploded=='Espana']='Spain'\n",
    "data_origins_exploded[data_origins_exploded=='Espanha']='Spain'\n",
    "data_origins_exploded[data_origins_exploded=='Ispanija']='Spain'\n",
    "\n",
    "\n",
    "data_origins_exploded[data_origins_exploded=='Hongrie']='Hungary'\n",
    "data_origins_exploded[data_origins_exploded=='Ungarn']='Hungary'\n",
    "data_origins_exploded[data_origins_exploded=='Ungaria']='Hungary'\n",
    "data_origins_exploded[data_origins_exploded=='Ungheria']='Hungary'\n",
    "\n",
    "data_origins_exploded[data_origins_exploded=='Autriche']='Austria'\n",
    "data_origins_exploded[data_origins_exploded=='Österreich']='Austria'\n",
    "\n",
    "data_origins_exploded[data_origins_exploded=='Frankreich']='France'\n",
    "data_origins_exploded[data_origins_exploded=='Frankrijk']='France'\n",
    "data_origins_exploded[data_origins_exploded=='Francia']='France'\n",
    "data_origins_exploded[data_origins_exploded=='França']='France'\n",
    "\n",
    "data_origins_exploded[data_origins_exploded=='Italia']='Italy'\n",
    "data_origins_exploded[data_origins_exploded=='Italië']='Italy'\n",
    "data_origins_exploded[data_origins_exploded=='Italie']='Italy'\n",
    "data_origins_exploded[data_origins_exploded=='Italien']='Italy'\n",
    "data_origins_exploded[data_origins_exploded=='Itália']='Italy'\n",
    "data_origins_exploded[data_origins_exploded=='Itali']='Italy'\n",
    "\n",
    "\n",
    "data_origins_exploded[data_origins_exploded=='Suiza']='Switzerland'\n",
    "data_origins_exploded[data_origins_exploded=='Schweiz']='Switzerland'\n",
    "data_origins_exploded[data_origins_exploded=='Suisse']='Switzerland'\n",
    "data_origins_exploded[data_origins_exploded=='Switzerlandi']='Switzerland'\n",
    "data_origins_exploded[data_origins_exploded=='Switzerlandi']='Switzerland'\n",
    "\n",
    "data_origins_exploded[data_origins_exploded=='Belgique']='Belgium'\n",
    "data_origins_exploded[data_origins_exploded=='Belgica']='Belgium'\n",
    "data_origins_exploded[data_origins_exploded=='België']='Belgium'\n",
    "\n"
   ]
  },
  {
   "cell_type": "code",
   "execution_count": 15,
   "metadata": {},
   "outputs": [
    {
     "data": {
      "text/plain": [
       "<matplotlib.axes._subplots.AxesSubplot at 0x1c71d8f5cc0>"
      ]
     },
     "execution_count": 15,
     "metadata": {},
     "output_type": "execute_result"
    },
    {
     "data": {
      "image/png": "[encoded data removed]",
      "text/plain": [
       "<Figure size 432x288 with 1 Axes>"
      ]
     },
     "metadata": {
      "needs_background": "light"
     },
     "output_type": "display_data"
    }
   ],
   "source": [
    "data_origins_exploded.value_counts().head(10).plot(kind='barh',color='b')"
   ]
  },
  {
   "cell_type": "code",
   "execution_count": 16,
   "metadata": {},
   "outputs": [
    {
     "data": {
      "text/plain": [
       "    code         \n",
       "0   0000000274722                                          France\n",
       "    0000000290616                                          Québec\n",
       "    0000000394710                                          Québec\n",
       "    0000001071894                                          France\n",
       "    0000001938067                                          Québec\n",
       "    0000004302544                                          Québec\n",
       "    0000008237798                                          Québec\n",
       "    0000008240095                                          Québec\n",
       "    0000012167005                                          Québec\n",
       "    0000020004552                                          France\n",
       "    0000034152010                                          France\n",
       "    00000758                                       United Kingdom\n",
       "    00001373                                              Germany\n",
       "    0000204286484                                         Germany\n",
       "    0000204286644                                         Germany\n",
       "    0000250632969                                         Germany\n",
       "    00003100                                               France\n",
       "    000039365                                                  UE\n",
       "    0000470322800                                         Germany\n",
       "    0000501050603                                         Germany\n",
       "    0000526938306                                         Germany\n",
       "    0000790310044                                          Canada\n",
       "    00011051096                                            France\n",
       "    00015356                                      Grande Bretagne\n",
       "    0002042861915                                         Germany\n",
       "    000224                                                 France\n",
       "    00025751                                          Royaume-Uni\n",
       "    00028202                                          Royaume-Uni\n",
       "    0002983542515                                         Germany\n",
       "    00033046                                       United Kingdom\n",
       "                                         ...                     \n",
       "18  3325710007338          Noix de Saint-Jacques (Chlamys nobilis\n",
       "    8904063257581                                    Clove Powder\n",
       "19  20681777                                            Indonésie\n",
       "    20682095                                         Corée du Sud\n",
       "    26048109                                           Iles Féroé\n",
       "    3165440302507                                       Lettre (L\n",
       "    3250390257127                                       Lettre (G\n",
       "    3325710007338                                         Vietnam\n",
       "    8904063257581                               Acidity Regulator\n",
       "20  20681777                                            Thaïlande\n",
       "    20682095                                               Russie\n",
       "    26048109                                          Lettres (IF\n",
       "    3165440302507    Noix de Saint-Jacques (Argopecten circularis\n",
       "    3325710007338                                       Lettre (H\n",
       "21  20681777                                 Pacifique Nord-Ouest\n",
       "    20682095                                              Vietnam\n",
       "    26048109         Noix de Saint-Jacques (Argopecten circularis\n",
       "    3165440302507                                             USA\n",
       "    3325710007338     Noix de Saint-Jacques (Amusium pleuronectes\n",
       "22  20681777                                               FAO 61\n",
       "    26048109                                                  USA\n",
       "    3165440302507                                       Lettre (M\n",
       "    3325710007338                                       Indonésie\n",
       "23  26048109                                          Lettres (US\n",
       "    3325710007338                                       Lettre (I\n",
       "24  26048109                                              Mexique\n",
       "    3325710007338     Noix de Saint-Jacques (Argopecten irradians\n",
       "25  26048109                                            Lettre (M\n",
       "    3325710007338                                             USA\n",
       "26  3325710007338                                       Lettre (J\n",
       "Length: 53634, dtype: object"
      ]
     },
     "execution_count": 16,
     "metadata": {},
     "output_type": "execute_result"
    }
   ],
   "source": [
    "data_origins_exploded"
   ]
  },
  {
   "cell_type": "markdown",
   "metadata": {},
   "source": []
  },
  {
   "cell_type": "markdown",
   "metadata": {},
   "source": [
    "## Association rules learning"
   ]
  },
  {
   "cell_type": "code",
   "execution_count": 17,
   "metadata": {},
   "outputs": [
    {
     "data": {
      "text/html": [
       "<div>\n",
       "<style scoped>\n",
       "    .dataframe tbody tr th:only-of-type {\n",
       "        vertical-align: middle;\n",
       "    }\n",
       "\n",
       "    .dataframe tbody tr th {\n",
       "        vertical-align: top;\n",
       "    }\n",
       "\n",
       "    .dataframe thead th {\n",
       "        text-align: right;\n",
       "    }\n",
       "</style>\n",
       "<table border=\"1\" class=\"dataframe\">\n",
       "  <thead>\n",
       "    <tr style=\"text-align: right;\">\n",
       "      <th></th>\n",
       "      <th>origin</th>\n",
       "    </tr>\n",
       "    <tr>\n",
       "      <th>code</th>\n",
       "      <th></th>\n",
       "    </tr>\n",
       "  </thead>\n",
       "  <tbody>\n",
       "    <tr>\n",
       "      <th>0000000274722</th>\n",
       "      <td>France</td>\n",
       "    </tr>\n",
       "    <tr>\n",
       "      <th>0000000290616</th>\n",
       "      <td>Québec</td>\n",
       "    </tr>\n",
       "    <tr>\n",
       "      <th>0000000394710</th>\n",
       "      <td>Québec</td>\n",
       "    </tr>\n",
       "    <tr>\n",
       "      <th>0000001071894</th>\n",
       "      <td>France</td>\n",
       "    </tr>\n",
       "    <tr>\n",
       "      <th>0000001938067</th>\n",
       "      <td>Québec</td>\n",
       "    </tr>\n",
       "    <tr>\n",
       "      <th>0000004302544</th>\n",
       "      <td>Québec</td>\n",
       "    </tr>\n",
       "    <tr>\n",
       "      <th>0000008237798</th>\n",
       "      <td>Québec</td>\n",
       "    </tr>\n",
       "    <tr>\n",
       "      <th>0000008240095</th>\n",
       "      <td>Québec</td>\n",
       "    </tr>\n",
       "    <tr>\n",
       "      <th>0000012167005</th>\n",
       "      <td>Québec</td>\n",
       "    </tr>\n",
       "    <tr>\n",
       "      <th>0000020004552</th>\n",
       "      <td>France</td>\n",
       "    </tr>\n",
       "    <tr>\n",
       "      <th>0000034152010</th>\n",
       "      <td>France</td>\n",
       "    </tr>\n",
       "    <tr>\n",
       "      <th>00000758</th>\n",
       "      <td>United Kingdom</td>\n",
       "    </tr>\n",
       "    <tr>\n",
       "      <th>00001373</th>\n",
       "      <td>Germany</td>\n",
       "    </tr>\n",
       "    <tr>\n",
       "      <th>0000204286484</th>\n",
       "      <td>Germany</td>\n",
       "    </tr>\n",
       "    <tr>\n",
       "      <th>0000204286644</th>\n",
       "      <td>Germany</td>\n",
       "    </tr>\n",
       "    <tr>\n",
       "      <th>0000250632969</th>\n",
       "      <td>Germany</td>\n",
       "    </tr>\n",
       "    <tr>\n",
       "      <th>00003100</th>\n",
       "      <td>France</td>\n",
       "    </tr>\n",
       "    <tr>\n",
       "      <th>000039365</th>\n",
       "      <td>UE</td>\n",
       "    </tr>\n",
       "    <tr>\n",
       "      <th>0000470322800</th>\n",
       "      <td>Germany</td>\n",
       "    </tr>\n",
       "    <tr>\n",
       "      <th>0000501050603</th>\n",
       "      <td>Germany</td>\n",
       "    </tr>\n",
       "    <tr>\n",
       "      <th>0000526938306</th>\n",
       "      <td>Germany</td>\n",
       "    </tr>\n",
       "    <tr>\n",
       "      <th>0000790310044</th>\n",
       "      <td>Canada</td>\n",
       "    </tr>\n",
       "    <tr>\n",
       "      <th>00011051096</th>\n",
       "      <td>France</td>\n",
       "    </tr>\n",
       "    <tr>\n",
       "      <th>00015356</th>\n",
       "      <td>Grande Bretagne</td>\n",
       "    </tr>\n",
       "    <tr>\n",
       "      <th>0002042861915</th>\n",
       "      <td>Germany</td>\n",
       "    </tr>\n",
       "    <tr>\n",
       "      <th>000224</th>\n",
       "      <td>France</td>\n",
       "    </tr>\n",
       "    <tr>\n",
       "      <th>00025751</th>\n",
       "      <td>Royaume-Uni</td>\n",
       "    </tr>\n",
       "    <tr>\n",
       "      <th>00028202</th>\n",
       "      <td>Royaume-Uni</td>\n",
       "    </tr>\n",
       "    <tr>\n",
       "      <th>0002983542515</th>\n",
       "      <td>Germany</td>\n",
       "    </tr>\n",
       "    <tr>\n",
       "      <th>00033046</th>\n",
       "      <td>United Kingdom</td>\n",
       "    </tr>\n",
       "    <tr>\n",
       "      <th>...</th>\n",
       "      <td>...</td>\n",
       "    </tr>\n",
       "    <tr>\n",
       "      <th>3325710007338</th>\n",
       "      <td>Noix de Saint-Jacques (Chlamys nobilis</td>\n",
       "    </tr>\n",
       "    <tr>\n",
       "      <th>8904063257581</th>\n",
       "      <td>Clove Powder</td>\n",
       "    </tr>\n",
       "    <tr>\n",
       "      <th>20681777</th>\n",
       "      <td>Indonésie</td>\n",
       "    </tr>\n",
       "    <tr>\n",
       "      <th>20682095</th>\n",
       "      <td>Corée du Sud</td>\n",
       "    </tr>\n",
       "    <tr>\n",
       "      <th>26048109</th>\n",
       "      <td>Iles Féroé</td>\n",
       "    </tr>\n",
       "    <tr>\n",
       "      <th>3165440302507</th>\n",
       "      <td>Lettre (L</td>\n",
       "    </tr>\n",
       "    <tr>\n",
       "      <th>3250390257127</th>\n",
       "      <td>Lettre (G</td>\n",
       "    </tr>\n",
       "    <tr>\n",
       "      <th>3325710007338</th>\n",
       "      <td>Vietnam</td>\n",
       "    </tr>\n",
       "    <tr>\n",
       "      <th>8904063257581</th>\n",
       "      <td>Acidity Regulator</td>\n",
       "    </tr>\n",
       "    <tr>\n",
       "      <th>20681777</th>\n",
       "      <td>Thaïlande</td>\n",
       "    </tr>\n",
       "    <tr>\n",
       "      <th>20682095</th>\n",
       "      <td>Russie</td>\n",
       "    </tr>\n",
       "    <tr>\n",
       "      <th>26048109</th>\n",
       "      <td>Lettres (IF</td>\n",
       "    </tr>\n",
       "    <tr>\n",
       "      <th>3165440302507</th>\n",
       "      <td>Noix de Saint-Jacques (Argopecten circularis</td>\n",
       "    </tr>\n",
       "    <tr>\n",
       "      <th>3325710007338</th>\n",
       "      <td>Lettre (H</td>\n",
       "    </tr>\n",
       "    <tr>\n",
       "      <th>20681777</th>\n",
       "      <td>Pacifique Nord-Ouest</td>\n",
       "    </tr>\n",
       "    <tr>\n",
       "      <th>20682095</th>\n",
       "      <td>Vietnam</td>\n",
       "    </tr>\n",
       "    <tr>\n",
       "      <th>26048109</th>\n",
       "      <td>Noix de Saint-Jacques (Argopecten circularis</td>\n",
       "    </tr>\n",
       "    <tr>\n",
       "      <th>3165440302507</th>\n",
       "      <td>USA</td>\n",
       "    </tr>\n",
       "    <tr>\n",
       "      <th>3325710007338</th>\n",
       "      <td>Noix de Saint-Jacques (Amusium pleuronectes</td>\n",
       "    </tr>\n",
       "    <tr>\n",
       "      <th>20681777</th>\n",
       "      <td>FAO 61</td>\n",
       "    </tr>\n",
       "    <tr>\n",
       "      <th>26048109</th>\n",
       "      <td>USA</td>\n",
       "    </tr>\n",
       "    <tr>\n",
       "      <th>3165440302507</th>\n",
       "      <td>Lettre (M</td>\n",
       "    </tr>\n",
       "    <tr>\n",
       "      <th>3325710007338</th>\n",
       "      <td>Indonésie</td>\n",
       "    </tr>\n",
       "    <tr>\n",
       "      <th>26048109</th>\n",
       "      <td>Lettres (US</td>\n",
       "    </tr>\n",
       "    <tr>\n",
       "      <th>3325710007338</th>\n",
       "      <td>Lettre (I</td>\n",
       "    </tr>\n",
       "    <tr>\n",
       "      <th>26048109</th>\n",
       "      <td>Mexique</td>\n",
       "    </tr>\n",
       "    <tr>\n",
       "      <th>3325710007338</th>\n",
       "      <td>Noix de Saint-Jacques (Argopecten irradians</td>\n",
       "    </tr>\n",
       "    <tr>\n",
       "      <th>26048109</th>\n",
       "      <td>Lettre (M</td>\n",
       "    </tr>\n",
       "    <tr>\n",
       "      <th>3325710007338</th>\n",
       "      <td>USA</td>\n",
       "    </tr>\n",
       "    <tr>\n",
       "      <th>3325710007338</th>\n",
       "      <td>Lettre (J</td>\n",
       "    </tr>\n",
       "  </tbody>\n",
       "</table>\n",
       "<p>53634 rows × 1 columns</p>\n",
       "</div>"
      ],
      "text/plain": [
       "                                                     origin\n",
       "code                                                       \n",
       "0000000274722                                        France\n",
       "0000000290616                                        Québec\n",
       "0000000394710                                        Québec\n",
       "0000001071894                                        France\n",
       "0000001938067                                        Québec\n",
       "0000004302544                                        Québec\n",
       "0000008237798                                        Québec\n",
       "0000008240095                                        Québec\n",
       "0000012167005                                        Québec\n",
       "0000020004552                                        France\n",
       "0000034152010                                        France\n",
       "00000758                                     United Kingdom\n",
       "00001373                                            Germany\n",
       "0000204286484                                       Germany\n",
       "0000204286644                                       Germany\n",
       "0000250632969                                       Germany\n",
       "00003100                                             France\n",
       "000039365                                                UE\n",
       "0000470322800                                       Germany\n",
       "0000501050603                                       Germany\n",
       "0000526938306                                       Germany\n",
       "0000790310044                                        Canada\n",
       "00011051096                                          France\n",
       "00015356                                    Grande Bretagne\n",
       "0002042861915                                       Germany\n",
       "000224                                               France\n",
       "00025751                                        Royaume-Uni\n",
       "00028202                                        Royaume-Uni\n",
       "0002983542515                                       Germany\n",
       "00033046                                     United Kingdom\n",
       "...                                                     ...\n",
       "3325710007338        Noix de Saint-Jacques (Chlamys nobilis\n",
       "8904063257581                                  Clove Powder\n",
       "20681777                                          Indonésie\n",
       "20682095                                       Corée du Sud\n",
       "26048109                                         Iles Féroé\n",
       "3165440302507                                     Lettre (L\n",
       "3250390257127                                     Lettre (G\n",
       "3325710007338                                       Vietnam\n",
       "8904063257581                             Acidity Regulator\n",
       "20681777                                          Thaïlande\n",
       "20682095                                             Russie\n",
       "26048109                                        Lettres (IF\n",
       "3165440302507  Noix de Saint-Jacques (Argopecten circularis\n",
       "3325710007338                                     Lettre (H\n",
       "20681777                               Pacifique Nord-Ouest\n",
       "20682095                                            Vietnam\n",
       "26048109       Noix de Saint-Jacques (Argopecten circularis\n",
       "3165440302507                                           USA\n",
       "3325710007338   Noix de Saint-Jacques (Amusium pleuronectes\n",
       "20681777                                             FAO 61\n",
       "26048109                                                USA\n",
       "3165440302507                                     Lettre (M\n",
       "3325710007338                                     Indonésie\n",
       "26048109                                        Lettres (US\n",
       "3325710007338                                     Lettre (I\n",
       "26048109                                            Mexique\n",
       "3325710007338   Noix de Saint-Jacques (Argopecten irradians\n",
       "26048109                                          Lettre (M\n",
       "3325710007338                                           USA\n",
       "3325710007338                                     Lettre (J\n",
       "\n",
       "[53634 rows x 1 columns]"
      ]
     },
     "execution_count": 17,
     "metadata": {},
     "output_type": "execute_result"
    }
   ],
   "source": [
    "ORIGINS=pd.DataFrame(data_origins_exploded).reset_index().set_index(\"code\")[[0]]\n",
    "ORIGINS.columns=['origin']\n",
    "ORIGINS"
   ]
  },
  {
   "cell_type": "code",
   "execution_count": 18,
   "metadata": {},
   "outputs": [],
   "source": [
    "\n",
    "ORIGINS.to_csv(DATAPATH+'quick_translate_origins.csv')\n"
   ]
  },
  {
   "cell_type": "code",
   "execution_count": 19,
   "metadata": {},
   "outputs": [
    {
     "data": {
      "image/png": "[encoded data removed]",
      "text/plain": [
       "<Figure size 432x288 with 1 Axes>"
      ]
     },
     "metadata": {
      "needs_background": "light"
     },
     "output_type": "display_data"
    },
    {
     "data": {
      "image/png": "[encoded data removed]",
      "text/plain": [
       "<Figure size 432x288 with 1 Axes>"
      ]
     },
     "metadata": {
      "needs_background": "light"
     },
     "output_type": "display_data"
    }
   ],
   "source": [
    "data_labels_exploded.value_counts().head(10).plot(kind='barh',color='b')\n",
    "plt.show()\n",
    "data_categories_exploded.value_counts().head(10).plot(kind='barh',color='b')\n",
    "plt.show()"
   ]
  },
  {
   "cell_type": "code",
   "execution_count": 20,
   "metadata": {},
   "outputs": [],
   "source": [
    "z=pd.DataFrame(data_labels_exploded).reset_index().set_index(\"code\")[[0]]\n",
    "z.columns=['label']\n",
    "x=pd.DataFrame(data_categories_exploded).reset_index().set_index('code')[[0]]\n",
    "x.columns=['category']"
   ]
  },
  {
   "cell_type": "code",
   "execution_count": 21,
   "metadata": {},
   "outputs": [],
   "source": [
    "#to be removedin case f problem\n",
    "\n",
    "organic=z[z['label'] == 'Organic']\n",
    "green_dot=z[z['label'] == 'Green Dot']\n",
    "eu_organ=z[z['label'] == 'EU Organic']\n",
    "z=pd.concat([organic,green_dot,eu_organ])"
   ]
  },
  {
   "cell_type": "code",
   "execution_count": 22,
   "metadata": {},
   "outputs": [],
   "source": [
    "z=pd.DataFrame(data_labels_exploded).reset_index().set_index(\"code\")[[0]]\n",
    "z.columns=['label']\n",
    "x=pd.DataFrame(data_categories_exploded).reset_index().set_index('code')[[0]]\n",
    "x.columns=['category']\n",
    "origins_=pd.DataFrame(data_origins_exploded).reset_index().set_index(\"code\")[[0]]\n",
    "origins_.columns=['origin']\n",
    "\n",
    "f=x.join(z).dropna()\n",
    "f['joined']=f['category']+','+f['label']\n",
    "\n",
    "\n"
   ]
  },
  {
   "cell_type": "code",
   "execution_count": 23,
   "metadata": {
    "scrolled": true
   },
   "outputs": [
    {
     "data": {
      "image/png": "[encoded data removed]",
      "text/plain": [
       "<Figure size 432x288 with 1 Axes>"
      ]
     },
     "metadata": {
      "needs_background": "light"
     },
     "output_type": "display_data"
    }
   ],
   "source": [
    "f['joined'].value_counts().head(20).plot(kind='barh',color='g')\n",
    "\n",
    "plt.show()"
   ]
  },
  {
   "cell_type": "code",
   "execution_count": 24,
   "metadata": {},
   "outputs": [],
   "source": [
    "highest_support=pd.Series(f['joined'].value_counts().head(20).index.values)\n",
    "\n",
    "grouped_=list(zip(*(highest_support.str.split(',').values)))\n",
    "highest_categories=np.unique(list(grouped_[0]))\n",
    "highest_labels=np.unique(list(grouped_[1]))\n",
    "highest_categories=highest_categories.tolist()\n",
    "highest_labels=highest_labels.tolist()\n"
   ]
  },
  {
   "cell_type": "code",
   "execution_count": 25,
   "metadata": {},
   "outputs": [],
   "source": [
    "def cosine_similarity(array1,array2):\n",
    "    return np.divide(np.dot(array1,array2),norm(array1)*norm(array2))\n"
   ]
  },
  {
   "cell_type": "code",
   "execution_count": 26,
   "metadata": {},
   "outputs": [],
   "source": [
    "def pearson_similarity(array1,array2):\n",
    "    array1_=np.subtract(array1,np.mean(array1))\n",
    "    array2_=np.subtract(array2,np.mean(array2))\n",
    "    return np.divide(np.dot(array1_,array2_),norm(array1_)*norm(array2_))"
   ]
  },
  {
   "cell_type": "code",
   "execution_count": 27,
   "metadata": {},
   "outputs": [],
   "source": [
    "def tanimoto_similarity(array1,array2):\n",
    "    dividende=np.dot(array1,array2)\n",
    "    divisor=np.dot(array1,array1)+np.dot(array2,array2)-dividende\n",
    "    return dividende/divisor"
   ]
  },
  {
   "cell_type": "code",
   "execution_count": 28,
   "metadata": {},
   "outputs": [
    {
     "data": {
      "text/plain": [
       "0.8451542547285166"
      ]
     },
     "execution_count": 28,
     "metadata": {},
     "output_type": "execute_result"
    }
   ],
   "source": [
    "cosine_similarity(np.array([1,0,3]),np.array([1,2,3]))"
   ]
  },
  {
   "cell_type": "code",
   "execution_count": 29,
   "metadata": {},
   "outputs": [
    {
     "data": {
      "text/plain": [
       "0.654653670707977"
      ]
     },
     "execution_count": 29,
     "metadata": {},
     "output_type": "execute_result"
    }
   ],
   "source": [
    "pearson_similarity(np.array([1,0,3]),np.array([1,2,3]))"
   ]
  },
  {
   "cell_type": "code",
   "execution_count": 53,
   "metadata": {},
   "outputs": [],
   "source": [
    "def define_local_rules(origin=None):\n",
    "    local_rules={}\n",
    "    origins_=pd.DataFrame(data_origins_exploded).reset_index().set_index(\"code\")[[0]]\n",
    "    origins_.columns=['origin']\n",
    "    x_=x.copy()\n",
    "    z_=z.copy()\n",
    "    if origin:\n",
    "\n",
    "        origins_=origins_[origins_['origin']==origin]\n",
    "        z_=z.join(origins_).dropna().drop(columns=['origin'])\n",
    "        x_=x.join(origins_).dropna().drop(columns=['origin'])\n",
    "\n",
    "\n",
    "\n",
    "    f=x_.join(z_).dropna()\n",
    "    f['joined']=f['category']+','+f['label']\n",
    "    support=f['joined'].value_counts()\n",
    "    label_counts=f['label'].value_counts()\n",
    "    category_counts=f['category'].value_counts()\n",
    "\n",
    "    for label in highest_labels:\n",
    "\n",
    "        for category in highest_categories:\n",
    "\n",
    "\n",
    "            string_=category+','+label\n",
    "            if string_ in support.index:\n",
    "                local_rules[label+' -> '+category]=support.loc[category+','+label]/label_counts.loc[label]\n",
    "                local_rules[category+' -> '+label]=support.loc[category+','+label]/category_counts.loc[category]\n",
    "            else:\n",
    "                local_rules[label+' -> '+category]=0.\n",
    "                local_rules[category+' -> '+label]=0.\n",
    "    return local_rules.copy()\n"
   ]
  },
  {
   "cell_type": "code",
   "execution_count": 61,
   "metadata": {},
   "outputs": [],
   "source": [
    "general_local_rules=define_local_rules()\n",
    "germany_local_rules=define_local_rules('Germany')\n",
    "france_local_rules=define_local_rules('France')\n",
    "belgium_local_rules=define_local_rules('Belgium')\n",
    "spain_local_rules=define_local_rules('Spain')\n",
    "italy_local_rules=define_local_rules('Italy')\n",
    "switzerland_local_rules=define_local_rules('Switzerland')"
   ]
  },
  {
   "cell_type": "markdown",
   "metadata": {},
   "source": [
    "# First Glance at local Rules\n",
    "\n",
    "We excpect a lot of 0.0 in our dictionnaries, especially in the country-based one, because the support reference was made on the whole data set. Let's have a look of some entries."
   ]
  },
  {
   "cell_type": "code",
   "execution_count": 62,
   "metadata": {},
   "outputs": [
    {
     "name": "stdout",
     "output_type": "stream",
     "text": [
      "0.03288202565480773\n",
      "0.0649865891819401\n",
      "0.02190104044065722\n",
      "0.1264807778274475\n"
     ]
    }
   ],
   "source": [
    "print(general_local_rules['Organic -> Beverages'])\n",
    "print(general_local_rules['Beverages -> EU Organic'])\n",
    "print(general_local_rules['EU Organic -> Beverages'])\n",
    "print(general_local_rules['Beverages -> Organic'])"
   ]
  },
  {
   "cell_type": "markdown",
   "metadata": {},
   "source": [
    "There is something surprising: a quarter of beverages are EU organic, and almost half of the beverages are Organic.\n",
    "\n",
    "How is it represented in France, and other european countries\n",
    "    "
   ]
  },
  {
   "cell_type": "code",
   "execution_count": 63,
   "metadata": {},
   "outputs": [
    {
     "name": "stdout",
     "output_type": "stream",
     "text": [
      "organic beverage in france\n",
      "0.01920955285871893\n",
      "0.059189313680331646\n",
      "0.019530359449806217\n",
      "0.06817134960847536\n"
     ]
    }
   ],
   "source": [
    "print('organic beverage in france')\n",
    "print(france_local_rules['Organic -> Beverages'])\n",
    "print(france_local_rules['Beverages -> EU Organic'])\n",
    "print(france_local_rules['EU Organic -> Beverages'])\n",
    "print(france_local_rules['Beverages -> Organic'])"
   ]
  },
  {
   "cell_type": "code",
   "execution_count": 64,
   "metadata": {},
   "outputs": [
    {
     "name": "stdout",
     "output_type": "stream",
     "text": [
      "organic beverage in spain\n",
      "0.009898107714701601\n",
      "0.06766917293233082\n",
      "0.008835078534031414\n",
      "0.08521303258145363\n"
     ]
    }
   ],
   "source": [
    "print('organic beverage in spain')\n",
    "print(spain_local_rules['Organic -> Beverages'])\n",
    "print(spain_local_rules['Beverages -> EU Organic'])\n",
    "print(spain_local_rules['EU Organic -> Beverages'])\n",
    "print(spain_local_rules['Beverages -> Organic'])"
   ]
  },
  {
   "cell_type": "markdown",
   "metadata": {},
   "source": [
    "# Comparison at large scale\n",
    "\n",
    "Because it can be tedious to compare each rule one after one other, considering local rules values as vectors can allow to compare them in a faster way. \n",
    "\n",
    "There are several ways to compute vector similiraty, here we use three of them:\n",
    " * linear correlation\n",
    " $$\\frac{Cov(x,y)}{\\sqrt{ Var(x)Var(y)}}$$\n",
    " * cosine similarity\n",
    " $$\\frac{\\sum x_i y_i}{\\sqrt{ \\sum{x_i^2} \\sum{y_i^2}}}$$\n",
    " * Tanimoto distance\n",
    " $$\\frac{\\sum x_i y_i}{\\sum{x_i^2} + \\sum{y_i^2} -\\sum x_i y_i}$$\n",
    " \n",
    " As there is no theoretical reason to prefer one of them, they are all computed and compared.\n",
    " It turns out that they are equivalent **in the selected countries**:  sim1(country A, country B) < sim1(countryC, countryD) iff sim2(country A, country B) < sim2(countryC, countryD)\n"
   ]
  },
  {
   "cell_type": "code",
   "execution_count": 65,
   "metadata": {},
   "outputs": [],
   "source": [
    "values=np.zeros((7,len(general_local_rules)))\n",
    "values[0]=list(general_local_rules.values())\n",
    "values[1]=list(germany_local_rules.values())\n",
    "values[2]=list(france_local_rules.values())\n",
    "values[3]=list(belgium_local_rules.values())\n",
    "values[4]=list(spain_local_rules.values())\n",
    "values[5]=list(italy_local_rules.values())\n",
    "values[6]=list(switzerland_local_rules.values())"
   ]
  },
  {
   "cell_type": "code",
   "execution_count": 66,
   "metadata": {},
   "outputs": [
    {
     "data": {
      "text/plain": [
       "array([0.0127774 , 0.07509881, 0.02151984, 0.11895911, 0.0134499 ,\n",
       "       0.13333333, 0.04909213, 0.14370079, 0.00268998, 0.03773585,\n",
       "       0.00739744, 0.05729167, 0.06052455, 0.1453958 , 0.06590451,\n",
       "       0.14      , 0.00134499, 0.01818182, 0.00997506, 0.01581028,\n",
       "       0.02244389, 0.03345725, 0.00498753, 0.01333333, 0.01745636,\n",
       "       0.01377953, 0.03241895, 0.12264151, 0.00997506, 0.02083333,\n",
       "       0.03990025, 0.02584814, 0.04488778, 0.02571429, 0.01496259,\n",
       "       0.05454545, 0.01444043, 0.09486166, 0.0234657 , 0.14498141,\n",
       "       0.0156438 , 0.17333333, 0.04572804, 0.1496063 , 0.00481348,\n",
       "       0.0754717 , 0.00902527, 0.078125  , 0.06016847, 0.16155089,\n",
       "       0.06738869, 0.16      , 0.00240674, 0.03636364, 0.04150943,\n",
       "       0.04347826, 0.03396226, 0.03345725, 0.02641509, 0.04666667,\n",
       "       0.        , 0.        , 0.00377358, 0.00943396, 0.02641509,\n",
       "       0.03645833, 0.08301887, 0.0355412 , 0.09433962, 0.03571429,\n",
       "       0.        , 0.        , 0.0298103 , 0.04347826, 0.02710027,\n",
       "       0.03717472, 0.01897019, 0.04666667, 0.        , 0.        ,\n",
       "       0.01897019, 0.06603774, 0.01897019, 0.03645833, 0.0704607 ,\n",
       "       0.04200323, 0.07859079, 0.04142857, 0.02710027, 0.09090909,\n",
       "       0.02631579, 0.01581028, 0.01973684, 0.01115242, 0.01315789,\n",
       "       0.01333333, 0.00657895, 0.0019685 , 0.00657895, 0.00943396,\n",
       "       0.02631579, 0.02083333, 0.07236842, 0.0177706 , 0.09868421,\n",
       "       0.02142857, 0.00657895, 0.00909091])"
      ]
     },
     "execution_count": 66,
     "metadata": {},
     "output_type": "execute_result"
    }
   ],
   "source": [
    "values[1]"
   ]
  },
  {
   "cell_type": "code",
   "execution_count": 67,
   "metadata": {},
   "outputs": [],
   "source": [
    "cosine_similarities = np.zeros((7,7))\n",
    "for i in range(7):\n",
    "    for j in range(7):\n",
    "        cosine_similarities[i,j]=cosine_similarity(values[i],values[j])"
   ]
  },
  {
   "cell_type": "code",
   "execution_count": 68,
   "metadata": {},
   "outputs": [],
   "source": [
    "cosine_similarity_frame=pd.DataFrame(cosine_similarities)\n",
    "cosine_similarity_frame.columns=['World','Germany','France','Belgium','Spain','Italy','Switzerland']\n",
    "cosine_similarity_frame.index=['World','Germany','France','Belgium','Spain','Italy','Switzerland']\n"
   ]
  },
  {
   "cell_type": "code",
   "execution_count": 69,
   "metadata": {},
   "outputs": [],
   "source": [
    "pearson_similarities = np.zeros((7,7))\n",
    "for i in range(7):\n",
    "    for j in range(7):\n",
    "        pearson_similarities[i,j]=pearson_similarity(values[i],values[j])"
   ]
  },
  {
   "cell_type": "code",
   "execution_count": 70,
   "metadata": {},
   "outputs": [],
   "source": [
    "pearson_similarity_frame=pd.DataFrame(pearson_similarities)\n",
    "pearson_similarity_frame.columns=['World','Germany','France','Belgium','Spain','Italy','Switzerland']\n",
    "pearson_similarity_frame.index=['World','Germany','France','Belgium','Spain','Italy','Switzerland']"
   ]
  },
  {
   "cell_type": "code",
   "execution_count": 71,
   "metadata": {},
   "outputs": [],
   "source": [
    "tanimoto_similarities = np.zeros((7,7))\n",
    "for i in range(7):\n",
    "    for j in range(7):\n",
    "        tanimoto_similarities[i,j]=tanimoto_similarity(values[i],values[j])"
   ]
  },
  {
   "cell_type": "code",
   "execution_count": 72,
   "metadata": {},
   "outputs": [],
   "source": [
    "tanimoto_similarity_frame=pd.DataFrame(tanimoto_similarities)\n",
    "tanimoto_similarity_frame.columns=['World','Germany','France','Belgium','Spain','Italy','Switzerland']\n",
    "tanimoto_similarity_frame.index=['World','Germany','France','Belgium','Spain','Italy','Switzerland']"
   ]
  },
  {
   "cell_type": "code",
   "execution_count": 73,
   "metadata": {},
   "outputs": [
    {
     "name": "stdout",
     "output_type": "stream",
     "text": [
      "Cosine similarities\n"
     ]
    },
    {
     "data": {
      "text/html": [
       "<div>\n",
       "<style scoped>\n",
       "    .dataframe tbody tr th:only-of-type {\n",
       "        vertical-align: middle;\n",
       "    }\n",
       "\n",
       "    .dataframe tbody tr th {\n",
       "        vertical-align: top;\n",
       "    }\n",
       "\n",
       "    .dataframe thead th {\n",
       "        text-align: right;\n",
       "    }\n",
       "</style>\n",
       "<table border=\"1\" class=\"dataframe\">\n",
       "  <thead>\n",
       "    <tr style=\"text-align: right;\">\n",
       "      <th></th>\n",
       "      <th>World</th>\n",
       "      <th>Germany</th>\n",
       "      <th>France</th>\n",
       "      <th>Belgium</th>\n",
       "      <th>Spain</th>\n",
       "      <th>Italy</th>\n",
       "      <th>Switzerland</th>\n",
       "    </tr>\n",
       "  </thead>\n",
       "  <tbody>\n",
       "    <tr>\n",
       "      <th>World</th>\n",
       "      <td>1.000000</td>\n",
       "      <td>0.880475</td>\n",
       "      <td>0.953258</td>\n",
       "      <td>0.811140</td>\n",
       "      <td>0.817744</td>\n",
       "      <td>0.947444</td>\n",
       "      <td>0.843709</td>\n",
       "    </tr>\n",
       "    <tr>\n",
       "      <th>Germany</th>\n",
       "      <td>0.880475</td>\n",
       "      <td>1.000000</td>\n",
       "      <td>0.809927</td>\n",
       "      <td>0.685146</td>\n",
       "      <td>0.763366</td>\n",
       "      <td>0.912983</td>\n",
       "      <td>0.872729</td>\n",
       "    </tr>\n",
       "    <tr>\n",
       "      <th>France</th>\n",
       "      <td>0.953258</td>\n",
       "      <td>0.809927</td>\n",
       "      <td>1.000000</td>\n",
       "      <td>0.847881</td>\n",
       "      <td>0.697466</td>\n",
       "      <td>0.919281</td>\n",
       "      <td>0.794869</td>\n",
       "    </tr>\n",
       "    <tr>\n",
       "      <th>Belgium</th>\n",
       "      <td>0.811140</td>\n",
       "      <td>0.685146</td>\n",
       "      <td>0.847881</td>\n",
       "      <td>1.000000</td>\n",
       "      <td>0.597243</td>\n",
       "      <td>0.756683</td>\n",
       "      <td>0.610838</td>\n",
       "    </tr>\n",
       "    <tr>\n",
       "      <th>Spain</th>\n",
       "      <td>0.817744</td>\n",
       "      <td>0.763366</td>\n",
       "      <td>0.697466</td>\n",
       "      <td>0.597243</td>\n",
       "      <td>1.000000</td>\n",
       "      <td>0.739327</td>\n",
       "      <td>0.682886</td>\n",
       "    </tr>\n",
       "    <tr>\n",
       "      <th>Italy</th>\n",
       "      <td>0.947444</td>\n",
       "      <td>0.912983</td>\n",
       "      <td>0.919281</td>\n",
       "      <td>0.756683</td>\n",
       "      <td>0.739327</td>\n",
       "      <td>1.000000</td>\n",
       "      <td>0.858608</td>\n",
       "    </tr>\n",
       "    <tr>\n",
       "      <th>Switzerland</th>\n",
       "      <td>0.843709</td>\n",
       "      <td>0.872729</td>\n",
       "      <td>0.794869</td>\n",
       "      <td>0.610838</td>\n",
       "      <td>0.682886</td>\n",
       "      <td>0.858608</td>\n",
       "      <td>1.000000</td>\n",
       "    </tr>\n",
       "  </tbody>\n",
       "</table>\n",
       "</div>"
      ],
      "text/plain": [
       "                World   Germany    France   Belgium     Spain     Italy  \\\n",
       "World        1.000000  0.880475  0.953258  0.811140  0.817744  0.947444   \n",
       "Germany      0.880475  1.000000  0.809927  0.685146  0.763366  0.912983   \n",
       "France       0.953258  0.809927  1.000000  0.847881  0.697466  0.919281   \n",
       "Belgium      0.811140  0.685146  0.847881  1.000000  0.597243  0.756683   \n",
       "Spain        0.817744  0.763366  0.697466  0.597243  1.000000  0.739327   \n",
       "Italy        0.947444  0.912983  0.919281  0.756683  0.739327  1.000000   \n",
       "Switzerland  0.843709  0.872729  0.794869  0.610838  0.682886  0.858608   \n",
       "\n",
       "             Switzerland  \n",
       "World           0.843709  \n",
       "Germany         0.872729  \n",
       "France          0.794869  \n",
       "Belgium         0.610838  \n",
       "Spain           0.682886  \n",
       "Italy           0.858608  \n",
       "Switzerland     1.000000  "
      ]
     },
     "execution_count": 73,
     "metadata": {},
     "output_type": "execute_result"
    }
   ],
   "source": [
    "print('Cosine similarities')\n",
    "cosine_similarity_frame"
   ]
  },
  {
   "cell_type": "code",
   "execution_count": 74,
   "metadata": {},
   "outputs": [
    {
     "name": "stdout",
     "output_type": "stream",
     "text": [
      "Linear correlation similarities\n"
     ]
    },
    {
     "data": {
      "text/html": [
       "<div>\n",
       "<style scoped>\n",
       "    .dataframe tbody tr th:only-of-type {\n",
       "        vertical-align: middle;\n",
       "    }\n",
       "\n",
       "    .dataframe tbody tr th {\n",
       "        vertical-align: top;\n",
       "    }\n",
       "\n",
       "    .dataframe thead th {\n",
       "        text-align: right;\n",
       "    }\n",
       "</style>\n",
       "<table border=\"1\" class=\"dataframe\">\n",
       "  <thead>\n",
       "    <tr style=\"text-align: right;\">\n",
       "      <th></th>\n",
       "      <th>World</th>\n",
       "      <th>Germany</th>\n",
       "      <th>France</th>\n",
       "      <th>Belgium</th>\n",
       "      <th>Spain</th>\n",
       "      <th>Italy</th>\n",
       "      <th>Switzerland</th>\n",
       "    </tr>\n",
       "  </thead>\n",
       "  <tbody>\n",
       "    <tr>\n",
       "      <th>World</th>\n",
       "      <td>1.000000</td>\n",
       "      <td>0.741009</td>\n",
       "      <td>0.895986</td>\n",
       "      <td>0.651448</td>\n",
       "      <td>0.588606</td>\n",
       "      <td>0.888902</td>\n",
       "      <td>0.675517</td>\n",
       "    </tr>\n",
       "    <tr>\n",
       "      <th>Germany</th>\n",
       "      <td>0.741009</td>\n",
       "      <td>1.000000</td>\n",
       "      <td>0.603827</td>\n",
       "      <td>0.429347</td>\n",
       "      <td>0.517755</td>\n",
       "      <td>0.822154</td>\n",
       "      <td>0.752219</td>\n",
       "    </tr>\n",
       "    <tr>\n",
       "      <th>France</th>\n",
       "      <td>0.895986</td>\n",
       "      <td>0.603827</td>\n",
       "      <td>1.000000</td>\n",
       "      <td>0.726409</td>\n",
       "      <td>0.359716</td>\n",
       "      <td>0.828740</td>\n",
       "      <td>0.588059</td>\n",
       "    </tr>\n",
       "    <tr>\n",
       "      <th>Belgium</th>\n",
       "      <td>0.651448</td>\n",
       "      <td>0.429347</td>\n",
       "      <td>0.726409</td>\n",
       "      <td>1.000000</td>\n",
       "      <td>0.260623</td>\n",
       "      <td>0.556835</td>\n",
       "      <td>0.308796</td>\n",
       "    </tr>\n",
       "    <tr>\n",
       "      <th>Spain</th>\n",
       "      <td>0.588606</td>\n",
       "      <td>0.517755</td>\n",
       "      <td>0.359716</td>\n",
       "      <td>0.260623</td>\n",
       "      <td>1.000000</td>\n",
       "      <td>0.459615</td>\n",
       "      <td>0.374271</td>\n",
       "    </tr>\n",
       "    <tr>\n",
       "      <th>Italy</th>\n",
       "      <td>0.888902</td>\n",
       "      <td>0.822154</td>\n",
       "      <td>0.828740</td>\n",
       "      <td>0.556835</td>\n",
       "      <td>0.459615</td>\n",
       "      <td>1.000000</td>\n",
       "      <td>0.721226</td>\n",
       "    </tr>\n",
       "    <tr>\n",
       "      <th>Switzerland</th>\n",
       "      <td>0.675517</td>\n",
       "      <td>0.752219</td>\n",
       "      <td>0.588059</td>\n",
       "      <td>0.308796</td>\n",
       "      <td>0.374271</td>\n",
       "      <td>0.721226</td>\n",
       "      <td>1.000000</td>\n",
       "    </tr>\n",
       "  </tbody>\n",
       "</table>\n",
       "</div>"
      ],
      "text/plain": [
       "                World   Germany    France   Belgium     Spain     Italy  \\\n",
       "World        1.000000  0.741009  0.895986  0.651448  0.588606  0.888902   \n",
       "Germany      0.741009  1.000000  0.603827  0.429347  0.517755  0.822154   \n",
       "France       0.895986  0.603827  1.000000  0.726409  0.359716  0.828740   \n",
       "Belgium      0.651448  0.429347  0.726409  1.000000  0.260623  0.556835   \n",
       "Spain        0.588606  0.517755  0.359716  0.260623  1.000000  0.459615   \n",
       "Italy        0.888902  0.822154  0.828740  0.556835  0.459615  1.000000   \n",
       "Switzerland  0.675517  0.752219  0.588059  0.308796  0.374271  0.721226   \n",
       "\n",
       "             Switzerland  \n",
       "World           0.675517  \n",
       "Germany         0.752219  \n",
       "France          0.588059  \n",
       "Belgium         0.308796  \n",
       "Spain           0.374271  \n",
       "Italy           0.721226  \n",
       "Switzerland     1.000000  "
      ]
     },
     "execution_count": 74,
     "metadata": {},
     "output_type": "execute_result"
    }
   ],
   "source": [
    "print('Linear correlation similarities')\n",
    "pearson_similarity_frame"
   ]
  },
  {
   "cell_type": "code",
   "execution_count": 75,
   "metadata": {},
   "outputs": [
    {
     "name": "stdout",
     "output_type": "stream",
     "text": [
      "Tanimoto distance similarities\n"
     ]
    },
    {
     "data": {
      "text/html": [
       "<div>\n",
       "<style scoped>\n",
       "    .dataframe tbody tr th:only-of-type {\n",
       "        vertical-align: middle;\n",
       "    }\n",
       "\n",
       "    .dataframe tbody tr th {\n",
       "        vertical-align: top;\n",
       "    }\n",
       "\n",
       "    .dataframe thead th {\n",
       "        text-align: right;\n",
       "    }\n",
       "</style>\n",
       "<table border=\"1\" class=\"dataframe\">\n",
       "  <thead>\n",
       "    <tr style=\"text-align: right;\">\n",
       "      <th></th>\n",
       "      <th>World</th>\n",
       "      <th>Germany</th>\n",
       "      <th>France</th>\n",
       "      <th>Belgium</th>\n",
       "      <th>Spain</th>\n",
       "      <th>Italy</th>\n",
       "      <th>Switzerland</th>\n",
       "    </tr>\n",
       "  </thead>\n",
       "  <tbody>\n",
       "    <tr>\n",
       "      <th>World</th>\n",
       "      <td>1.000000</td>\n",
       "      <td>0.786461</td>\n",
       "      <td>0.892397</td>\n",
       "      <td>0.680693</td>\n",
       "      <td>0.666601</td>\n",
       "      <td>0.874457</td>\n",
       "      <td>0.720660</td>\n",
       "    </tr>\n",
       "    <tr>\n",
       "      <th>Germany</th>\n",
       "      <td>0.786461</td>\n",
       "      <td>1.000000</td>\n",
       "      <td>0.669163</td>\n",
       "      <td>0.520145</td>\n",
       "      <td>0.595055</td>\n",
       "      <td>0.815620</td>\n",
       "      <td>0.763732</td>\n",
       "    </tr>\n",
       "    <tr>\n",
       "      <th>France</th>\n",
       "      <td>0.892397</td>\n",
       "      <td>0.669163</td>\n",
       "      <td>1.000000</td>\n",
       "      <td>0.730370</td>\n",
       "      <td>0.487313</td>\n",
       "      <td>0.775593</td>\n",
       "      <td>0.622655</td>\n",
       "    </tr>\n",
       "    <tr>\n",
       "      <th>Belgium</th>\n",
       "      <td>0.680693</td>\n",
       "      <td>0.520145</td>\n",
       "      <td>0.730370</td>\n",
       "      <td>1.000000</td>\n",
       "      <td>0.405612</td>\n",
       "      <td>0.584012</td>\n",
       "      <td>0.430435</td>\n",
       "    </tr>\n",
       "    <tr>\n",
       "      <th>Spain</th>\n",
       "      <td>0.666601</td>\n",
       "      <td>0.595055</td>\n",
       "      <td>0.487313</td>\n",
       "      <td>0.405612</td>\n",
       "      <td>1.000000</td>\n",
       "      <td>0.585888</td>\n",
       "      <td>0.515274</td>\n",
       "    </tr>\n",
       "    <tr>\n",
       "      <th>Italy</th>\n",
       "      <td>0.874457</td>\n",
       "      <td>0.815620</td>\n",
       "      <td>0.775593</td>\n",
       "      <td>0.584012</td>\n",
       "      <td>0.585888</td>\n",
       "      <td>1.000000</td>\n",
       "      <td>0.750227</td>\n",
       "    </tr>\n",
       "    <tr>\n",
       "      <th>Switzerland</th>\n",
       "      <td>0.720660</td>\n",
       "      <td>0.763732</td>\n",
       "      <td>0.622655</td>\n",
       "      <td>0.430435</td>\n",
       "      <td>0.515274</td>\n",
       "      <td>0.750227</td>\n",
       "      <td>1.000000</td>\n",
       "    </tr>\n",
       "  </tbody>\n",
       "</table>\n",
       "</div>"
      ],
      "text/plain": [
       "                World   Germany    France   Belgium     Spain     Italy  \\\n",
       "World        1.000000  0.786461  0.892397  0.680693  0.666601  0.874457   \n",
       "Germany      0.786461  1.000000  0.669163  0.520145  0.595055  0.815620   \n",
       "France       0.892397  0.669163  1.000000  0.730370  0.487313  0.775593   \n",
       "Belgium      0.680693  0.520145  0.730370  1.000000  0.405612  0.584012   \n",
       "Spain        0.666601  0.595055  0.487313  0.405612  1.000000  0.585888   \n",
       "Italy        0.874457  0.815620  0.775593  0.584012  0.585888  1.000000   \n",
       "Switzerland  0.720660  0.763732  0.622655  0.430435  0.515274  0.750227   \n",
       "\n",
       "             Switzerland  \n",
       "World           0.720660  \n",
       "Germany         0.763732  \n",
       "France          0.622655  \n",
       "Belgium         0.430435  \n",
       "Spain           0.515274  \n",
       "Italy           0.750227  \n",
       "Switzerland     1.000000  "
      ]
     },
     "execution_count": 75,
     "metadata": {},
     "output_type": "execute_result"
    }
   ],
   "source": [
    "print('Tanimoto distance similarities')\n",
    "tanimoto_similarity_frame"
   ]
  },
  {
   "cell_type": "markdown",
   "metadata": {},
   "source": [
    "# Data Viz\n",
    "\n",
    "Previous method suggest different shades of similarities: e.g Switzerland and Belgium are less similar than France and Italy.\n",
    "\n",
    "To represent those similarities in a more direct way via data visualization. An immediate drawback of that approach is that we need to project the local rule values onto a 2D space for representation sake. This dimensionality reduction is surely to high.\n",
    "\n",
    "We used three method\n",
    " * PCA: this method directly project the data onto a space were the new features are uncorrelated. PCA is often used to reduce dimensionality by taking the principal components with highest variances. However, it only takes in account linear correlation and not depances in general.\n",
    " * ICA: coming from signal source demixing problem, ICA tries to retrieve the weights of the different sources, under the assumption that the pure sources are non gaussian.\n",
    " * Autoencoder: a techniques based on neural network. the NN is  has different hidden layers, including the coder which has usually a low number of neurons. The NN is trained to reproduced the same data from input to output. Once trained, values at the coder layer represent a non-linear projection of data onto a lower dimensional space."
   ]
  },
  {
   "cell_type": "code",
   "execution_count": 92,
   "metadata": {},
   "outputs": [
    {
     "data": {
      "image/png": "[encoded data removed]",
      "text/plain": [
       "<Figure size 432x288 with 1 Axes>"
      ]
     },
     "metadata": {
      "needs_background": "light"
     },
     "output_type": "display_data"
    }
   ],
   "source": [
    "std_values=np.subtract(values,values.mean(axis=0))\n",
    "std_values=np.divide(std_values,std_values.std(axis=0)+1e-14)\n",
    "pca=PCA(n_components=2)\n",
    "pca_results=pca.fit_transform(std_values)\n",
    "for i in range(7):\n",
    "    plt.plot(pca_results[i,0],pca_results[i,1],'*')\n",
    "plt.legend(['World','Germany','France','Belgium','Spain','Italy','Switzerland'])\n",
    "plt.xlabel('Principal component 1')\n",
    "plt.ylabel('Principal component 2')\n",
    "plt.title('Principal Component Analysis of association rules')\n",
    "plt.savefig('PCA.svg',bbox='tight')\n",
    "plt.show()"
   ]
  },
  {
   "cell_type": "code",
   "execution_count": 91,
   "metadata": {},
   "outputs": [
    {
     "data": {
      "image/png": "[encoded data removed]",
      "text/plain": [
       "<Figure size 432x288 with 1 Axes>"
      ]
     },
     "metadata": {
      "needs_background": "light"
     },
     "output_type": "display_data"
    }
   ],
   "source": [
    "fast_ica=FastICA(n_components=2)\n",
    "fast_ica_results=fast_ica.fit_transform(std_values)\n",
    "for i in range(7):\n",
    "    plt.plot(fast_ica_results[i,0],fast_ica_results[i,1],'*')\n",
    "plt.legend(['World','Germany','France','Belgium','Spain','Italy','Switzerland'])\n",
    "plt.xlabel('Independant componant 1')\n",
    "plt.ylabel('Independant componant 2')\n",
    "plt.title('Independent Component Analysis of association rules')\n",
    "plt.savefig('ICA.svg',bbox='tight')\n",
    "plt.show()"
   ]
  },
  {
   "cell_type": "code",
   "execution_count": 84,
   "metadata": {},
   "outputs": [],
   "source": [
    "input_=Input(shape=(values.shape[1],))\n",
    "first_layer=Dense(128,activation='selu')(input_)\n",
    "second_layer=Dense(64,activation='selu')(first_layer)\n",
    "coder=Dense(2,activation='linear')(second_layer)\n",
    "decode_second_layer=Dense(64,activation='selu')(coder)\n",
    "decode_first_layer=Dense(128,activation='selu')(decode_second_layer)\n",
    "output=Dense(values.shape[1],activation='linear')(decode_first_layer)\n",
    "\n",
    "autencoder=Model(input_,output)\n",
    "encoded=Model(input_,coder)\n",
    "autencoder.compile(optimizer='adam',loss='mean_squared_error')\n"
   ]
  },
  {
   "cell_type": "code",
   "execution_count": 85,
   "metadata": {},
   "outputs": [],
   "source": [
    "history=autencoder.fit(std_values,std_values,epochs=300,verbose=0)"
   ]
  },
  {
   "cell_type": "code",
   "execution_count": 86,
   "metadata": {},
   "outputs": [
    {
     "data": {
      "text/plain": [
       "[<matplotlib.lines.Line2D at 0x1c71c2f35c0>]"
      ]
     },
     "execution_count": 86,
     "metadata": {},
     "output_type": "execute_result"
    },
    {
     "data": {
      "image/png": "[encoded data removed]",
      "text/plain": [
       "<Figure size 432x288 with 1 Axes>"
      ]
     },
     "metadata": {
      "needs_background": "light"
     },
     "output_type": "display_data"
    }
   ],
   "source": [
    "plt.plot(history.history['loss'])"
   ]
  },
  {
   "cell_type": "code",
   "execution_count": 87,
   "metadata": {},
   "outputs": [],
   "source": [
    "encoded_values=encoded.predict(std_values)"
   ]
  },
  {
   "cell_type": "code",
   "execution_count": 90,
   "metadata": {},
   "outputs": [
    {
     "data": {
      "image/png": "[encoded data removed]",
      "text/plain": [
       "<Figure size 432x288 with 1 Axes>"
      ]
     },
     "metadata": {
      "needs_background": "light"
     },
     "output_type": "display_data"
    }
   ],
   "source": [
    "for i in range(7):\n",
    "    plt.plot(encoded_values[i,0],encoded_values[i,1],'*')\n",
    "plt.legend(['World','Germany','France','Belgium','Spain','Italy','Switzerland'])\n",
    "plt.xlabel('Latent feature 1')\n",
    "plt.ylabel('Latent feature 2')\n",
    "plt.title('Autoencoder of association rules')\n",
    "plt.savefig('autoencoder.svg',bbox='tight')\n",
    "plt.show()"
   ]
  },
  {
   "cell_type": "code",
   "execution_count": null,
   "metadata": {},
   "outputs": [],
   "source": []
  },
  {
   "cell_type": "code",
   "execution_count": null,
   "metadata": {},
   "outputs": [],
   "source": []
  }
 ],
 "metadata": {
  "kernelspec": {
   "display_name": "Python 3",
   "language": "python",
   "name": "python3"
  },
  "language_info": {
   "codemirror_mode": {
    "name": "ipython",
    "version": 3
   },
   "file_extension": ".py",
   "mimetype": "text/x-python",
   "name": "python",
   "nbconvert_exporter": "python",
   "pygments_lexer": "ipython3",
   "version": "3.6.7"
  }
 },
 "nbformat": 4,
 "nbformat_minor": 2
}
