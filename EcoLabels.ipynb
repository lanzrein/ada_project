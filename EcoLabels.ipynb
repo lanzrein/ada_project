{
 "cells": [
  {
   "cell_type": "markdown",
   "metadata": {},
   "source": [
    "- In this notebook we explore the eco-friendliness of products in terms of labels ! We will see there are many different labels and we will try to wrangle our way around those labels and see if we can reach any interesting conclusions"
   ]
  },
  {
   "cell_type": "code",
   "execution_count": 1,
   "metadata": {},
   "outputs": [],
   "source": [
    "import pandas as pd\n",
    "import numpy as np\n",
    "import scipy as scp\n",
    "import matplotlib.pyplot as plt"
   ]
  },
  {
   "cell_type": "code",
   "execution_count": 2,
   "metadata": {},
   "outputs": [],
   "source": [
    "DATAPATH = 'data/'"
   ]
  },
  {
   "cell_type": "code",
   "execution_count": 4,
   "metadata": {},
   "outputs": [
    {
     "data": {
      "text/plain": [
       "(99655, 3)"
      ]
     },
     "execution_count": 4,
     "metadata": {},
     "output_type": "execute_result"
    }
   ],
   "source": [
    "data = pd.read_csv(DATAPATH+'labels.csv',delimiter=',',low_memory=False)\n",
    "data.set_index('code',inplace=True)\n",
    "data.shape"
   ]
  },
  {
   "cell_type": "code",
   "execution_count": 3,
   "metadata": {},
   "outputs": [],
   "source": [
    "data_total = pd.read_csv(DATAPATH+'cleaned_unique_index.csv',delimiter=',',low_memory=False)\n",
    "data_total.set_index('code',inplace=True)"
   ]
  },
  {
   "cell_type": "code",
   "execution_count": 5,
   "metadata": {},
   "outputs": [
    {
     "data": {
      "text/html": [
       "<div>\n",
       "<style scoped>\n",
       "    .dataframe tbody tr th:only-of-type {\n",
       "        vertical-align: middle;\n",
       "    }\n",
       "\n",
       "    .dataframe tbody tr th {\n",
       "        vertical-align: top;\n",
       "    }\n",
       "\n",
       "    .dataframe thead th {\n",
       "        text-align: right;\n",
       "    }\n",
       "</style>\n",
       "<table border=\"1\" class=\"dataframe\">\n",
       "  <thead>\n",
       "    <tr style=\"text-align: right;\">\n",
       "      <th></th>\n",
       "      <th>labels</th>\n",
       "      <th>labels_tags</th>\n",
       "      <th>labels_en</th>\n",
       "    </tr>\n",
       "    <tr>\n",
       "      <th>code</th>\n",
       "      <th></th>\n",
       "      <th></th>\n",
       "      <th></th>\n",
       "    </tr>\n",
       "  </thead>\n",
       "  <tbody>\n",
       "    <tr>\n",
       "      <th>0000000020114</th>\n",
       "      <td>Fabriqué en France</td>\n",
       "      <td>en:made-in-france</td>\n",
       "      <td>Made in France</td>\n",
       "    </tr>\n",
       "    <tr>\n",
       "      <th>0000000274722</th>\n",
       "      <td>Viande Française,Fabriqué en France</td>\n",
       "      <td>fr:viande-francaise,en:made-in-france</td>\n",
       "      <td>fr:Viande Française,Made in France</td>\n",
       "    </tr>\n",
       "    <tr>\n",
       "      <th>0000003444009</th>\n",
       "      <td>Contient des OGM</td>\n",
       "      <td>en:contains-gmos</td>\n",
       "      <td>Contains GMOs</td>\n",
       "    </tr>\n",
       "    <tr>\n",
       "      <th>0000005200016</th>\n",
       "      <td>AB</td>\n",
       "      <td>en:organic,en:eu-organic,fr:ab-agriculture-bio...</td>\n",
       "      <td>Organic,EU Organic,fr:AB Agriculture Biologique</td>\n",
       "    </tr>\n",
       "    <tr>\n",
       "      <th>0000007020254</th>\n",
       "      <td>Kascher,Contient des OGM</td>\n",
       "      <td>en:kosher,en:contains-gmos</td>\n",
       "      <td>Kosher,Contains GMOs</td>\n",
       "    </tr>\n",
       "  </tbody>\n",
       "</table>\n",
       "</div>"
      ],
      "text/plain": [
       "                                            labels  \\\n",
       "code                                                 \n",
       "0000000020114                   Fabriqué en France   \n",
       "0000000274722  Viande Française,Fabriqué en France   \n",
       "0000003444009                     Contient des OGM   \n",
       "0000005200016                                   AB   \n",
       "0000007020254             Kascher,Contient des OGM   \n",
       "\n",
       "                                                     labels_tags  \\\n",
       "code                                                               \n",
       "0000000020114                                  en:made-in-france   \n",
       "0000000274722              fr:viande-francaise,en:made-in-france   \n",
       "0000003444009                                   en:contains-gmos   \n",
       "0000005200016  en:organic,en:eu-organic,fr:ab-agriculture-bio...   \n",
       "0000007020254                         en:kosher,en:contains-gmos   \n",
       "\n",
       "                                                     labels_en  \n",
       "code                                                            \n",
       "0000000020114                                   Made in France  \n",
       "0000000274722               fr:Viande Française,Made in France  \n",
       "0000003444009                                    Contains GMOs  \n",
       "0000005200016  Organic,EU Organic,fr:AB Agriculture Biologique  \n",
       "0000007020254                             Kosher,Contains GMOs  "
      ]
     },
     "execution_count": 5,
     "metadata": {},
     "output_type": "execute_result"
    }
   ],
   "source": [
    "data.head()"
   ]
  },
  {
   "cell_type": "code",
   "execution_count": 28,
   "metadata": {
    "scrolled": true
   },
   "outputs": [
    {
     "data": {
      "text/html": [
       "<div>\n",
       "<style scoped>\n",
       "    .dataframe tbody tr th:only-of-type {\n",
       "        vertical-align: middle;\n",
       "    }\n",
       "\n",
       "    .dataframe tbody tr th {\n",
       "        vertical-align: top;\n",
       "    }\n",
       "\n",
       "    .dataframe thead th {\n",
       "        text-align: right;\n",
       "    }\n",
       "</style>\n",
       "<table border=\"1\" class=\"dataframe\">\n",
       "  <thead>\n",
       "    <tr style=\"text-align: right;\">\n",
       "      <th></th>\n",
       "      <th>labels_en</th>\n",
       "    </tr>\n",
       "    <tr>\n",
       "      <th>code</th>\n",
       "      <th></th>\n",
       "    </tr>\n",
       "  </thead>\n",
       "  <tbody>\n",
       "    <tr>\n",
       "      <th>0000000020114</th>\n",
       "      <td>Made in France</td>\n",
       "    </tr>\n",
       "    <tr>\n",
       "      <th>0000000274722</th>\n",
       "      <td>fr:Viande Française</td>\n",
       "    </tr>\n",
       "    <tr>\n",
       "      <th>0000003444009</th>\n",
       "      <td>Contains GMOs</td>\n",
       "    </tr>\n",
       "    <tr>\n",
       "      <th>0000005200016</th>\n",
       "      <td>Organic</td>\n",
       "    </tr>\n",
       "    <tr>\n",
       "      <th>0000007020254</th>\n",
       "      <td>Kosher</td>\n",
       "    </tr>\n",
       "  </tbody>\n",
       "</table>\n",
       "</div>"
      ],
      "text/plain": [
       "                         labels_en\n",
       "code                              \n",
       "0000000020114       Made in France\n",
       "0000000274722  fr:Viande Française\n",
       "0000003444009        Contains GMOs\n",
       "0000005200016              Organic\n",
       "0000007020254               Kosher"
      ]
     },
     "execution_count": 28,
     "metadata": {},
     "output_type": "execute_result"
    }
   ],
   "source": [
    "# We do a 'flatmap' trick...\n",
    "label_flatted = data[\"labels_en\"].str.split(',').apply(pd.Series).unstack().dropna().to_frame()\n",
    "label_flatted.columns = [\"labels_en\"]\n",
    "label_flatted = label_flatted.reset_index().set_index(\"code\")\n",
    "label_flatted = label_flatted[[\"labels_en\"]]\n",
    "label_flatted.head()"
   ]
  },
  {
   "cell_type": "code",
   "execution_count": 30,
   "metadata": {},
   "outputs": [],
   "source": [
    "organic = label_flatted[label_flatted[\"labels_en\"].str.contains(\"Organic\")]\n",
    "organic = organic[~organic.index.duplicated()] ## We don't want to many. \n"
   ]
  },
  {
   "cell_type": "code",
   "execution_count": 31,
   "metadata": {},
   "outputs": [
    {
     "name": "stdout",
     "output_type": "stream",
     "text": [
      "There are 37395 articles with label organic\n",
      "This represents 0.056175 % of articles \n"
     ]
    }
   ],
   "source": [
    "cnt_organic = organic.shape[0]\n",
    "total_cnt = data_total.shape[0]\n",
    "percentage = cnt_organic / total_cnt\n",
    "print(\"There are %d articles with label organic\" % cnt_organic)\n",
    "print(\"This represents %f %% of articles \" % percentage)"
   ]
  },
  {
   "cell_type": "code",
   "execution_count": 39,
   "metadata": {
    "scrolled": true
   },
   "outputs": [
    {
     "data": {
      "text/html": [
       "<div>\n",
       "<style scoped>\n",
       "    .dataframe tbody tr th:only-of-type {\n",
       "        vertical-align: middle;\n",
       "    }\n",
       "\n",
       "    .dataframe tbody tr th {\n",
       "        vertical-align: top;\n",
       "    }\n",
       "\n",
       "    .dataframe thead th {\n",
       "        text-align: right;\n",
       "    }\n",
       "</style>\n",
       "<table border=\"1\" class=\"dataframe\">\n",
       "  <thead>\n",
       "    <tr style=\"text-align: right;\">\n",
       "      <th></th>\n",
       "      <th>labels_en</th>\n",
       "    </tr>\n",
       "    <tr>\n",
       "      <th>code</th>\n",
       "      <th></th>\n",
       "    </tr>\n",
       "  </thead>\n",
       "  <tbody>\n",
       "    <tr>\n",
       "      <th>0018627740001</th>\n",
       "      <td>Bio</td>\n",
       "    </tr>\n",
       "    <tr>\n",
       "      <th>0221109418736</th>\n",
       "      <td>it:Bio</td>\n",
       "    </tr>\n",
       "    <tr>\n",
       "      <th>02516101</th>\n",
       "      <td>fr:Biogroupe</td>\n",
       "    </tr>\n",
       "    <tr>\n",
       "      <th>0621456277183</th>\n",
       "      <td>fr:Biologique-avec-legumes</td>\n",
       "    </tr>\n",
       "    <tr>\n",
       "      <th>11044204</th>\n",
       "      <td>fr:Bio7</td>\n",
       "    </tr>\n",
       "  </tbody>\n",
       "</table>\n",
       "</div>"
      ],
      "text/plain": [
       "                                labels_en\n",
       "code                                     \n",
       "0018627740001                         Bio\n",
       "0221109418736                      it:Bio\n",
       "02516101                     fr:Biogroupe\n",
       "0621456277183  fr:Biologique-avec-legumes\n",
       "11044204                          fr:Bio7"
      ]
     },
     "execution_count": 39,
     "metadata": {},
     "output_type": "execute_result"
    }
   ],
   "source": [
    "bio = label_flatted[label_flatted[\"labels_en\"].str.contains(\"Bio\")]\n",
    "bio = bio[~bio.index.duplicated()] ## We don't want to many. \n",
    "bio.head()"
   ]
  },
  {
   "cell_type": "code",
   "execution_count": 33,
   "metadata": {},
   "outputs": [
    {
     "name": "stdout",
     "output_type": "stream",
     "text": [
      "There are 37395 articles with label organic\n",
      "This represents 0.056175 % of articles \n",
      "There are 13886 articles with label bio\n",
      "This represents 0.020859 % of articles \n"
     ]
    }
   ],
   "source": [
    "cnt_organic = organic.shape[0]\n",
    "cnt_bio = bio.shape[0]\n",
    "total_cnt = data_total.shape[0]\n",
    "percentage_organic = cnt_organic / total_cnt\n",
    "percentage_bio = cnt_bio / total_cnt\n",
    "print(\"There are %d articles with label organic\" % cnt_organic)\n",
    "print(\"This represents %f %% of articles \" % percentage_organic)\n",
    "print(\"There are %d articles with label bio\" % cnt_bio)\n",
    "print(\"This represents %f %% of articles \" % percentage_bio)"
   ]
  },
  {
   "cell_type": "code",
   "execution_count": 46,
   "metadata": {},
   "outputs": [
    {
     "data": {
      "image/png": "[encoded data removed]",
      "text/plain": [
       "<Figure size 432x288 with 1 Axes>"
      ]
     },
     "metadata": {
      "needs_background": "light"
     },
     "output_type": "display_data"
    }
   ],
   "source": [
    "label_flatted[np.logical_not(label_flatted[\"labels_en\"].str.startswith(\"fr:\"))][\"labels_en\"].value_counts().nlargest(10).plot.barh(color='b')\n",
    "plt.savefig(\"img/labels/count_by_label.png\",bbox_inches='tight')\n",
    "plt.show()"
   ]
  },
  {
   "cell_type": "markdown",
   "metadata": {},
   "source": [
    "- We can see that the most popular label is organic, there are also a lot of articles having the green dot label which is depicted below for people who do not know what it is. \n",
    "- In order here are the most popular labels, unfortunately having an organic label is not a real label. It is a wide concept. Agriculture biologique is a french label. \n",
    "<img src=\"img/eu_organic.jpg\" alt=\"EU Organic\">\n",
    "<img src=\"img/green_dot.svg\" alt=\"Green Dot\">\n",
    "<img src=\"img/agri_bio.png\" alt=\"Agriculture biologique\">\n"
   ]
  },
  {
   "cell_type": "markdown",
   "metadata": {},
   "source": [
    "- We now focus on those three mentionned label to see where we can find them most. \n"
   ]
  },
  {
   "cell_type": "code",
   "execution_count": 36,
   "metadata": {},
   "outputs": [],
   "source": [
    "top_4 = label_flatted[\"labels_en\"].value_counts().nlargest(4)\n",
    "top_4 = list(top_4.index)\n",
    "top_4_articles = label_flatted[label_flatted[\"labels_en\"].apply(lambda r : r in top_4)]"
   ]
  },
  {
   "cell_type": "code",
   "execution_count": 37,
   "metadata": {
    "scrolled": true
   },
   "outputs": [
    {
     "data": {
      "text/html": [
       "<div>\n",
       "<style scoped>\n",
       "    .dataframe tbody tr th:only-of-type {\n",
       "        vertical-align: middle;\n",
       "    }\n",
       "\n",
       "    .dataframe tbody tr th {\n",
       "        vertical-align: top;\n",
       "    }\n",
       "\n",
       "    .dataframe thead th {\n",
       "        text-align: right;\n",
       "    }\n",
       "</style>\n",
       "<table border=\"1\" class=\"dataframe\">\n",
       "  <thead>\n",
       "    <tr style=\"text-align: right;\">\n",
       "      <th></th>\n",
       "      <th>labels_en</th>\n",
       "      <th>origins_tags</th>\n",
       "    </tr>\n",
       "    <tr>\n",
       "      <th>code</th>\n",
       "      <th></th>\n",
       "      <th></th>\n",
       "    </tr>\n",
       "  </thead>\n",
       "  <tbody>\n",
       "    <tr>\n",
       "      <th>00028202</th>\n",
       "      <td>Green Dot</td>\n",
       "      <td>royaume-uni</td>\n",
       "    </tr>\n",
       "    <tr>\n",
       "      <th>00035460</th>\n",
       "      <td>Green Dot</td>\n",
       "      <td>vietnam</td>\n",
       "    </tr>\n",
       "    <tr>\n",
       "      <th>00050319</th>\n",
       "      <td>Organic</td>\n",
       "      <td>france</td>\n",
       "    </tr>\n",
       "    <tr>\n",
       "      <th>00050319</th>\n",
       "      <td>EU Organic</td>\n",
       "      <td>france</td>\n",
       "    </tr>\n",
       "    <tr>\n",
       "      <th>00050319</th>\n",
       "      <td>fr:AB Agriculture Biologique</td>\n",
       "      <td>france</td>\n",
       "    </tr>\n",
       "  </tbody>\n",
       "</table>\n",
       "</div>"
      ],
      "text/plain": [
       "                             labels_en origins_tags\n",
       "code                                               \n",
       "00028202                     Green Dot  royaume-uni\n",
       "00035460                     Green Dot      vietnam\n",
       "00050319                       Organic       france\n",
       "00050319                    EU Organic       france\n",
       "00050319  fr:AB Agriculture Biologique       france"
      ]
     },
     "execution_count": 37,
     "metadata": {},
     "output_type": "execute_result"
    }
   ],
   "source": [
    "top_4_all = top_4_articles.join(data_total[\"origins_tags\"], how=\"inner\",lsuffix=\"l\",rsuffix=\"r\").dropna(subset=[\"origins_tags\"])\n",
    "top_4_all.head()"
   ]
  },
  {
   "cell_type": "code",
   "execution_count": 38,
   "metadata": {},
   "outputs": [
    {
     "data": {
      "image/png": "[encoded data removed]",
      "text/plain": [
       "<Figure size 864x576 with 1 Axes>"
      ]
     },
     "metadata": {
      "needs_background": "light"
     },
     "output_type": "display_data"
    }
   ],
   "source": [
    "\n",
    "top_4_all[np.logical_not(np.logical_or(top_4_all[\"origins_tags\"].str.contains(\"eu\"),top_4_all[\"origins_tags\"].str.contains(\"ue\")))][\"origins_tags\"].value_counts().nlargest(15).plot.barh(figsize=(12,8),title=\"Origin of articles that come from the top 4 labels\",color='b')\n",
    "plt.savefig(\"img/labels/origin_top_4_labels\",bboxes_inches='tight')\n",
    "plt.show()"
   ]
  },
  {
   "cell_type": "markdown",
   "metadata": {},
   "source": [
    "- We can see that most products come from France however there are a number of articles that come way further than france, it will be interesting to see to study where they are being sold, but this will be done in depth in an other study. "
   ]
  },
  {
   "cell_type": "code",
   "execution_count": null,
   "metadata": {},
   "outputs": [],
   "source": []
  },
  {
   "cell_type": "code",
   "execution_count": null,
   "metadata": {},
   "outputs": [],
   "source": []
  }
 ],
 "metadata": {
  "kernelspec": {
   "display_name": "Python [conda env:ada]",
   "language": "python",
   "name": "conda-env-ada-py"
  },
  "language_info": {
   "codemirror_mode": {
    "name": "ipython",
    "version": 3
   },
   "file_extension": ".py",
   "mimetype": "text/x-python",
   "name": "python",
   "nbconvert_exporter": "python",
   "pygments_lexer": "ipython3",
   "version": "3.6.6"
  }
 },
 "nbformat": 4,
 "nbformat_minor": 2
}
